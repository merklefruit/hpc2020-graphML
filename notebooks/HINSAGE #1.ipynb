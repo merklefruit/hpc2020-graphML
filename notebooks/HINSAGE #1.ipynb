{
 "cells": [
  {
   "cell_type": "code",
   "execution_count": 39,
   "metadata": {},
   "outputs": [],
   "source": [
    "import time\n",
    "import json\n",
    "import pandas as pd\n",
    "import numpy as np\n",
    "from sklearn import preprocessing, feature_extraction, model_selection\n",
    "from sklearn.metrics import mean_absolute_error, mean_squared_error\n",
    "\n",
    "import stellargraph as sg\n",
    "from stellargraph.mapper import HinSAGENodeGenerator\n",
    "from stellargraph.layer import HinSAGE, Dense\n",
    "from tensorflow.keras import Model, optimizers, losses, metrics\n",
    "\n",
    "import time\n",
    "from sklearn.manifold import TSNE\n",
    "\n",
    "import multiprocessing\n",
    "from stellargraph import datasets\n",
    "from IPython.display import display, HTML\n",
    "import matplotlib.pyplot as plt\n",
    "%matplotlib inline"
   ]
  },
  {
   "cell_type": "code",
   "execution_count": 2,
   "metadata": {},
   "outputs": [
    {
     "name": "stdout",
     "output_type": "stream",
     "text": [
      "Running the scripts sequentially \n",
      "\n",
      "LOADING DATA: 59.96 s\n",
      "SUBSAMPLING: 0.05 s\n",
      "PREPROCESSING: Complete in 0.05 s\n"
     ]
    }
   ],
   "source": [
    "import sys\n",
    "sys.path.append('../')\n",
    "\n",
    "import run\n",
    "\n",
    "v_sets, e_sets, core_targets, ext_targets = run.main()"
   ]
  },
  {
   "cell_type": "code",
   "execution_count": 3,
   "metadata": {},
   "outputs": [],
   "source": [
    "batch_size = 200\n",
    "epochs = 20\n",
    "# Use 70% of edges for training, the rest for testing:\n",
    "train_size = 0.7\n",
    "test_size = 0.3"
   ]
  },
  {
   "cell_type": "code",
   "execution_count": 4,
   "metadata": {},
   "outputs": [],
   "source": [
    "# Initialize SG graph\n",
    "G = sg.StellarDiGraph(v_sets, e_sets)"
   ]
  },
  {
   "cell_type": "code",
   "execution_count": 5,
   "metadata": {},
   "outputs": [],
   "source": [
    "nodes_with_labels = v_sets.copy()"
   ]
  },
  {
   "cell_type": "code",
   "execution_count": 6,
   "metadata": {},
   "outputs": [
    {
     "data": {
      "text/plain": [
       "2693"
      ]
     },
     "execution_count": 6,
     "metadata": {},
     "output_type": "execute_result"
    }
   ],
   "source": [
    "ext_targets.size"
   ]
  },
  {
   "cell_type": "code",
   "execution_count": 8,
   "metadata": {
    "scrolled": false
   },
   "outputs": [
    {
     "name": "stdout",
     "output_type": "stream",
     "text": [
      "StellarDiGraph: Directed multigraph\n",
      " Nodes: 19071, Edges: 10000\n",
      "\n",
      " Node types:\n",
      "  Account: [11071]\n",
      "    Features: float32 vector, length 3\n",
      "    Edge types: Account-money transfer->Account, Account-money transfer->Derived Entity\n",
      "  Customer: [3449]\n",
      "    Features: float32 vector, length 5\n",
      "    Edge types: Customer-has account->Account, Customer-has address->Address, Customer-is similar->External Entity\n",
      "  Derived Entity: [2975]\n",
      "    Features: float32 vector, length 4\n",
      "    Edge types: Derived Entity-is similar->External Entity, Derived Entity-money transfer->Account\n",
      "  External Entity: [1138]\n",
      "    Features: float32 vector, length 4\n",
      "    Edge types: none\n",
      "  Address: [438]\n",
      "    Features: float32 vector, length 2\n",
      "    Edge types: none\n",
      "\n",
      " Edge types:\n",
      "    Account-money transfer->Account: [3278]\n",
      "        Weights: range=[1, 500], mean=184.361, std=224.779\n",
      "        Features: none\n",
      "    Customer-has account->Account: [2979]\n",
      "        Weights: all 1 (default)\n",
      "        Features: none\n",
      "    Account-money transfer->Derived Entity: [1081]\n",
      "        Weights: range=[1, 500], mean=177.641, std=223.131\n",
      "        Features: none\n",
      "    Derived Entity-money transfer->Account: [1072]\n",
      "        Weights: range=[1, 500], mean=167.744, std=218.29\n",
      "        Features: none\n",
      "    Derived Entity-is similar->External Entity: [1022]\n",
      "        Weights: range=[1, 3], mean=2.02838, std=0.828116\n",
      "        Features: none\n",
      "    Customer-has address->Address: [444]\n",
      "        Weights: all 1 (default)\n",
      "        Features: none\n",
      "    Customer-is similar->External Entity: [124]\n",
      "        Weights: range=[1, 3], mean=1.98387, std=0.836017\n",
      "        Features: none\n"
     ]
    }
   ],
   "source": [
    "print(G.info())"
   ]
  },
  {
   "cell_type": "code",
   "execution_count": 11,
   "metadata": {},
   "outputs": [],
   "source": [
    "# Split edges into train and test sets\n",
    "\n",
    "train_ID, test_ID = model_selection.train_test_split(\n",
    "    ext_targets, train_size=train_size, test_size=test_size, #stratify=ext_targets\n",
    ")"
   ]
  },
  {
   "cell_type": "code",
   "execution_count": 12,
   "metadata": {},
   "outputs": [],
   "source": [
    "# Select only nodes of type \"Account\" for prediction\n",
    "\n",
    "train_ID = train_ID[train_ID.index.isin(v_sets['Account'].index)]\n",
    "test_ID = test_ID[test_ID.index.isin(v_sets['Account'].index)]"
   ]
  },
  {
   "cell_type": "code",
   "execution_count": 13,
   "metadata": {},
   "outputs": [],
   "source": [
    "# Convert targets labels in one-hot encoded features (optional, for categorical targets)\n",
    "\n",
    "target_encoding = preprocessing.LabelBinarizer()\n",
    "train_targets = target_encoding.fit_transform(train_ID)\n",
    "test_targets = target_encoding.transform(test_ID)"
   ]
  },
  {
   "cell_type": "code",
   "execution_count": 14,
   "metadata": {},
   "outputs": [
    {
     "data": {
      "text/plain": [
       "(880, 1)"
      ]
     },
     "execution_count": 14,
     "metadata": {},
     "output_type": "execute_result"
    }
   ],
   "source": [
    "train_ID.shape"
   ]
  },
  {
   "cell_type": "code",
   "execution_count": 15,
   "metadata": {},
   "outputs": [
    {
     "data": {
      "text/plain": [
       "(880, 648)"
      ]
     },
     "execution_count": 15,
     "metadata": {},
     "output_type": "execute_result"
    }
   ],
   "source": [
    "train_targets.shape"
   ]
  },
  {
   "cell_type": "code",
   "execution_count": 16,
   "metadata": {},
   "outputs": [],
   "source": [
    "# USING train_ID vs train_targets ??"
   ]
  },
  {
   "cell_type": "code",
   "execution_count": 149,
   "metadata": {},
   "outputs": [],
   "source": [
    "labels_train = train_ID\n",
    "labels_test = test_ID"
   ]
  },
  {
   "cell_type": "code",
   "execution_count": 17,
   "metadata": {},
   "outputs": [],
   "source": [
    "# Choosing a 2 layer model with 8 nodes sampled in the first layer and 4 in the second.\n",
    "num_samples = [8, 4]\n",
    "# we can do 8*4 = 32x32 hidden layer size, since len(num_samples) defines \n",
    "# the number of hops (layers) in the HinSAGE model"
   ]
  },
  {
   "cell_type": "code",
   "execution_count": 18,
   "metadata": {},
   "outputs": [],
   "source": [
    "'''\n",
    "HinSAGENodeGenerator(G, batch_size, num_samples, head_node_type=None, schema=None, seed=None, name=None)\n",
    "\n",
    "G = graph\n",
    "batch_size = size of batch to return\n",
    "num_samples = the number of samples per layer (hop) to take\n",
    "head_node_type = the node type that will be given to the generator using the flow method. \n",
    "                  The model will expect this type.\n",
    "                  If not given, it defaults to a single node type.\n",
    "'''\n",
    "\n",
    "generator = HinSAGENodeGenerator(\n",
    "    G, \n",
    "    batch_size, \n",
    "    num_samples,\n",
    "    head_node_type=\"Account\"\n",
    ")"
   ]
  },
  {
   "cell_type": "code",
   "execution_count": 20,
   "metadata": {},
   "outputs": [],
   "source": [
    "# Flow\n",
    "\n",
    "train_gen = generator.flow(train_ID.index, train_targets, shuffle=True)\n",
    "test_gen = generator.flow(test_ID.index, test_targets)"
   ]
  },
  {
   "cell_type": "code",
   "execution_count": null,
   "metadata": {},
   "outputs": [],
   "source": []
  },
  {
   "cell_type": "code",
   "execution_count": 21,
   "metadata": {},
   "outputs": [],
   "source": [
    "hinsage_layer_sizes = [32, 32]\n",
    "assert len(hinsage_layer_sizes) == len(num_samples)"
   ]
  },
  {
   "cell_type": "code",
   "execution_count": 22,
   "metadata": {},
   "outputs": [],
   "source": [
    "# Dropout\n",
    "# (must be tuned)\n",
    "\n",
    "dropout = 0.0"
   ]
  },
  {
   "cell_type": "code",
   "execution_count": 31,
   "metadata": {},
   "outputs": [],
   "source": [
    "hinsage = HinSAGE(\n",
    "    layer_sizes=hinsage_layer_sizes,\n",
    "    activations=['relu', 'softmax'],\n",
    "    generator=generator, \n",
    "    bias=True, \n",
    "    dropout=dropout\n",
    ")"
   ]
  },
  {
   "cell_type": "code",
   "execution_count": 32,
   "metadata": {},
   "outputs": [],
   "source": [
    "# Expose input and output sockets of hinsage:\n",
    "\n",
    "x_inp, x_out = hinsage.in_out_tensors()"
   ]
  },
  {
   "cell_type": "code",
   "execution_count": 44,
   "metadata": {},
   "outputs": [],
   "source": [
    "# TSNE\n",
    "\n",
    "# TODO"
   ]
  },
  {
   "cell_type": "code",
   "execution_count": 33,
   "metadata": {},
   "outputs": [],
   "source": [
    "# predictions\n",
    "\n",
    "prediction = Dense(units=train_targets.shape[1], activation=\"softmax\")(x_out)"
   ]
  },
  {
   "cell_type": "code",
   "execution_count": 34,
   "metadata": {},
   "outputs": [],
   "source": [
    "# Model\n",
    "\n",
    "model = Model(\n",
    "    inputs=x_inp,\n",
    "    outputs=prediction\n",
    ")"
   ]
  },
  {
   "cell_type": "code",
   "execution_count": 35,
   "metadata": {},
   "outputs": [],
   "source": [
    "# Training\n",
    "\n",
    "model.compile(\n",
    "    optimizer=optimizers.Adam(lr=0.005),\n",
    "    loss=losses.categorical_crossentropy,\n",
    "    metrics=[\"acc\"],\n",
    ")"
   ]
  },
  {
   "cell_type": "code",
   "execution_count": 46,
   "metadata": {},
   "outputs": [
    {
     "name": "stdout",
     "output_type": "stream",
     "text": [
      "Model: \"functional_3\"\n",
      "__________________________________________________________________________________________________\n",
      "Layer (type)                    Output Shape         Param #     Connected to                     \n",
      "==================================================================================================\n",
      "input_9 (InputLayer)            [(None, 8, 3)]       0                                            \n",
      "__________________________________________________________________________________________________\n",
      "input_10 (InputLayer)           [(None, 8, 4)]       0                                            \n",
      "__________________________________________________________________________________________________\n",
      "input_11 (InputLayer)           [(None, 32, 3)]      0                                            \n",
      "__________________________________________________________________________________________________\n",
      "input_12 (InputLayer)           [(None, 32, 4)]      0                                            \n",
      "__________________________________________________________________________________________________\n",
      "input_13 (InputLayer)           [(None, 32, 4)]      0                                            \n",
      "__________________________________________________________________________________________________\n",
      "input_14 (InputLayer)           [(None, 32, 3)]      0                                            \n",
      "__________________________________________________________________________________________________\n",
      "input_8 (InputLayer)            [(None, 1, 3)]       0                                            \n",
      "__________________________________________________________________________________________________\n",
      "reshape_9 (Reshape)             (None, 1, 8, 3)      0           input_9[0][0]                    \n",
      "__________________________________________________________________________________________________\n",
      "reshape_10 (Reshape)            (None, 1, 8, 4)      0           input_10[0][0]                   \n",
      "__________________________________________________________________________________________________\n",
      "reshape_11 (Reshape)            (None, 8, 4, 3)      0           input_11[0][0]                   \n",
      "__________________________________________________________________________________________________\n",
      "reshape_12 (Reshape)            (None, 8, 4, 4)      0           input_12[0][0]                   \n",
      "__________________________________________________________________________________________________\n",
      "reshape_13 (Reshape)            (None, 8, 4, 4)      0           input_13[0][0]                   \n",
      "__________________________________________________________________________________________________\n",
      "reshape_14 (Reshape)            (None, 8, 4, 3)      0           input_14[0][0]                   \n",
      "__________________________________________________________________________________________________\n",
      "dropout_14 (Dropout)            (None, 1, 3)         0           input_8[0][0]                    \n",
      "__________________________________________________________________________________________________\n",
      "dropout_12 (Dropout)            (None, 1, 8, 3)      0           reshape_9[0][0]                  \n",
      "__________________________________________________________________________________________________\n",
      "dropout_13 (Dropout)            (None, 1, 8, 4)      0           reshape_10[0][0]                 \n",
      "__________________________________________________________________________________________________\n",
      "dropout_17 (Dropout)            (None, 8, 3)         0           input_9[0][0]                    \n",
      "__________________________________________________________________________________________________\n",
      "dropout_15 (Dropout)            (None, 8, 4, 3)      0           reshape_11[0][0]                 \n",
      "__________________________________________________________________________________________________\n",
      "dropout_16 (Dropout)            (None, 8, 4, 4)      0           reshape_12[0][0]                 \n",
      "__________________________________________________________________________________________________\n",
      "dropout_20 (Dropout)            (None, 8, 4)         0           input_10[0][0]                   \n",
      "__________________________________________________________________________________________________\n",
      "dropout_18 (Dropout)            (None, 8, 4, 4)      0           reshape_13[0][0]                 \n",
      "__________________________________________________________________________________________________\n",
      "dropout_19 (Dropout)            (None, 8, 4, 3)      0           reshape_14[0][0]                 \n",
      "__________________________________________________________________________________________________\n",
      "mean_hin_aggregator_3 (MeanHinA multiple             192         dropout_14[0][0]                 \n",
      "                                                                 dropout_12[0][0]                 \n",
      "                                                                 dropout_13[0][0]                 \n",
      "                                                                 dropout_17[0][0]                 \n",
      "                                                                 dropout_15[0][0]                 \n",
      "                                                                 dropout_16[0][0]                 \n",
      "__________________________________________________________________________________________________\n",
      "mean_hin_aggregator_4 (MeanHinA (None, 8, 32)        208         dropout_20[0][0]                 \n",
      "                                                                 dropout_18[0][0]                 \n",
      "                                                                 dropout_19[0][0]                 \n",
      "__________________________________________________________________________________________________\n",
      "reshape_15 (Reshape)            (None, 1, 8, 32)     0           mean_hin_aggregator_3[1][0]      \n",
      "__________________________________________________________________________________________________\n",
      "reshape_16 (Reshape)            (None, 1, 8, 32)     0           mean_hin_aggregator_4[0][0]      \n",
      "__________________________________________________________________________________________________\n",
      "dropout_23 (Dropout)            (None, 1, 32)        0           mean_hin_aggregator_3[0][0]      \n",
      "__________________________________________________________________________________________________\n",
      "dropout_21 (Dropout)            (None, 1, 8, 32)     0           reshape_15[0][0]                 \n",
      "__________________________________________________________________________________________________\n",
      "dropout_22 (Dropout)            (None, 1, 8, 32)     0           reshape_16[0][0]                 \n",
      "__________________________________________________________________________________________________\n",
      "mean_hin_aggregator_5 (MeanHinA (None, 1, 32)        1568        dropout_23[0][0]                 \n",
      "                                                                 dropout_21[0][0]                 \n",
      "                                                                 dropout_22[0][0]                 \n",
      "__________________________________________________________________________________________________\n",
      "reshape_17 (Reshape)            (None, 32)           0           mean_hin_aggregator_5[0][0]      \n",
      "__________________________________________________________________________________________________\n",
      "lambda_1 (Lambda)               (None, 32)           0           reshape_17[0][0]                 \n",
      "__________________________________________________________________________________________________\n",
      "dense_1 (Dense)                 (None, 648)          21384       lambda_1[0][0]                   \n",
      "==================================================================================================\n",
      "Total params: 23,352\n",
      "Trainable params: 23,352\n",
      "Non-trainable params: 0\n",
      "__________________________________________________________________________________________________\n"
     ]
    }
   ],
   "source": [
    "model.summary()"
   ]
  },
  {
   "cell_type": "code",
   "execution_count": 36,
   "metadata": {},
   "outputs": [
    {
     "name": "stdout",
     "output_type": "stream",
     "text": [
      "Epoch 1/20\n",
      "5/5 [==============================] - 1s 158ms/step - loss: 6.4799 - acc: 0.0023 - val_loss: 2.4603 - val_acc: 0.0112\n",
      "Epoch 2/20\n",
      "5/5 [==============================] - 0s 84ms/step - loss: 6.4645 - acc: 0.0068 - val_loss: 2.4584 - val_acc: 0.0112\n",
      "Epoch 3/20\n",
      "5/5 [==============================] - 0s 84ms/step - loss: 6.4530 - acc: 0.0057 - val_loss: 2.4564 - val_acc: 0.0112\n",
      "Epoch 4/20\n",
      "5/5 [==============================] - 0s 83ms/step - loss: 6.4528 - acc: 0.0091 - val_loss: 2.4533 - val_acc: 0.0056\n",
      "Epoch 5/20\n",
      "5/5 [==============================] - 1s 104ms/step - loss: 6.4593 - acc: 0.0045 - val_loss: 2.4577 - val_acc: 0.0056\n",
      "Epoch 6/20\n",
      "5/5 [==============================] - 0s 82ms/step - loss: 6.4508 - acc: 0.0057 - val_loss: 2.4526 - val_acc: 0.0084\n",
      "Epoch 7/20\n",
      "5/5 [==============================] - 0s 80ms/step - loss: 6.4348 - acc: 0.0068 - val_loss: 2.4505 - val_acc: 0.0056\n",
      "Epoch 8/20\n",
      "5/5 [==============================] - 0s 82ms/step - loss: 6.4253 - acc: 0.0091 - val_loss: 2.4501 - val_acc: 0.0028\n",
      "Epoch 9/20\n",
      "5/5 [==============================] - 1s 105ms/step - loss: 6.4196 - acc: 0.0091 - val_loss: 2.4496 - val_acc: 0.0028\n",
      "Epoch 10/20\n",
      "5/5 [==============================] - 0s 82ms/step - loss: 6.4087 - acc: 0.0080 - val_loss: 2.4490 - val_acc: 0.0028\n",
      "Epoch 11/20\n",
      "5/5 [==============================] - 0s 83ms/step - loss: 6.4012 - acc: 0.0091 - val_loss: 2.4483 - val_acc: 0.0028\n",
      "Epoch 12/20\n",
      "5/5 [==============================] - 0s 81ms/step - loss: 6.3925 - acc: 0.0102 - val_loss: 2.4481 - val_acc: 0.0028\n",
      "Epoch 13/20\n",
      "5/5 [==============================] - 0s 82ms/step - loss: 6.3826 - acc: 0.0102 - val_loss: 2.4473 - val_acc: 0.0028\n",
      "Epoch 14/20\n",
      "5/5 [==============================] - 0s 83ms/step - loss: 6.3741 - acc: 0.0102 - val_loss: 2.4463 - val_acc: 0.0056\n",
      "Epoch 15/20\n",
      "5/5 [==============================] - 1s 105ms/step - loss: 6.3723 - acc: 0.0102 - val_loss: 2.4452 - val_acc: 0.0028\n",
      "Epoch 16/20\n",
      "5/5 [==============================] - 0s 85ms/step - loss: 6.3535 - acc: 0.0102 - val_loss: 2.4444 - val_acc: 0.0028\n",
      "Epoch 17/20\n",
      "5/5 [==============================] - 0s 83ms/step - loss: 6.3450 - acc: 0.0102 - val_loss: 2.4438 - val_acc: 0.0028\n",
      "Epoch 18/20\n",
      "5/5 [==============================] - 0s 83ms/step - loss: 6.3366 - acc: 0.0102 - val_loss: 2.4404 - val_acc: 0.0084\n",
      "Epoch 19/20\n",
      "5/5 [==============================] - 0s 82ms/step - loss: 6.3692 - acc: 0.0080 - val_loss: 2.4425 - val_acc: 0.0028\n",
      "Epoch 20/20\n",
      "5/5 [==============================] - 0s 83ms/step - loss: 6.3714 - acc: 0.0091 - val_loss: 2.4411 - val_acc: 0.0028\n"
     ]
    }
   ],
   "source": [
    "history = model.fit(\n",
    "    train_gen, \n",
    "    epochs=epochs,\n",
    "    validation_data=test_gen,\n",
    "    verbose=1,\n",
    "    shuffle=False\n",
    ")"
   ]
  },
  {
   "cell_type": "code",
   "execution_count": 37,
   "metadata": {},
   "outputs": [
    {
     "data": {
      "image/png": "[encoded data removed]",
      "text/plain": [
       "<Figure size 504x576 with 2 Axes>"
      ]
     },
     "metadata": {
      "needs_background": "light"
     },
     "output_type": "display_data"
    }
   ],
   "source": [
    "sg.utils.plot_history(history)"
   ]
  },
  {
   "cell_type": "code",
   "execution_count": null,
   "metadata": {},
   "outputs": [],
   "source": []
  }
 ],
 "metadata": {
  "kernelspec": {
   "display_name": "Python 3",
   "language": "python",
   "name": "python3"
  },
  "language_info": {
   "codemirror_mode": {
    "name": "ipython",
    "version": 3
   },
   "file_extension": ".py",
   "mimetype": "text/x-python",
   "name": "python",
   "nbconvert_exporter": "python",
   "pygments_lexer": "ipython3",
   "version": "3.8.2"
  }
 },
 "nbformat": 4,
 "nbformat_minor": 4
}
