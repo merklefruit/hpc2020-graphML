{
 "cells": [
  {
   "cell_type": "code",
   "execution_count": 1,
   "metadata": {},
   "outputs": [],
   "source": [
    "import time\n",
    "import json\n",
    "\n",
    "import pandas as pd\n",
    "import numpy as np\n",
    "from sklearn import preprocessing, feature_extraction, model_selection\n",
    "from sklearn.metrics import mean_absolute_error, mean_squared_error\n",
    "from sklearn.manifold import TSNE\n",
    "from sklearn.linear_model import LogisticRegression\n",
    "\n",
    "import stellargraph as sg\n",
    "from stellargraph import datasets\n",
    "from stellargraph.mapper import (\n",
    "    CorruptedGenerator,\n",
    "    FullBatchNodeGenerator,\n",
    "    GraphSAGENodeGenerator,\n",
    "    HinSAGENodeGenerator,\n",
    "    ClusterNodeGenerator,\n",
    ")\n",
    "from stellargraph.layer import GCN, DeepGraphInfomax, GraphSAGE, GAT, APPNP, HinSAGE, Dense\n",
    "\n",
    "import tensorflow as tf\n",
    "from tensorflow.keras.optimizers import Adam\n",
    "from tensorflow.keras.callbacks import EarlyStopping\n",
    "from tensorflow.keras import Model, optimizers, losses, metrics\n",
    "\n",
    "import multiprocessing\n",
    "from IPython.display import display, HTML\n",
    "import matplotlib.pyplot as plt\n",
    "%matplotlib inline"
   ]
  },
  {
   "cell_type": "code",
   "execution_count": 2,
   "metadata": {},
   "outputs": [
    {
     "name": "stdout",
     "output_type": "stream",
     "text": [
      "Running the scripts sequentially \n",
      "\n",
      "LOADING DATA: 134.61 s\n",
      "SUBSAMPLING: 0.06 s\n",
      "PREPROCESSING: Complete in 0.05 s\n"
     ]
    }
   ],
   "source": [
    "import sys\n",
    "sys.path.append('../')\n",
    "\n",
    "import run\n",
    "\n",
    "v_sets, e_sets, core_targets, ext_targets, v_sample, e_sample = run.main()"
   ]
  },
  {
   "cell_type": "code",
   "execution_count": 3,
   "metadata": {},
   "outputs": [],
   "source": [
    "batch_size = 200\n",
    "epochs = 20\n",
    "# Use 70% of edges for training, the rest for testing:\n",
    "train_size = 0.7\n",
    "test_size = 0.3"
   ]
  },
  {
   "cell_type": "code",
   "execution_count": 4,
   "metadata": {},
   "outputs": [],
   "source": [
    "# Initialize SG graph\n",
    "G = sg.StellarDiGraph(v_sets, e_sets)"
   ]
  },
  {
   "cell_type": "code",
   "execution_count": 5,
   "metadata": {},
   "outputs": [],
   "source": [
    "nodes_with_labels = v_sets.copy()"
   ]
  },
  {
   "cell_type": "code",
   "execution_count": 6,
   "metadata": {},
   "outputs": [
    {
     "data": {
      "text/plain": [
       "2765"
      ]
     },
     "execution_count": 6,
     "metadata": {},
     "output_type": "execute_result"
    }
   ],
   "source": [
    "ext_targets.size"
   ]
  },
  {
   "cell_type": "code",
   "execution_count": 7,
   "metadata": {
    "scrolled": false
   },
   "outputs": [
    {
     "name": "stdout",
     "output_type": "stream",
     "text": [
      "StellarDiGraph: Directed multigraph\n",
      " Nodes: 18996, Edges: 10000\n",
      "\n",
      " Node types:\n",
      "  Account: [11051]\n",
      "    Features: float32 vector, length 3\n",
      "    Edge types: Account-money transfer->Account, Account-money transfer->Derived Entity\n",
      "  Customer: [3345]\n",
      "    Features: float32 vector, length 5\n",
      "    Edge types: Customer-has account->Account, Customer-has address->Address, Customer-is similar->External Entity\n",
      "  Derived Entity: [3010]\n",
      "    Features: float32 vector, length 4\n",
      "    Edge types: Derived Entity-is similar->External Entity, Derived Entity-money transfer->Account\n",
      "  External Entity: [1169]\n",
      "    Features: float32 vector, length 4\n",
      "    Edge types: none\n",
      "  Address: [421]\n",
      "    Features: float32 vector, length 2\n",
      "    Edge types: none\n",
      "\n",
      " Edge types:\n",
      "    Account-money transfer->Account: [3326]\n",
      "        Weights: range=[1, 500], mean=178.224, std=222.553\n",
      "        Features: none\n",
      "    Customer-has account->Account: [2915]\n",
      "        Weights: all 1 (default)\n",
      "        Features: none\n",
      "    Derived Entity-money transfer->Account: [1107]\n",
      "        Weights: range=[1, 500], mean=182.846, std=223.896\n",
      "        Features: none\n",
      "    Derived Entity-is similar->External Entity: [1064]\n",
      "        Weights: range=[1, 3], mean=1.94831, std=0.819653\n",
      "        Features: none\n",
      "    Account-money transfer->Derived Entity: [1041]\n",
      "        Weights: range=[1, 500], mean=180.799, std=224.281\n",
      "        Features: none\n",
      "    Customer-has address->Address: [424]\n",
      "        Weights: all 1 (default)\n",
      "        Features: none\n",
      "    Customer-is similar->External Entity: [123]\n",
      "        Weights: range=[1, 3], mean=1.91057, std=0.819917\n",
      "        Features: none\n"
     ]
    }
   ],
   "source": [
    "print(G.info())"
   ]
  },
  {
   "cell_type": "code",
   "execution_count": 8,
   "metadata": {},
   "outputs": [],
   "source": [
    "# Split edges into train and test sets\n",
    "\n",
    "train_ID, test_ID = model_selection.train_test_split(\n",
    "    ext_targets, train_size=train_size, test_size=test_size, #stratify=ext_targets\n",
    ")"
   ]
  },
  {
   "cell_type": "code",
   "execution_count": 9,
   "metadata": {},
   "outputs": [],
   "source": [
    "# Select only nodes of type \"Account\" for prediction\n",
    "\n",
    "train_ID = train_ID[train_ID.index.isin(v_sets['Account'].index)]\n",
    "test_ID = test_ID[test_ID.index.isin(v_sets['Account'].index)]"
   ]
  },
  {
   "cell_type": "code",
   "execution_count": 10,
   "metadata": {},
   "outputs": [],
   "source": [
    "# Convert targets labels in one-hot encoded features (optional, for categorical targets)\n",
    "\n",
    "target_encoding = preprocessing.LabelBinarizer()\n",
    "train_targets = target_encoding.fit_transform(train_ID)\n",
    "test_targets = target_encoding.transform(test_ID)"
   ]
  },
  {
   "cell_type": "code",
   "execution_count": 11,
   "metadata": {},
   "outputs": [
    {
     "data": {
      "text/plain": [
       "(912, 1)"
      ]
     },
     "execution_count": 11,
     "metadata": {},
     "output_type": "execute_result"
    }
   ],
   "source": [
    "train_ID.shape"
   ]
  },
  {
   "cell_type": "code",
   "execution_count": 12,
   "metadata": {},
   "outputs": [
    {
     "data": {
      "text/plain": [
       "(912, 695)"
      ]
     },
     "execution_count": 12,
     "metadata": {},
     "output_type": "execute_result"
    }
   ],
   "source": [
    "train_targets.shape"
   ]
  },
  {
   "cell_type": "code",
   "execution_count": null,
   "metadata": {},
   "outputs": [],
   "source": []
  },
  {
   "cell_type": "code",
   "execution_count": null,
   "metadata": {},
   "outputs": [],
   "source": []
  },
  {
   "cell_type": "code",
   "execution_count": null,
   "metadata": {},
   "outputs": [],
   "source": []
  },
  {
   "cell_type": "code",
   "execution_count": 13,
   "metadata": {},
   "outputs": [],
   "source": [
    "# Choosing a 2 layer model with 8 nodes sampled in the first layer and 4 in the second.\n",
    "num_samples = [8, 4]\n",
    "# we can do 8*4 = 32x32 hidden layer size, since len(num_samples) defines \n",
    "# the number of hops (layers) in the HinSAGE model"
   ]
  },
  {
   "cell_type": "code",
   "execution_count": 14,
   "metadata": {},
   "outputs": [],
   "source": [
    "'''\n",
    "HinSAGENodeGenerator(G, batch_size, num_samples, head_node_type=None, schema=None, seed=None, name=None)\n",
    "\n",
    "G = graph\n",
    "batch_size = size of batch to return\n",
    "num_samples = the number of samples per layer (hop) to take\n",
    "head_node_type = the node type that will be given to the generator using the flow method. \n",
    "                  The model will expect this type.\n",
    "                  If not given, it defaults to a single node type.\n",
    "'''\n",
    "\n",
    "generator = HinSAGENodeGenerator(\n",
    "    G, \n",
    "    batch_size, \n",
    "    num_samples,\n",
    "    head_node_type=\"Account\"\n",
    ")"
   ]
  },
  {
   "cell_type": "code",
   "execution_count": 15,
   "metadata": {},
   "outputs": [],
   "source": [
    "# Flow\n",
    "\n",
    "train_gen = generator.flow(train_ID.index, train_targets, shuffle=True)\n",
    "test_gen = generator.flow(test_ID.index, test_targets)"
   ]
  },
  {
   "cell_type": "code",
   "execution_count": 16,
   "metadata": {},
   "outputs": [
    {
     "data": {
      "text/plain": [
       "{'Address': [],\n",
       " 'Account': [EdgeType(n1='Account', rel='money transfer', n2='Account'),\n",
       "  EdgeType(n1='Account', rel='money transfer', n2='Derived Entity')],\n",
       " 'External Entity': [],\n",
       " 'Derived Entity': [EdgeType(n1='Derived Entity', rel='is similar', n2='External Entity'),\n",
       "  EdgeType(n1='Derived Entity', rel='money transfer', n2='Account')],\n",
       " 'Customer': [EdgeType(n1='Customer', rel='has account', n2='Account'),\n",
       "  EdgeType(n1='Customer', rel='has address', n2='Address'),\n",
       "  EdgeType(n1='Customer', rel='is similar', n2='External Entity')]}"
      ]
     },
     "execution_count": 16,
     "metadata": {},
     "output_type": "execute_result"
    }
   ],
   "source": [
    "generator.schema.schema"
   ]
  },
  {
   "cell_type": "code",
   "execution_count": 17,
   "metadata": {},
   "outputs": [],
   "source": [
    "hinsage_layer_sizes = [32, 32]\n",
    "assert len(hinsage_layer_sizes) == len(num_samples)"
   ]
  },
  {
   "cell_type": "code",
   "execution_count": 18,
   "metadata": {},
   "outputs": [],
   "source": [
    "# Dropout\n",
    "# (must be tuned)\n",
    "\n",
    "dropout = 0.0"
   ]
  },
  {
   "cell_type": "code",
   "execution_count": 19,
   "metadata": {},
   "outputs": [],
   "source": [
    "hinsage = HinSAGE(\n",
    "    layer_sizes=hinsage_layer_sizes,\n",
    "    #activations=['relu', 'softmax'],\n",
    "    generator=generator, \n",
    "    bias=True, \n",
    "    dropout=dropout\n",
    ")"
   ]
  },
  {
   "cell_type": "code",
   "execution_count": null,
   "metadata": {},
   "outputs": [],
   "source": []
  },
  {
   "cell_type": "code",
   "execution_count": null,
   "metadata": {},
   "outputs": [],
   "source": []
  },
  {
   "cell_type": "code",
   "execution_count": null,
   "metadata": {},
   "outputs": [],
   "source": []
  },
  {
   "cell_type": "code",
   "execution_count": null,
   "metadata": {},
   "outputs": [],
   "source": []
  },
  {
   "cell_type": "code",
   "execution_count": null,
   "metadata": {},
   "outputs": [],
   "source": []
  },
  {
   "cell_type": "code",
   "execution_count": null,
   "metadata": {},
   "outputs": [],
   "source": []
  },
  {
   "cell_type": "code",
   "execution_count": null,
   "metadata": {},
   "outputs": [],
   "source": []
  },
  {
   "cell_type": "code",
   "execution_count": null,
   "metadata": {},
   "outputs": [],
   "source": []
  },
  {
   "cell_type": "code",
   "execution_count": 39,
   "metadata": {},
   "outputs": [],
   "source": [
    "es = EarlyStopping(monitor=\"loss\", min_delta=0, patience=15)"
   ]
  },
  {
   "cell_type": "code",
   "execution_count": 46,
   "metadata": {},
   "outputs": [],
   "source": [
    "def run_deep_graph_infomax(base_model, generator, epochs):\n",
    "    corrupted_generator = CorruptedGenerator(generator)\n",
    "    gen = corrupted_generator.flow(G.nodes(node_type=\"Account\"))\n",
    "    infomax = DeepGraphInfomax(base_model, corrupted_generator)\n",
    "\n",
    "    x_in, x_out = infomax.in_out_tensors()\n",
    "\n",
    "    model = Model(inputs=x_in, outputs=x_out)\n",
    "    model.compile(loss=tf.nn.sigmoid_cross_entropy_with_logits, optimizer=Adam(lr=1e-3))\n",
    "    history = model.fit(gen, epochs=epochs, verbose=1, callbacks=[es])\n",
    "    \n",
    "    sg.utils.plot_history(history)\n",
    "\n",
    "    x_emb_in, x_emb_out = base_model.in_out_tensors()\n",
    "    # for full batch models, squeeze out the batch dim (which is 1)\n",
    "    if generator.num_batch_dims() == 2:\n",
    "        x_emb_out = tf.squeeze(x_emb_out, axis=0)\n",
    "\n",
    "    #do TSNE here\n",
    "    return x_emb_in, x_emb_out\n"
   ]
  },
  {
   "cell_type": "code",
   "execution_count": 92,
   "metadata": {},
   "outputs": [],
   "source": [
    "# TO TEST:\n",
    "def run_classify(x_emb_in, x_emb_out, train_ID, test_ID):\n",
    "    #train_subjects, test_subjects = model_selection.train_test_split(\n",
    "    #    subjects, train_size=0.1, test_size=None)\n",
    "    \n",
    "    train_subjects = train_ID\n",
    "    test_subjects = test_ID\n",
    "    \n",
    "    emb_model = Model(inputs=x_emb_in, outputs=x_emb_out)\n",
    "\n",
    "    test_gen = generator.flow(test_subjects.index)\n",
    "    train_gen = generator.flow(train_subjects.index)\n",
    "\n",
    "    test_embeddings = emb_model.predict(test_gen)\n",
    "    train_embeddings = emb_model.predict(train_gen)\n",
    "\n",
    "    # some generators yield predictions in a different order to the .flow argument,\n",
    "    # so we need to get everything lined up correctly\n",
    "    #ordered_test_subjects = reorder(test_gen, test_subjects)\n",
    "    #ordered_train_subjects = reorder(train_gen, train_subjects)\n",
    "\n",
    "    lr = LogisticRegression(multi_class=\"auto\", solver=\"lbfgs\")\n",
    "    lr.fit(train_embeddings, ordered_train_subjects)\n",
    "\n",
    "    y_pred = lr.predict(test_embeddings)\n",
    "    acc = (y_pred == ordered_test_subjects).mean()\n",
    "\n",
    "    return acc, x_emb_out"
   ]
  },
  {
   "cell_type": "code",
   "execution_count": 48,
   "metadata": {
    "scrolled": false
   },
   "outputs": [
    {
     "name": "stdout",
     "output_type": "stream",
     "text": [
      "Epoch 1/20\n",
      "56/56 [==============================] - 6s 114ms/step - loss: 0.3328\n",
      "Epoch 2/20\n",
      "56/56 [==============================] - 6s 113ms/step - loss: 0.1520\n",
      "Epoch 3/20\n",
      "56/56 [==============================] - 6s 111ms/step - loss: 0.1151\n",
      "Epoch 4/20\n",
      "56/56 [==============================] - 6s 115ms/step - loss: 0.0998\n",
      "Epoch 5/20\n",
      "56/56 [==============================] - 6s 114ms/step - loss: 0.0964\n",
      "Epoch 6/20\n",
      "56/56 [==============================] - 7s 117ms/step - loss: 0.0936\n",
      "Epoch 7/20\n",
      "56/56 [==============================] - 6s 115ms/step - loss: 0.0884\n",
      "Epoch 8/20\n",
      "56/56 [==============================] - 7s 116ms/step - loss: 0.0953\n",
      "Epoch 9/20\n",
      "56/56 [==============================] - 6s 112ms/step - loss: 0.0938\n",
      "Epoch 10/20\n",
      "56/56 [==============================] - 6s 111ms/step - loss: 0.0844\n",
      "Epoch 11/20\n",
      "56/56 [==============================] - 6s 116ms/step - loss: 0.0837\n",
      "Epoch 12/20\n",
      "56/56 [==============================] - 7s 117ms/step - loss: 0.0903\n",
      "Epoch 13/20\n",
      "56/56 [==============================] - 7s 116ms/step - loss: 0.0839\n",
      "Epoch 14/20\n",
      "56/56 [==============================] - 6s 111ms/step - loss: 0.0845\n",
      "Epoch 15/20\n",
      "56/56 [==============================] - 6s 115ms/step - loss: 0.0803\n",
      "Epoch 16/20\n",
      "56/56 [==============================] - 7s 116ms/step - loss: 0.0814\n",
      "Epoch 17/20\n",
      "56/56 [==============================] - 7s 120ms/step - loss: 0.0822\n",
      "Epoch 18/20\n",
      "56/56 [==============================] - 7s 117ms/step - loss: 0.0736\n",
      "Epoch 19/20\n",
      "56/56 [==============================] - 6s 114ms/step - loss: 0.0780 0s - loss: 0\n",
      "Epoch 20/20\n",
      "56/56 [==============================] - 7s 116ms/step - loss: 0.0929\n"
     ]
    },
    {
     "data": {
      "image/png": "[encoded data removed]",
      "text/plain": [
       "<Figure size 504x288 with 1 Axes>"
      ]
     },
     "metadata": {
      "needs_background": "light"
     },
     "output_type": "display_data"
    }
   ],
   "source": [
    "# Deep Graph Infomax\n",
    "\n",
    "x_emb_in, x_emb_out = run_deep_graph_infomax(hinsage, generator, epochs=epochs)"
   ]
  },
  {
   "cell_type": "code",
   "execution_count": 88,
   "metadata": {
    "scrolled": false
   },
   "outputs": [
    {
     "ename": "ValueError",
     "evalue": "G: expected a graph with a single node type, found a graph with node types: 'Account', 'Address', 'Customer', 'Derived Entity', 'External Entity'",
     "output_type": "error",
     "traceback": [
      "\u001b[0;31m---------------------------------------------------------------------------\u001b[0m",
      "\u001b[0;31mValueError\u001b[0m                                Traceback (most recent call last)",
      "\u001b[0;32m<ipython-input-88-969ed26d1dbb>\u001b[0m in \u001b[0;36m<module>\u001b[0;34m\u001b[0m\n\u001b[1;32m      5\u001b[0m \u001b[0;34m\u001b[0m\u001b[0m\n\u001b[1;32m      6\u001b[0m \u001b[0memb_model\u001b[0m \u001b[0;34m=\u001b[0m \u001b[0mModel\u001b[0m\u001b[0;34m(\u001b[0m\u001b[0minputs\u001b[0m\u001b[0;34m=\u001b[0m\u001b[0mx_emb_in\u001b[0m\u001b[0;34m,\u001b[0m \u001b[0moutputs\u001b[0m\u001b[0;34m=\u001b[0m\u001b[0mx_emb_out\u001b[0m\u001b[0;34m)\u001b[0m\u001b[0;34m\u001b[0m\u001b[0;34m\u001b[0m\u001b[0m\n\u001b[0;32m----> 7\u001b[0;31m \u001b[0mfullbatch_generator\u001b[0m \u001b[0;34m=\u001b[0m \u001b[0mFullBatchNodeGenerator\u001b[0m\u001b[0;34m(\u001b[0m\u001b[0mG\u001b[0m\u001b[0;34m,\u001b[0m \u001b[0msparse\u001b[0m\u001b[0;34m=\u001b[0m\u001b[0;32mFalse\u001b[0m\u001b[0;34m)\u001b[0m\u001b[0;34m\u001b[0m\u001b[0;34m\u001b[0m\u001b[0m\n\u001b[0m\u001b[1;32m      8\u001b[0m \u001b[0;34m\u001b[0m\u001b[0m\n\u001b[1;32m      9\u001b[0m \u001b[0mall_embeddings\u001b[0m \u001b[0;34m=\u001b[0m \u001b[0memb_model\u001b[0m\u001b[0;34m.\u001b[0m\u001b[0mpredict\u001b[0m\u001b[0;34m(\u001b[0m\u001b[0mfullbatch_generator\u001b[0m\u001b[0;34m.\u001b[0m\u001b[0mflow\u001b[0m\u001b[0;34m(\u001b[0m\u001b[0mG\u001b[0m\u001b[0;34m.\u001b[0m\u001b[0mnodes\u001b[0m\u001b[0;34m(\u001b[0m\u001b[0mnode_type\u001b[0m\u001b[0;34m=\u001b[0m\u001b[0;34m\"Account\"\u001b[0m\u001b[0;34m)\u001b[0m\u001b[0;34m)\u001b[0m\u001b[0;34m)\u001b[0m\u001b[0;34m\u001b[0m\u001b[0;34m\u001b[0m\u001b[0m\n",
      "\u001b[0;32m~/.local/share/virtualenvs/hpc_2020-u8KpsjyS/lib/python3.8/site-packages/stellargraph/mapper/full_batch_generators.py\u001b[0m in \u001b[0;36m__init__\u001b[0;34m(self, G, name, method, k, sparse, transform, teleport_probability, weighted)\u001b[0m\n\u001b[1;32m     84\u001b[0m \u001b[0;34m\u001b[0m\u001b[0m\n\u001b[1;32m     85\u001b[0m         \u001b[0;31m# Check that there is only a single node type for GAT or GCN\u001b[0m\u001b[0;34m\u001b[0m\u001b[0;34m\u001b[0m\u001b[0;34m\u001b[0m\u001b[0m\n\u001b[0;32m---> 86\u001b[0;31m         node_type = G.unique_node_type(\n\u001b[0m\u001b[1;32m     87\u001b[0m             \u001b[0;34m\"G: expected a graph with a single node type, found a graph with node types: %(found)s\"\u001b[0m\u001b[0;34m\u001b[0m\u001b[0;34m\u001b[0m\u001b[0m\n\u001b[1;32m     88\u001b[0m         )\n",
      "\u001b[0;32m~/.local/share/virtualenvs/hpc_2020-u8KpsjyS/lib/python3.8/site-packages/stellargraph/core/graph.py\u001b[0m in \u001b[0;36munique_node_type\u001b[0;34m(self, error_message)\u001b[0m\n\u001b[1;32m   1032\u001b[0m             \u001b[0;31m`\u001b[0m\u001b[0;31m`\u001b[0m\u001b[0mValueError\u001b[0m\u001b[0;31m`\u001b[0m\u001b[0;31m`\u001b[0m \u001b[0mexception\u001b[0m\u001b[0;34m.\u001b[0m\u001b[0;34m\u001b[0m\u001b[0;34m\u001b[0m\u001b[0m\n\u001b[1;32m   1033\u001b[0m         \"\"\"\n\u001b[0;32m-> 1034\u001b[0;31m         \u001b[0;32mreturn\u001b[0m \u001b[0mself\u001b[0m\u001b[0;34m.\u001b[0m\u001b[0m_unique_type\u001b[0m\u001b[0;34m(\u001b[0m\u001b[0mself\u001b[0m\u001b[0;34m.\u001b[0m\u001b[0m_nodes\u001b[0m\u001b[0;34m,\u001b[0m \u001b[0;34m\"node\"\u001b[0m\u001b[0;34m,\u001b[0m \u001b[0merror_message\u001b[0m\u001b[0;34m)\u001b[0m\u001b[0;34m\u001b[0m\u001b[0;34m\u001b[0m\u001b[0m\n\u001b[0m\u001b[1;32m   1035\u001b[0m \u001b[0;34m\u001b[0m\u001b[0m\n\u001b[1;32m   1036\u001b[0m     \u001b[0;34m@\u001b[0m\u001b[0mproperty\u001b[0m\u001b[0;34m\u001b[0m\u001b[0;34m\u001b[0m\u001b[0m\n",
      "\u001b[0;32m~/.local/share/virtualenvs/hpc_2020-u8KpsjyS/lib/python3.8/site-packages/stellargraph/core/graph.py\u001b[0m in \u001b[0;36m_unique_type\u001b[0;34m(self, element_data, name, error_message)\u001b[0m\n\u001b[1;32m   1018\u001b[0m             \u001b[0merror_message\u001b[0m \u001b[0;34m=\u001b[0m \u001b[0;34m\"Expected only one %(name)s type for 'unique_%(name)s_type', found: %(found)s\"\u001b[0m\u001b[0;34m\u001b[0m\u001b[0;34m\u001b[0m\u001b[0m\n\u001b[1;32m   1019\u001b[0m \u001b[0;34m\u001b[0m\u001b[0m\n\u001b[0;32m-> 1020\u001b[0;31m         \u001b[0;32mraise\u001b[0m \u001b[0mValueError\u001b[0m\u001b[0;34m(\u001b[0m\u001b[0merror_message\u001b[0m \u001b[0;34m%\u001b[0m \u001b[0;34m{\u001b[0m\u001b[0;34m\"name\"\u001b[0m\u001b[0;34m:\u001b[0m \u001b[0mname\u001b[0m\u001b[0;34m,\u001b[0m \u001b[0;34m\"found\"\u001b[0m\u001b[0;34m:\u001b[0m \u001b[0mfound\u001b[0m\u001b[0;34m}\u001b[0m\u001b[0;34m)\u001b[0m\u001b[0;34m\u001b[0m\u001b[0;34m\u001b[0m\u001b[0m\n\u001b[0m\u001b[1;32m   1021\u001b[0m \u001b[0;34m\u001b[0m\u001b[0m\n\u001b[1;32m   1022\u001b[0m     \u001b[0;32mdef\u001b[0m \u001b[0munique_node_type\u001b[0m\u001b[0;34m(\u001b[0m\u001b[0mself\u001b[0m\u001b[0;34m,\u001b[0m \u001b[0merror_message\u001b[0m\u001b[0;34m=\u001b[0m\u001b[0;32mNone\u001b[0m\u001b[0;34m)\u001b[0m\u001b[0;34m:\u001b[0m\u001b[0;34m\u001b[0m\u001b[0;34m\u001b[0m\u001b[0m\n",
      "\u001b[0;31mValueError\u001b[0m: G: expected a graph with a single node type, found a graph with node types: 'Account', 'Address', 'Customer', 'Derived Entity', 'External Entity'"
     ]
    }
   ],
   "source": [
    "## TO FIX::\n",
    "# FullBatchNodeGenerator doesn't like heterogeneous graphs\n",
    "# maybe switch to another generator\n",
    "# Or change technique for doing TSNE?\n",
    "\n",
    "emb_model = Model(inputs=x_emb_in, outputs=x_emb_out)\n",
    "fullbatch_generator = FullBatchNodeGenerator(G, sparse=False)\n",
    "\n",
    "all_embeddings = emb_model.predict(fullbatch_generator.flow(G.nodes(node_type=\"Account\")))\n",
    "y = ext_targets.astype(\"category\")\n",
    "trans = TSNE(n_components=2)\n",
    "emb_transformed = pd.DataFrame(trans.fit_transform(all_embeddings), index=G.nodes(node_type=\"Account\"))\n",
    "emb_transformed['label'] = y"
   ]
  },
  {
   "cell_type": "code",
   "execution_count": 93,
   "metadata": {},
   "outputs": [
    {
     "ename": "NameError",
     "evalue": "name 'emb_transformed' is not defined",
     "output_type": "error",
     "traceback": [
      "\u001b[0;31m---------------------------------------------------------------------------\u001b[0m",
      "\u001b[0;31mNameError\u001b[0m                                 Traceback (most recent call last)",
      "\u001b[0;32m<ipython-input-93-d83a3d219ab1>\u001b[0m in \u001b[0;36m<module>\u001b[0;34m\u001b[0m\n\u001b[1;32m      2\u001b[0m \u001b[0mfig\u001b[0m\u001b[0;34m,\u001b[0m \u001b[0max\u001b[0m \u001b[0;34m=\u001b[0m \u001b[0mplt\u001b[0m\u001b[0;34m.\u001b[0m\u001b[0msubplots\u001b[0m\u001b[0;34m(\u001b[0m\u001b[0mfigsize\u001b[0m\u001b[0;34m=\u001b[0m\u001b[0;34m(\u001b[0m\u001b[0;36m15\u001b[0m\u001b[0;34m,\u001b[0m \u001b[0;36m15\u001b[0m\u001b[0;34m)\u001b[0m\u001b[0;34m)\u001b[0m\u001b[0;34m\u001b[0m\u001b[0;34m\u001b[0m\u001b[0m\n\u001b[1;32m      3\u001b[0m ax.scatter(\n\u001b[0;32m----> 4\u001b[0;31m     \u001b[0memb_transformed\u001b[0m\u001b[0;34m[\u001b[0m\u001b[0;36m0\u001b[0m\u001b[0;34m]\u001b[0m\u001b[0;34m,\u001b[0m\u001b[0;34m\u001b[0m\u001b[0;34m\u001b[0m\u001b[0m\n\u001b[0m\u001b[1;32m      5\u001b[0m     \u001b[0memb_transformed\u001b[0m\u001b[0;34m[\u001b[0m\u001b[0;36m1\u001b[0m\u001b[0;34m]\u001b[0m\u001b[0;34m,\u001b[0m\u001b[0;34m\u001b[0m\u001b[0;34m\u001b[0m\u001b[0m\n\u001b[1;32m      6\u001b[0m     \u001b[0mc\u001b[0m\u001b[0;34m=\u001b[0m\u001b[0memb_transformed\u001b[0m\u001b[0;34m[\u001b[0m\u001b[0;34m\"label\"\u001b[0m\u001b[0;34m]\u001b[0m\u001b[0;34m.\u001b[0m\u001b[0mcat\u001b[0m\u001b[0;34m.\u001b[0m\u001b[0mcodes\u001b[0m\u001b[0;34m,\u001b[0m\u001b[0;34m\u001b[0m\u001b[0;34m\u001b[0m\u001b[0m\n",
      "\u001b[0;31mNameError\u001b[0m: name 'emb_transformed' is not defined"
     ]
    },
    {
     "data": {
      "image/png": "[encoded data removed]",
      "text/plain": [
       "<Figure size 1080x1080 with 1 Axes>"
      ]
     },
     "metadata": {
      "needs_background": "light"
     },
     "output_type": "display_data"
    }
   ],
   "source": [
    "alpha = 0.7\n",
    "fig, ax = plt.subplots(figsize=(15, 15))\n",
    "ax.scatter(\n",
    "    emb_transformed[0],\n",
    "    emb_transformed[1],\n",
    "    c=emb_transformed[\"label\"].cat.codes,\n",
    "    cmap=\"jet\",\n",
    "    alpha=alpha,\n",
    ")\n",
    "ax.set(aspect=\"equal\", xlabel=\"$X_1$\", ylabel=\"$X_2$\")\n",
    "plt.title(\"TSNE visualization of GCN embeddings for dataset\")\n",
    "plt.show()"
   ]
  },
  {
   "cell_type": "code",
   "execution_count": null,
   "metadata": {},
   "outputs": [],
   "source": []
  },
  {
   "cell_type": "code",
   "execution_count": null,
   "metadata": {},
   "outputs": [],
   "source": []
  }
 ],
 "metadata": {
  "kernelspec": {
   "display_name": "Python 3",
   "language": "python",
   "name": "python3"
  },
  "language_info": {
   "codemirror_mode": {
    "name": "ipython",
    "version": 3
   },
   "file_extension": ".py",
   "mimetype": "text/x-python",
   "name": "python",
   "nbconvert_exporter": "python",
   "pygments_lexer": "ipython3",
   "version": "3.8.2"
  }
 },
 "nbformat": 4,
 "nbformat_minor": 4
}
