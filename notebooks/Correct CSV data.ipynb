{
 "cells": [
  {
   "cell_type": "code",
   "execution_count": 1,
   "metadata": {},
   "outputs": [],
   "source": [
    "import pandas as pd\n",
    "import numpy as np\n",
    "import sys"
   ]
  },
  {
   "cell_type": "code",
   "execution_count": 2,
   "metadata": {},
   "outputs": [],
   "source": [
    "sys.path.append('../')\n",
    "import utils"
   ]
  },
  {
   "cell_type": "code",
   "execution_count": 3,
   "metadata": {},
   "outputs": [
    {
     "name": "stdout",
     "output_type": "stream",
     "text": [
      "Dataset already downloaded. Loading it from file system\n",
      "LOADING DATA: 0.99 s\n",
      "PREPROCESSING: 1.06 s\n"
     ]
    }
   ],
   "source": [
    "v_data, e_data, v_sets, e_sets, core_targets, ext_targets, core_testing = utils.load_for_jupyter()"
   ]
  },
  {
   "cell_type": "code",
   "execution_count": 4,
   "metadata": {},
   "outputs": [],
   "source": [
    "v_data_new = v_data.drop(['CoreCaseGraphID', 'ExtendedCaseGraphID', 'testingFlag'], axis=1)"
   ]
  },
  {
   "cell_type": "code",
   "execution_count": 5,
   "metadata": {},
   "outputs": [],
   "source": [
    "core_targets_new = core_targets.rename(columns={'CaseID': 'CoreCaseGraphID'})\n",
    "core_targets_new.index.name = 'node_id'\n",
    "\n",
    "ext_targets_new = ext_targets.rename(columns={'CaseID': 'ExtendedCaseGraphID'})\n",
    "ext_targets_new.index.name = 'node_id'\n",
    "\n",
    "core_testing_new = core_testing.rename(columns={'CaseID': 'CoreCaseGraphID'})\n",
    "core_testing_new.index.name = 'node_id'"
   ]
  },
  {
   "cell_type": "code",
   "execution_count": 6,
   "metadata": {},
   "outputs": [],
   "source": [
    "v_data_new = pd.merge(v_data_new, core_targets_new, left_index=True, right_index=True, how='left')\n",
    "v_data_new = pd.merge(v_data_new, ext_targets_new, left_index=True, right_index=True, how='left')"
   ]
  },
  {
   "cell_type": "code",
   "execution_count": 7,
   "metadata": {},
   "outputs": [],
   "source": [
    "# For some reason some nodes have 2 different core case IDs... filtering to just take the first\n",
    "for ind, row in v_data.iterrows():\n",
    "    v_data_new['CoreCaseGraphID'][ind] = core_testing.loc[core_testing.index == ind].CaseID.values[0] if len(core_testing.loc[core_testing.index == ind].CaseID.values) != 0 else row['CoreCaseGraphID']"
   ]
  },
  {
   "cell_type": "code",
   "execution_count": 8,
   "metadata": {},
   "outputs": [],
   "source": [
    "tsf = pd.DataFrame(v_data_new.index)\n",
    "tsf = tsf.set_index('node_id')\n",
    "tsf['testingFlag'] = np.NaN\n",
    "for ind, row in tsf.iterrows():\n",
    "    tsf['testingFlag'][ind] = 0 if len(core_targets.loc[core_targets.index == ind]) != 0 or len(ext_targets.loc[ext_targets.index == ind]) != 0 else row.testingFlag\n",
    "for ind, row in tsf.iterrows():\n",
    "    tsf['testingFlag'][ind] = 1 if len(core_testing.loc[core_testing.index == ind]) != 0 else row.testingFlag\n",
    "v_data_new = pd.merge(v_data_new, tsf, left_index=True, right_index=True, how='left')"
   ]
  },
  {
   "cell_type": "code",
   "execution_count": null,
   "metadata": {
    "scrolled": false
   },
   "outputs": [],
   "source": []
  },
  {
   "cell_type": "code",
   "execution_count": 9,
   "metadata": {},
   "outputs": [
    {
     "data": {
      "text/html": [
       "<div>\n",
       "<style scoped>\n",
       "    .dataframe tbody tr th:only-of-type {\n",
       "        vertical-align: middle;\n",
       "    }\n",
       "\n",
       "    .dataframe tbody tr th {\n",
       "        vertical-align: top;\n",
       "    }\n",
       "\n",
       "    .dataframe thead th {\n",
       "        text-align: right;\n",
       "    }\n",
       "</style>\n",
       "<table border=\"1\" class=\"dataframe\">\n",
       "  <thead>\n",
       "    <tr style=\"text-align: right;\">\n",
       "      <th></th>\n",
       "      <th>Label</th>\n",
       "      <th>Revenue Size Flag</th>\n",
       "      <th>Account ID String</th>\n",
       "      <th>Address</th>\n",
       "      <th>Person or Organisation</th>\n",
       "      <th>Name</th>\n",
       "      <th>Income Size Flag</th>\n",
       "      <th>CoreCaseGraphID</th>\n",
       "      <th>ExtendedCaseGraphID</th>\n",
       "      <th>testingFlag</th>\n",
       "    </tr>\n",
       "    <tr>\n",
       "      <th>node_id</th>\n",
       "      <th></th>\n",
       "      <th></th>\n",
       "      <th></th>\n",
       "      <th></th>\n",
       "      <th></th>\n",
       "      <th></th>\n",
       "      <th></th>\n",
       "      <th></th>\n",
       "      <th></th>\n",
       "      <th></th>\n",
       "    </tr>\n",
       "  </thead>\n",
       "  <tbody>\n",
       "    <tr>\n",
       "      <th>100100</th>\n",
       "      <td>Customer</td>\n",
       "      <td>NaN</td>\n",
       "      <td>NaN</td>\n",
       "      <td>NaN</td>\n",
       "      <td>Person</td>\n",
       "      <td>CHURCH STREET TRUSTEES LIMITED as Trustees for...</td>\n",
       "      <td>medium</td>\n",
       "      <td>NaN</td>\n",
       "      <td>NaN</td>\n",
       "      <td>NaN</td>\n",
       "    </tr>\n",
       "    <tr>\n",
       "      <th>100101</th>\n",
       "      <td>Customer</td>\n",
       "      <td>NaN</td>\n",
       "      <td>NaN</td>\n",
       "      <td>NaN</td>\n",
       "      <td>Person</td>\n",
       "      <td>CN BETA LIMITED</td>\n",
       "      <td>high</td>\n",
       "      <td>NaN</td>\n",
       "      <td>NaN</td>\n",
       "      <td>NaN</td>\n",
       "    </tr>\n",
       "    <tr>\n",
       "      <th>100102</th>\n",
       "      <td>Customer</td>\n",
       "      <td>NaN</td>\n",
       "      <td>NaN</td>\n",
       "      <td>NaN</td>\n",
       "      <td>Organisation</td>\n",
       "      <td>CHURCH STREET TRUSTEES LIMITED AS TRUSTEES OF ...</td>\n",
       "      <td>high</td>\n",
       "      <td>NaN</td>\n",
       "      <td>NaN</td>\n",
       "      <td>NaN</td>\n",
       "    </tr>\n",
       "    <tr>\n",
       "      <th>100103</th>\n",
       "      <td>Customer</td>\n",
       "      <td>NaN</td>\n",
       "      <td>NaN</td>\n",
       "      <td>NaN</td>\n",
       "      <td>Organisation</td>\n",
       "      <td>BOS SECRETARIES ((JERSEY) LIMITED (formerly IN...</td>\n",
       "      <td>medium</td>\n",
       "      <td>NaN</td>\n",
       "      <td>NaN</td>\n",
       "      <td>NaN</td>\n",
       "    </tr>\n",
       "    <tr>\n",
       "      <th>100104</th>\n",
       "      <td>Customer</td>\n",
       "      <td>NaN</td>\n",
       "      <td>NaN</td>\n",
       "      <td>NaN</td>\n",
       "      <td>Person</td>\n",
       "      <td>CHURCH STREET TRUSTEES LIMITED</td>\n",
       "      <td>high</td>\n",
       "      <td>NaN</td>\n",
       "      <td>NaN</td>\n",
       "      <td>NaN</td>\n",
       "    </tr>\n",
       "    <tr>\n",
       "      <th>...</th>\n",
       "      <td>...</td>\n",
       "      <td>...</td>\n",
       "      <td>...</td>\n",
       "      <td>...</td>\n",
       "      <td>...</td>\n",
       "      <td>...</td>\n",
       "      <td>...</td>\n",
       "      <td>...</td>\n",
       "      <td>...</td>\n",
       "      <td>...</td>\n",
       "    </tr>\n",
       "    <tr>\n",
       "      <th>20030025114</th>\n",
       "      <td>Derived Entity</td>\n",
       "      <td>NaN</td>\n",
       "      <td>NaN</td>\n",
       "      <td>NaN</td>\n",
       "      <td>Person</td>\n",
       "      <td>gMsblvnPVn</td>\n",
       "      <td>NaN</td>\n",
       "      <td>NaN</td>\n",
       "      <td>NaN</td>\n",
       "      <td>NaN</td>\n",
       "    </tr>\n",
       "    <tr>\n",
       "      <th>20030025115</th>\n",
       "      <td>Derived Entity</td>\n",
       "      <td>NaN</td>\n",
       "      <td>NaN</td>\n",
       "      <td>NaN</td>\n",
       "      <td>Person</td>\n",
       "      <td>aWHuteBUnk</td>\n",
       "      <td>NaN</td>\n",
       "      <td>NaN</td>\n",
       "      <td>NaN</td>\n",
       "      <td>NaN</td>\n",
       "    </tr>\n",
       "    <tr>\n",
       "      <th>20030025116</th>\n",
       "      <td>Derived Entity</td>\n",
       "      <td>NaN</td>\n",
       "      <td>NaN</td>\n",
       "      <td>NaN</td>\n",
       "      <td>Person</td>\n",
       "      <td>E9VrY0MBsT</td>\n",
       "      <td>NaN</td>\n",
       "      <td>NaN</td>\n",
       "      <td>2031.0</td>\n",
       "      <td>0.0</td>\n",
       "    </tr>\n",
       "    <tr>\n",
       "      <th>20030025117</th>\n",
       "      <td>Derived Entity</td>\n",
       "      <td>NaN</td>\n",
       "      <td>NaN</td>\n",
       "      <td>NaN</td>\n",
       "      <td>Organisation</td>\n",
       "      <td>UjrIkskkUr</td>\n",
       "      <td>NaN</td>\n",
       "      <td>NaN</td>\n",
       "      <td>NaN</td>\n",
       "      <td>NaN</td>\n",
       "    </tr>\n",
       "    <tr>\n",
       "      <th>20030025118</th>\n",
       "      <td>Derived Entity</td>\n",
       "      <td>NaN</td>\n",
       "      <td>NaN</td>\n",
       "      <td>NaN</td>\n",
       "      <td>Organisation</td>\n",
       "      <td>9flY8l972P</td>\n",
       "      <td>NaN</td>\n",
       "      <td>NaN</td>\n",
       "      <td>NaN</td>\n",
       "      <td>NaN</td>\n",
       "    </tr>\n",
       "  </tbody>\n",
       "</table>\n",
       "<p>319474 rows × 10 columns</p>\n",
       "</div>"
      ],
      "text/plain": [
       "                      Label Revenue Size Flag Account ID String Address  \\\n",
       "node_id                                                                   \n",
       "100100             Customer               NaN               NaN     NaN   \n",
       "100101             Customer               NaN               NaN     NaN   \n",
       "100102             Customer               NaN               NaN     NaN   \n",
       "100103             Customer               NaN               NaN     NaN   \n",
       "100104             Customer               NaN               NaN     NaN   \n",
       "...                     ...               ...               ...     ...   \n",
       "20030025114  Derived Entity               NaN               NaN     NaN   \n",
       "20030025115  Derived Entity               NaN               NaN     NaN   \n",
       "20030025116  Derived Entity               NaN               NaN     NaN   \n",
       "20030025117  Derived Entity               NaN               NaN     NaN   \n",
       "20030025118  Derived Entity               NaN               NaN     NaN   \n",
       "\n",
       "            Person or Organisation  \\\n",
       "node_id                              \n",
       "100100                      Person   \n",
       "100101                      Person   \n",
       "100102                Organisation   \n",
       "100103                Organisation   \n",
       "100104                      Person   \n",
       "...                            ...   \n",
       "20030025114                 Person   \n",
       "20030025115                 Person   \n",
       "20030025116                 Person   \n",
       "20030025117           Organisation   \n",
       "20030025118           Organisation   \n",
       "\n",
       "                                                          Name  \\\n",
       "node_id                                                          \n",
       "100100       CHURCH STREET TRUSTEES LIMITED as Trustees for...   \n",
       "100101                                         CN BETA LIMITED   \n",
       "100102       CHURCH STREET TRUSTEES LIMITED AS TRUSTEES OF ...   \n",
       "100103       BOS SECRETARIES ((JERSEY) LIMITED (formerly IN...   \n",
       "100104                          CHURCH STREET TRUSTEES LIMITED   \n",
       "...                                                        ...   \n",
       "20030025114                                         gMsblvnPVn   \n",
       "20030025115                                         aWHuteBUnk   \n",
       "20030025116                                         E9VrY0MBsT   \n",
       "20030025117                                         UjrIkskkUr   \n",
       "20030025118                                         9flY8l972P   \n",
       "\n",
       "            Income Size Flag  CoreCaseGraphID  ExtendedCaseGraphID  \\\n",
       "node_id                                                              \n",
       "100100                medium              NaN                  NaN   \n",
       "100101                  high              NaN                  NaN   \n",
       "100102                  high              NaN                  NaN   \n",
       "100103                medium              NaN                  NaN   \n",
       "100104                  high              NaN                  NaN   \n",
       "...                      ...              ...                  ...   \n",
       "20030025114              NaN              NaN                  NaN   \n",
       "20030025115              NaN              NaN                  NaN   \n",
       "20030025116              NaN              NaN               2031.0   \n",
       "20030025117              NaN              NaN                  NaN   \n",
       "20030025118              NaN              NaN                  NaN   \n",
       "\n",
       "             testingFlag  \n",
       "node_id                   \n",
       "100100               NaN  \n",
       "100101               NaN  \n",
       "100102               NaN  \n",
       "100103               NaN  \n",
       "100104               NaN  \n",
       "...                  ...  \n",
       "20030025114          NaN  \n",
       "20030025115          NaN  \n",
       "20030025116          0.0  \n",
       "20030025117          NaN  \n",
       "20030025118          NaN  \n",
       "\n",
       "[319474 rows x 10 columns]"
      ]
     },
     "execution_count": 9,
     "metadata": {},
     "output_type": "execute_result"
    }
   ],
   "source": [
    "v_data_new"
   ]
  },
  {
   "cell_type": "code",
   "execution_count": 10,
   "metadata": {},
   "outputs": [
    {
     "data": {
      "text/plain": [
       "0.0    37801\n",
       "1.0     2660\n",
       "Name: testingFlag, dtype: int64"
      ]
     },
     "execution_count": 10,
     "metadata": {},
     "output_type": "execute_result"
    }
   ],
   "source": [
    "v_data_new.testingFlag.value_counts()"
   ]
  },
  {
   "cell_type": "code",
   "execution_count": 11,
   "metadata": {},
   "outputs": [
    {
     "data": {
      "text/plain": [
       "1745.0    12\n",
       "3480.0     7\n",
       "1731.0     7\n",
       "1685.0     7\n",
       "2617.0     7\n",
       "          ..\n",
       "491.0      1\n",
       "2440.0     1\n",
       "514.0      1\n",
       "806.0      1\n",
       "2542.0     1\n",
       "Name: CoreCaseGraphID, Length: 4000, dtype: int64"
      ]
     },
     "execution_count": 11,
     "metadata": {},
     "output_type": "execute_result"
    }
   ],
   "source": [
    "v_data_new.CoreCaseGraphID.value_counts()"
   ]
  },
  {
   "cell_type": "code",
   "execution_count": 12,
   "metadata": {},
   "outputs": [
    {
     "data": {
      "text/plain": [
       "333.0     79\n",
       "421.0     68\n",
       "289.0     64\n",
       "787.0     61\n",
       "1140.0    56\n",
       "          ..\n",
       "2126.0     1\n",
       "2252.0     1\n",
       "3760.0     1\n",
       "279.0      1\n",
       "3367.0     1\n",
       "Name: ExtendedCaseGraphID, Length: 3013, dtype: int64"
      ]
     },
     "execution_count": 12,
     "metadata": {},
     "output_type": "execute_result"
    }
   ],
   "source": [
    "v_data_new.ExtendedCaseGraphID.value_counts()"
   ]
  },
  {
   "cell_type": "code",
   "execution_count": null,
   "metadata": {
    "scrolled": true
   },
   "outputs": [],
   "source": []
  },
  {
   "cell_type": "code",
   "execution_count": null,
   "metadata": {},
   "outputs": [],
   "source": [
    "v_data_new[~v_data_new.index.duplicated(keep='first')]"
   ]
  },
  {
   "cell_type": "code",
   "execution_count": null,
   "metadata": {},
   "outputs": [],
   "source": []
  },
  {
   "cell_type": "code",
   "execution_count": null,
   "metadata": {},
   "outputs": [],
   "source": []
  }
 ],
 "metadata": {
  "kernelspec": {
   "display_name": "Python 3",
   "language": "python",
   "name": "python3"
  },
  "language_info": {
   "codemirror_mode": {
    "name": "ipython",
    "version": 3
   },
   "file_extension": ".py",
   "mimetype": "text/x-python",
   "name": "python",
   "nbconvert_exporter": "python",
   "pygments_lexer": "ipython3",
   "version": "3.8.2"
  }
 },
 "nbformat": 4,
 "nbformat_minor": 4
}
