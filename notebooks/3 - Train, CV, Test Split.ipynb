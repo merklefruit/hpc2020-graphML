{
 "cells": [
  {
   "cell_type": "markdown",
   "metadata": {},
   "source": [
    "# Train / Cross Validation / Test Split"
   ]
  },
  {
   "cell_type": "markdown",
   "metadata": {},
   "source": [
    "Morale of train/cv/test split methods: try to feed the best data possible to the deep model.\n",
    "\n",
    "[help here](https://towardsdatascience.com/preprocessing-differences-in-standardization-methods-de53d2525a87)\n",
    "and [here](https://towardsdatascience.com/finally-why-we-use-an-80-20-split-for-training-and-test-data-plus-an-alternative-method-oh-yes-edc77e96295d)\n",
    "\n",
    "Alternative splitting methods:\n",
    "\n",
    "- Pareto principle split: 80/20\n",
    "- Scaling law split\n",
    "- Banana split (no unfortunately this doesn't exist yet)"
   ]
  },
  {
   "cell_type": "code",
   "execution_count": 1,
   "metadata": {},
   "outputs": [],
   "source": [
    "import os\n",
    "from os import path\n",
    "import pandas as pd\n",
    "import numpy as np\n",
    "from sklearn import preprocessing, model_selection"
   ]
  },
  {
   "cell_type": "code",
   "execution_count": 2,
   "metadata": {},
   "outputs": [],
   "source": [
    "# Loading data\n",
    "\n",
    "nodes = pd.read_csv('../data/raw/no_nan_data.csv', low_memory=False)"
   ]
  },
  {
   "cell_type": "code",
   "execution_count": 3,
   "metadata": {},
   "outputs": [
    {
     "data": {
      "text/html": [
       "<div>\n",
       "<style scoped>\n",
       "    .dataframe tbody tr th:only-of-type {\n",
       "        vertical-align: middle;\n",
       "    }\n",
       "\n",
       "    .dataframe tbody tr th {\n",
       "        vertical-align: top;\n",
       "    }\n",
       "\n",
       "    .dataframe thead th {\n",
       "        text-align: right;\n",
       "    }\n",
       "</style>\n",
       "<table border=\"1\" class=\"dataframe\">\n",
       "  <thead>\n",
       "    <tr style=\"text-align: right;\">\n",
       "      <th></th>\n",
       "      <th>node_id</th>\n",
       "      <th>Label</th>\n",
       "      <th>Revenue Size Flag</th>\n",
       "      <th>Account ID String</th>\n",
       "      <th>Address</th>\n",
       "      <th>Person or Organisation</th>\n",
       "      <th>Name</th>\n",
       "      <th>Income Size Flag</th>\n",
       "      <th>CoreCaseGraphID</th>\n",
       "      <th>ExtendedCaseGraphID</th>\n",
       "      <th>testingFlag</th>\n",
       "    </tr>\n",
       "  </thead>\n",
       "  <tbody>\n",
       "    <tr>\n",
       "      <th>0</th>\n",
       "      <td>1502000</td>\n",
       "      <td>1</td>\n",
       "      <td>4</td>\n",
       "      <td>RvIOFQqK0E</td>\n",
       "      <td>missing</td>\n",
       "      <td>-1</td>\n",
       "      <td>missing</td>\n",
       "      <td>-1</td>\n",
       "      <td>0</td>\n",
       "      <td>0</td>\n",
       "      <td>NaN</td>\n",
       "    </tr>\n",
       "    <tr>\n",
       "      <th>1</th>\n",
       "      <td>1502001</td>\n",
       "      <td>1</td>\n",
       "      <td>2</td>\n",
       "      <td>cSnM0hVDsm</td>\n",
       "      <td>missing</td>\n",
       "      <td>-1</td>\n",
       "      <td>missing</td>\n",
       "      <td>-1</td>\n",
       "      <td>0</td>\n",
       "      <td>0</td>\n",
       "      <td>NaN</td>\n",
       "    </tr>\n",
       "    <tr>\n",
       "      <th>2</th>\n",
       "      <td>1502002</td>\n",
       "      <td>1</td>\n",
       "      <td>2</td>\n",
       "      <td>WAQWpZi4AD</td>\n",
       "      <td>missing</td>\n",
       "      <td>-1</td>\n",
       "      <td>missing</td>\n",
       "      <td>-1</td>\n",
       "      <td>2492</td>\n",
       "      <td>0</td>\n",
       "      <td>0.0</td>\n",
       "    </tr>\n",
       "    <tr>\n",
       "      <th>3</th>\n",
       "      <td>1502003</td>\n",
       "      <td>1</td>\n",
       "      <td>4</td>\n",
       "      <td>n5J9mBTeZc</td>\n",
       "      <td>missing</td>\n",
       "      <td>-1</td>\n",
       "      <td>missing</td>\n",
       "      <td>-1</td>\n",
       "      <td>0</td>\n",
       "      <td>0</td>\n",
       "      <td>NaN</td>\n",
       "    </tr>\n",
       "    <tr>\n",
       "      <th>4</th>\n",
       "      <td>1502004</td>\n",
       "      <td>1</td>\n",
       "      <td>2</td>\n",
       "      <td>qxlAEuUm7P</td>\n",
       "      <td>missing</td>\n",
       "      <td>-1</td>\n",
       "      <td>missing</td>\n",
       "      <td>-1</td>\n",
       "      <td>0</td>\n",
       "      <td>0</td>\n",
       "      <td>NaN</td>\n",
       "    </tr>\n",
       "    <tr>\n",
       "      <th>...</th>\n",
       "      <td>...</td>\n",
       "      <td>...</td>\n",
       "      <td>...</td>\n",
       "      <td>...</td>\n",
       "      <td>...</td>\n",
       "      <td>...</td>\n",
       "      <td>...</td>\n",
       "      <td>...</td>\n",
       "      <td>...</td>\n",
       "      <td>...</td>\n",
       "      <td>...</td>\n",
       "    </tr>\n",
       "    <tr>\n",
       "      <th>319371</th>\n",
       "      <td>3001177742</td>\n",
       "      <td>5</td>\n",
       "      <td>-1</td>\n",
       "      <td>missing</td>\n",
       "      <td>missing</td>\n",
       "      <td>2</td>\n",
       "      <td>gqDyJLC8DS</td>\n",
       "      <td>-1</td>\n",
       "      <td>0</td>\n",
       "      <td>0</td>\n",
       "      <td>NaN</td>\n",
       "    </tr>\n",
       "    <tr>\n",
       "      <th>319372</th>\n",
       "      <td>3001177743</td>\n",
       "      <td>5</td>\n",
       "      <td>-1</td>\n",
       "      <td>missing</td>\n",
       "      <td>missing</td>\n",
       "      <td>1</td>\n",
       "      <td>B5TdCmIf69</td>\n",
       "      <td>-1</td>\n",
       "      <td>0</td>\n",
       "      <td>0</td>\n",
       "      <td>NaN</td>\n",
       "    </tr>\n",
       "    <tr>\n",
       "      <th>319373</th>\n",
       "      <td>3001177744</td>\n",
       "      <td>5</td>\n",
       "      <td>-1</td>\n",
       "      <td>missing</td>\n",
       "      <td>missing</td>\n",
       "      <td>2</td>\n",
       "      <td>izrJE4sDpr</td>\n",
       "      <td>-1</td>\n",
       "      <td>0</td>\n",
       "      <td>0</td>\n",
       "      <td>NaN</td>\n",
       "    </tr>\n",
       "    <tr>\n",
       "      <th>319374</th>\n",
       "      <td>3001177745</td>\n",
       "      <td>5</td>\n",
       "      <td>-1</td>\n",
       "      <td>missing</td>\n",
       "      <td>missing</td>\n",
       "      <td>1</td>\n",
       "      <td>TKQfFZ3fkk</td>\n",
       "      <td>-1</td>\n",
       "      <td>0</td>\n",
       "      <td>2030</td>\n",
       "      <td>0.0</td>\n",
       "    </tr>\n",
       "    <tr>\n",
       "      <th>319375</th>\n",
       "      <td>3001177746</td>\n",
       "      <td>5</td>\n",
       "      <td>-1</td>\n",
       "      <td>missing</td>\n",
       "      <td>missing</td>\n",
       "      <td>1</td>\n",
       "      <td>Tl8KrwulsB</td>\n",
       "      <td>-1</td>\n",
       "      <td>0</td>\n",
       "      <td>0</td>\n",
       "      <td>NaN</td>\n",
       "    </tr>\n",
       "  </tbody>\n",
       "</table>\n",
       "<p>319376 rows × 11 columns</p>\n",
       "</div>"
      ],
      "text/plain": [
       "           node_id  Label  Revenue Size Flag Account ID String  Address  \\\n",
       "0          1502000      1                  4        RvIOFQqK0E  missing   \n",
       "1          1502001      1                  2        cSnM0hVDsm  missing   \n",
       "2          1502002      1                  2        WAQWpZi4AD  missing   \n",
       "3          1502003      1                  4        n5J9mBTeZc  missing   \n",
       "4          1502004      1                  2        qxlAEuUm7P  missing   \n",
       "...            ...    ...                ...               ...      ...   \n",
       "319371  3001177742      5                 -1           missing  missing   \n",
       "319372  3001177743      5                 -1           missing  missing   \n",
       "319373  3001177744      5                 -1           missing  missing   \n",
       "319374  3001177745      5                 -1           missing  missing   \n",
       "319375  3001177746      5                 -1           missing  missing   \n",
       "\n",
       "        Person or Organisation        Name  Income Size Flag  CoreCaseGraphID  \\\n",
       "0                           -1     missing                -1                0   \n",
       "1                           -1     missing                -1                0   \n",
       "2                           -1     missing                -1             2492   \n",
       "3                           -1     missing                -1                0   \n",
       "4                           -1     missing                -1                0   \n",
       "...                        ...         ...               ...              ...   \n",
       "319371                       2  gqDyJLC8DS                -1                0   \n",
       "319372                       1  B5TdCmIf69                -1                0   \n",
       "319373                       2  izrJE4sDpr                -1                0   \n",
       "319374                       1  TKQfFZ3fkk                -1                0   \n",
       "319375                       1  Tl8KrwulsB                -1                0   \n",
       "\n",
       "        ExtendedCaseGraphID  testingFlag  \n",
       "0                         0          NaN  \n",
       "1                         0          NaN  \n",
       "2                         0          0.0  \n",
       "3                         0          NaN  \n",
       "4                         0          NaN  \n",
       "...                     ...          ...  \n",
       "319371                    0          NaN  \n",
       "319372                    0          NaN  \n",
       "319373                    0          NaN  \n",
       "319374                 2030          0.0  \n",
       "319375                    0          NaN  \n",
       "\n",
       "[319376 rows x 11 columns]"
      ]
     },
     "execution_count": 3,
     "metadata": {},
     "output_type": "execute_result"
    }
   ],
   "source": [
    "nodes"
   ]
  },
  {
   "cell_type": "code",
   "execution_count": 4,
   "metadata": {},
   "outputs": [
    {
     "data": {
      "text/plain": [
       "0.0    37669\n",
       "1.0     1792\n",
       "Name: testingFlag, dtype: int64"
      ]
     },
     "execution_count": 4,
     "metadata": {},
     "output_type": "execute_result"
    }
   ],
   "source": [
    "# How many values for testingFlag\n",
    "nodes.testingFlag.value_counts()"
   ]
  },
  {
   "cell_type": "code",
   "execution_count": 5,
   "metadata": {},
   "outputs": [
    {
     "data": {
      "text/plain": [
       "279915"
      ]
     },
     "execution_count": 5,
     "metadata": {},
     "output_type": "execute_result"
    }
   ],
   "source": [
    "nodes.testingFlag.isna().sum()"
   ]
  },
  {
   "cell_type": "code",
   "execution_count": 6,
   "metadata": {},
   "outputs": [
    {
     "data": {
      "text/plain": [
       "279915"
      ]
     },
     "execution_count": 6,
     "metadata": {},
     "output_type": "execute_result"
    }
   ],
   "source": [
    "# TRAIN_SET + CV_SET\n",
    "# Nodes with testingFlag == 0 are nodes to use for training?\n",
    "\n",
    "train_cv_set = nodes.loc[nodes['testingFlag'].isnull()]\n",
    "train_cv_set.shape[0]"
   ]
  },
  {
   "cell_type": "code",
   "execution_count": 7,
   "metadata": {
    "scrolled": true
   },
   "outputs": [
    {
     "data": {
      "text/plain": [
       "37669"
      ]
     },
     "execution_count": 7,
     "metadata": {},
     "output_type": "execute_result"
    }
   ],
   "source": [
    "# TEST SET\n",
    "# Nodes that have testingFlag == 1 are nodes on which to evaluate performance?\n",
    "\n",
    "test_set = nodes.loc[nodes['testingFlag'] == 0]\n",
    "test_set.shape[0]"
   ]
  },
  {
   "cell_type": "markdown",
   "metadata": {},
   "source": [
    "## 1: Pareto Split"
   ]
  },
  {
   "cell_type": "code",
   "execution_count": 8,
   "metadata": {},
   "outputs": [],
   "source": [
    "# 80% train, 20% cross validation\n",
    "\n",
    "train_set, validation_set = model_selection.train_test_split(train_cv_set, test_size=0.2)"
   ]
  },
  {
   "cell_type": "code",
   "execution_count": 9,
   "metadata": {},
   "outputs": [
    {
     "data": {
      "text/plain": [
       "(223932, 11)"
      ]
     },
     "execution_count": 9,
     "metadata": {},
     "output_type": "execute_result"
    }
   ],
   "source": [
    "train_set.shape"
   ]
  },
  {
   "cell_type": "code",
   "execution_count": 10,
   "metadata": {
    "scrolled": true
   },
   "outputs": [
    {
     "data": {
      "text/plain": [
       "(55983, 11)"
      ]
     },
     "execution_count": 10,
     "metadata": {},
     "output_type": "execute_result"
    }
   ],
   "source": [
    "validation_set.shape"
   ]
  },
  {
   "cell_type": "markdown",
   "metadata": {},
   "source": [
    "## 2: Other methods\n",
    "\n",
    "TODO"
   ]
  },
  {
   "cell_type": "markdown",
   "metadata": {},
   "source": [
    "## Remove testingFlag"
   ]
  },
  {
   "cell_type": "code",
   "execution_count": 11,
   "metadata": {},
   "outputs": [],
   "source": [
    "train_set = train_set.drop(['testingFlag'], axis=1)\n",
    "test_set = test_set.drop(['testingFlag'], axis=1)"
   ]
  },
  {
   "cell_type": "code",
   "execution_count": 12,
   "metadata": {},
   "outputs": [],
   "source": [
    "# TODO: what is testingFlag?? ASK"
   ]
  },
  {
   "cell_type": "code",
   "execution_count": 13,
   "metadata": {},
   "outputs": [
    {
     "data": {
      "text/html": [
       "<div>\n",
       "<style scoped>\n",
       "    .dataframe tbody tr th:only-of-type {\n",
       "        vertical-align: middle;\n",
       "    }\n",
       "\n",
       "    .dataframe tbody tr th {\n",
       "        vertical-align: top;\n",
       "    }\n",
       "\n",
       "    .dataframe thead th {\n",
       "        text-align: right;\n",
       "    }\n",
       "</style>\n",
       "<table border=\"1\" class=\"dataframe\">\n",
       "  <thead>\n",
       "    <tr style=\"text-align: right;\">\n",
       "      <th></th>\n",
       "      <th>node_id</th>\n",
       "      <th>Label</th>\n",
       "      <th>Revenue Size Flag</th>\n",
       "      <th>Account ID String</th>\n",
       "      <th>Address</th>\n",
       "      <th>Person or Organisation</th>\n",
       "      <th>Name</th>\n",
       "      <th>Income Size Flag</th>\n",
       "      <th>CoreCaseGraphID</th>\n",
       "      <th>ExtendedCaseGraphID</th>\n",
       "    </tr>\n",
       "  </thead>\n",
       "  <tbody>\n",
       "    <tr>\n",
       "      <th>70530</th>\n",
       "      <td>15020111969</td>\n",
       "      <td>1</td>\n",
       "      <td>3</td>\n",
       "      <td>54WA38G4CE</td>\n",
       "      <td>missing</td>\n",
       "      <td>-1</td>\n",
       "      <td>missing</td>\n",
       "      <td>-1</td>\n",
       "      <td>0</td>\n",
       "      <td>0</td>\n",
       "    </tr>\n",
       "    <tr>\n",
       "      <th>238033</th>\n",
       "      <td>2003013750</td>\n",
       "      <td>4</td>\n",
       "      <td>-1</td>\n",
       "      <td>missing</td>\n",
       "      <td>missing</td>\n",
       "      <td>1</td>\n",
       "      <td>CONSTRUCTORA BIG, S.A.</td>\n",
       "      <td>-1</td>\n",
       "      <td>0</td>\n",
       "      <td>0</td>\n",
       "    </tr>\n",
       "    <tr>\n",
       "      <th>39686</th>\n",
       "      <td>15020118163</td>\n",
       "      <td>1</td>\n",
       "      <td>2</td>\n",
       "      <td>2738haLxZa</td>\n",
       "      <td>missing</td>\n",
       "      <td>-1</td>\n",
       "      <td>missing</td>\n",
       "      <td>-1</td>\n",
       "      <td>0</td>\n",
       "      <td>0</td>\n",
       "    </tr>\n",
       "    <tr>\n",
       "      <th>5741</th>\n",
       "      <td>15020013303</td>\n",
       "      <td>1</td>\n",
       "      <td>4</td>\n",
       "      <td>2PWl85WAUH</td>\n",
       "      <td>missing</td>\n",
       "      <td>-1</td>\n",
       "      <td>missing</td>\n",
       "      <td>-1</td>\n",
       "      <td>0</td>\n",
       "      <td>0</td>\n",
       "    </tr>\n",
       "    <tr>\n",
       "      <th>290925</th>\n",
       "      <td>3001147772</td>\n",
       "      <td>5</td>\n",
       "      <td>-1</td>\n",
       "      <td>missing</td>\n",
       "      <td>missing</td>\n",
       "      <td>1</td>\n",
       "      <td>qW35CCIBZA</td>\n",
       "      <td>-1</td>\n",
       "      <td>0</td>\n",
       "      <td>0</td>\n",
       "    </tr>\n",
       "    <tr>\n",
       "      <th>...</th>\n",
       "      <td>...</td>\n",
       "      <td>...</td>\n",
       "      <td>...</td>\n",
       "      <td>...</td>\n",
       "      <td>...</td>\n",
       "      <td>...</td>\n",
       "      <td>...</td>\n",
       "      <td>...</td>\n",
       "      <td>...</td>\n",
       "      <td>...</td>\n",
       "    </tr>\n",
       "    <tr>\n",
       "      <th>51684</th>\n",
       "      <td>15020119611</td>\n",
       "      <td>1</td>\n",
       "      <td>4</td>\n",
       "      <td>3806Ngie0q</td>\n",
       "      <td>missing</td>\n",
       "      <td>-1</td>\n",
       "      <td>missing</td>\n",
       "      <td>-1</td>\n",
       "      <td>0</td>\n",
       "      <td>0</td>\n",
       "    </tr>\n",
       "    <tr>\n",
       "      <th>6813</th>\n",
       "      <td>15020015419</td>\n",
       "      <td>1</td>\n",
       "      <td>2</td>\n",
       "      <td>AOsz31bpzy</td>\n",
       "      <td>missing</td>\n",
       "      <td>-1</td>\n",
       "      <td>missing</td>\n",
       "      <td>-1</td>\n",
       "      <td>0</td>\n",
       "      <td>0</td>\n",
       "    </tr>\n",
       "    <tr>\n",
       "      <th>143635</th>\n",
       "      <td>2501110691</td>\n",
       "      <td>2</td>\n",
       "      <td>-1</td>\n",
       "      <td>missing</td>\n",
       "      <td>TCmdcp9qxt</td>\n",
       "      <td>-1</td>\n",
       "      <td>missing</td>\n",
       "      <td>-1</td>\n",
       "      <td>0</td>\n",
       "      <td>0</td>\n",
       "    </tr>\n",
       "    <tr>\n",
       "      <th>208996</th>\n",
       "      <td>1001047766</td>\n",
       "      <td>3</td>\n",
       "      <td>-1</td>\n",
       "      <td>missing</td>\n",
       "      <td>missing</td>\n",
       "      <td>2</td>\n",
       "      <td>Jhzg3Fpn1E</td>\n",
       "      <td>1</td>\n",
       "      <td>0</td>\n",
       "      <td>0</td>\n",
       "    </tr>\n",
       "    <tr>\n",
       "      <th>251805</th>\n",
       "      <td>20030019819</td>\n",
       "      <td>4</td>\n",
       "      <td>-1</td>\n",
       "      <td>missing</td>\n",
       "      <td>missing</td>\n",
       "      <td>1</td>\n",
       "      <td>WVdZ3Xhwf6</td>\n",
       "      <td>-1</td>\n",
       "      <td>0</td>\n",
       "      <td>0</td>\n",
       "    </tr>\n",
       "  </tbody>\n",
       "</table>\n",
       "<p>223932 rows × 10 columns</p>\n",
       "</div>"
      ],
      "text/plain": [
       "            node_id  Label  Revenue Size Flag Account ID String     Address  \\\n",
       "70530   15020111969      1                  3        54WA38G4CE     missing   \n",
       "238033   2003013750      4                 -1           missing     missing   \n",
       "39686   15020118163      1                  2        2738haLxZa     missing   \n",
       "5741    15020013303      1                  4        2PWl85WAUH     missing   \n",
       "290925   3001147772      5                 -1           missing     missing   \n",
       "...             ...    ...                ...               ...         ...   \n",
       "51684   15020119611      1                  4        3806Ngie0q     missing   \n",
       "6813    15020015419      1                  2        AOsz31bpzy     missing   \n",
       "143635   2501110691      2                 -1           missing  TCmdcp9qxt   \n",
       "208996   1001047766      3                 -1           missing     missing   \n",
       "251805  20030019819      4                 -1           missing     missing   \n",
       "\n",
       "        Person or Organisation                    Name  Income Size Flag  \\\n",
       "70530                       -1                 missing                -1   \n",
       "238033                       1  CONSTRUCTORA BIG, S.A.                -1   \n",
       "39686                       -1                 missing                -1   \n",
       "5741                        -1                 missing                -1   \n",
       "290925                       1              qW35CCIBZA                -1   \n",
       "...                        ...                     ...               ...   \n",
       "51684                       -1                 missing                -1   \n",
       "6813                        -1                 missing                -1   \n",
       "143635                      -1                 missing                -1   \n",
       "208996                       2              Jhzg3Fpn1E                 1   \n",
       "251805                       1              WVdZ3Xhwf6                -1   \n",
       "\n",
       "        CoreCaseGraphID  ExtendedCaseGraphID  \n",
       "70530                 0                    0  \n",
       "238033                0                    0  \n",
       "39686                 0                    0  \n",
       "5741                  0                    0  \n",
       "290925                0                    0  \n",
       "...                 ...                  ...  \n",
       "51684                 0                    0  \n",
       "6813                  0                    0  \n",
       "143635                0                    0  \n",
       "208996                0                    0  \n",
       "251805                0                    0  \n",
       "\n",
       "[223932 rows x 10 columns]"
      ]
     },
     "execution_count": 13,
     "metadata": {},
     "output_type": "execute_result"
    }
   ],
   "source": [
    "train_set"
   ]
  },
  {
   "cell_type": "markdown",
   "metadata": {},
   "source": [
    "## Export datasets"
   ]
  },
  {
   "cell_type": "code",
   "execution_count": 14,
   "metadata": {},
   "outputs": [],
   "source": [
    "def write_csv_df(path, filename, df):\n",
    "    pathfile = os.path.normpath(os.path.join(path,filename))\n",
    "    files_present = os.path.isfile(pathfile) \n",
    "    if not files_present:\n",
    "        df.to_csv(pathfile, encoding='utf-8', index=False)\n",
    "    else:\n",
    "        overwrite = input(\"WARNING: \" + pathfile + \" already exists! Do you want to overwrite <y/n>? \\n \")\n",
    "        if overwrite == 'y':\n",
    "            df.to_csv(pathfile, encoding='utf-8', index=False)\n",
    "        elif overwrite == 'n':\n",
    "            new_filename = input(\"Type new filename: \\n \")\n",
    "            write_csv_df(path,new_filename,df)\n",
    "        else:\n",
    "            print (\"Not a valid input. Data is NOT saved!\\n\")"
   ]
  },
  {
   "cell_type": "code",
   "execution_count": 16,
   "metadata": {
    "scrolled": false
   },
   "outputs": [],
   "source": [
    "# Export \n",
    "\n",
    "write_csv_df(\"../data/split\", \"train_set_subset.csv\", train_set)\n",
    "write_csv_df(\"../data/split\", \"validation_set_subset.csv\", validation_set)\n",
    "write_csv_df(\"../data/split\", \"test_set_subset.csv\", test_set)"
   ]
  },
  {
   "cell_type": "code",
   "execution_count": null,
   "metadata": {},
   "outputs": [],
   "source": []
  }
 ],
 "metadata": {
  "kernelspec": {
   "display_name": "Python 3",
   "language": "python",
   "name": "python3"
  },
  "language_info": {
   "codemirror_mode": {
    "name": "ipython",
    "version": 3
   },
   "file_extension": ".py",
   "mimetype": "text/x-python",
   "name": "python",
   "nbconvert_exporter": "python",
   "pygments_lexer": "ipython3",
   "version": "3.8.2"
  }
 },
 "nbformat": 4,
 "nbformat_minor": 4
}
