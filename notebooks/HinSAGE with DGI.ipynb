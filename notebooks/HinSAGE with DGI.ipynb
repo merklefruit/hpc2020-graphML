{
 "cells": [
  {
   "cell_type": "code",
   "execution_count": 1,
   "metadata": {},
   "outputs": [],
   "source": [
    "import time\n",
    "import json\n",
    "\n",
    "import pandas as pd\n",
    "import numpy as np\n",
    "from sklearn import preprocessing, feature_extraction, model_selection\n",
    "from sklearn.metrics import mean_squared_error, accuracy_score, plot_confusion_matrix, f1_score\n",
    "from sklearn.manifold import TSNE\n",
    "from sklearn.linear_model import LogisticRegressionCV, LogisticRegression\n",
    "\n",
    "import stellargraph as sg\n",
    "from stellargraph import datasets\n",
    "from stellargraph.mapper import (\n",
    "    CorruptedGenerator,\n",
    "    FullBatchNodeGenerator,\n",
    "    GraphSAGENodeGenerator,\n",
    "    HinSAGENodeGenerator,\n",
    "    Node2VecNodeGenerator,\n",
    "    ClusterNodeGenerator,\n",
    ")\n",
    "from stellargraph.layer import GCN, DeepGraphInfomax, GraphSAGE, GAT, APPNP, HinSAGE, Dense\n",
    "\n",
    "import tensorflow as tf\n",
    "from tensorflow.keras.optimizers import Adam\n",
    "from tensorflow.keras.callbacks import EarlyStopping\n",
    "from tensorflow.keras import Model, optimizers, losses, metrics\n",
    "\n",
    "import multiprocessing\n",
    "from IPython.display import display, HTML\n",
    "import matplotlib.pyplot as plt\n",
    "%matplotlib inline"
   ]
  },
  {
   "cell_type": "code",
   "execution_count": 2,
   "metadata": {
    "scrolled": false
   },
   "outputs": [
    {
     "name": "stdout",
     "output_type": "stream",
     "text": [
      "Dataset already downloaded. Loading it from file system\n",
      "LOADING DATA: 1.00 s\n",
      "SUBSAMPLING: 0.06 s\n",
      "PREPROCESSING: 0.06 s\n"
     ]
    }
   ],
   "source": [
    "import sys\n",
    "sys.path.append('../')\n",
    "import utils\n",
    "\n",
    "n = 10000\n",
    "v_sets, e_sets, core_targets, ext_targets, v_sample, e_sample = utils.load_for_jupyter(n)"
   ]
  },
  {
   "cell_type": "code",
   "execution_count": 47,
   "metadata": {},
   "outputs": [
    {
     "data": {
      "text/html": [
       "<div>\n",
       "<style scoped>\n",
       "    .dataframe tbody tr th:only-of-type {\n",
       "        vertical-align: middle;\n",
       "    }\n",
       "\n",
       "    .dataframe tbody tr th {\n",
       "        vertical-align: top;\n",
       "    }\n",
       "\n",
       "    .dataframe thead th {\n",
       "        text-align: right;\n",
       "    }\n",
       "</style>\n",
       "<table border=\"1\" class=\"dataframe\">\n",
       "  <thead>\n",
       "    <tr style=\"text-align: right;\">\n",
       "      <th></th>\n",
       "      <th>Revenue Size Flag</th>\n",
       "      <th>CoreCaseGraphID</th>\n",
       "      <th>ExtendedCaseGraphID</th>\n",
       "      <th>Fraudolent</th>\n",
       "    </tr>\n",
       "    <tr>\n",
       "      <th>node_id</th>\n",
       "      <th></th>\n",
       "      <th></th>\n",
       "      <th></th>\n",
       "      <th></th>\n",
       "    </tr>\n",
       "  </thead>\n",
       "  <tbody>\n",
       "    <tr>\n",
       "      <th>1502001</th>\n",
       "      <td>1</td>\n",
       "      <td>0.0</td>\n",
       "      <td>0.0</td>\n",
       "      <td>0</td>\n",
       "    </tr>\n",
       "    <tr>\n",
       "      <th>15020019</th>\n",
       "      <td>5</td>\n",
       "      <td>0.0</td>\n",
       "      <td>0.0</td>\n",
       "      <td>0</td>\n",
       "    </tr>\n",
       "    <tr>\n",
       "      <th>15020023</th>\n",
       "      <td>4</td>\n",
       "      <td>0.0</td>\n",
       "      <td>0.0</td>\n",
       "      <td>0</td>\n",
       "    </tr>\n",
       "    <tr>\n",
       "      <th>15020024</th>\n",
       "      <td>3</td>\n",
       "      <td>0.0</td>\n",
       "      <td>0.0</td>\n",
       "      <td>0</td>\n",
       "    </tr>\n",
       "    <tr>\n",
       "      <th>15020043</th>\n",
       "      <td>1</td>\n",
       "      <td>0.0</td>\n",
       "      <td>0.0</td>\n",
       "      <td>0</td>\n",
       "    </tr>\n",
       "    <tr>\n",
       "      <th>...</th>\n",
       "      <td>...</td>\n",
       "      <td>...</td>\n",
       "      <td>...</td>\n",
       "      <td>...</td>\n",
       "    </tr>\n",
       "    <tr>\n",
       "      <th>15020148676</th>\n",
       "      <td>2</td>\n",
       "      <td>0.0</td>\n",
       "      <td>0.0</td>\n",
       "      <td>0</td>\n",
       "    </tr>\n",
       "    <tr>\n",
       "      <th>15020148714</th>\n",
       "      <td>4</td>\n",
       "      <td>0.0</td>\n",
       "      <td>0.0</td>\n",
       "      <td>0</td>\n",
       "    </tr>\n",
       "    <tr>\n",
       "      <th>15020148863</th>\n",
       "      <td>5</td>\n",
       "      <td>0.0</td>\n",
       "      <td>0.0</td>\n",
       "      <td>0</td>\n",
       "    </tr>\n",
       "    <tr>\n",
       "      <th>15020148963</th>\n",
       "      <td>2</td>\n",
       "      <td>0.0</td>\n",
       "      <td>0.0</td>\n",
       "      <td>0</td>\n",
       "    </tr>\n",
       "    <tr>\n",
       "      <th>15020149194</th>\n",
       "      <td>5</td>\n",
       "      <td>0.0</td>\n",
       "      <td>0.0</td>\n",
       "      <td>0</td>\n",
       "    </tr>\n",
       "  </tbody>\n",
       "</table>\n",
       "<p>10916 rows × 4 columns</p>\n",
       "</div>"
      ],
      "text/plain": [
       "             Revenue Size Flag  CoreCaseGraphID  ExtendedCaseGraphID  \\\n",
       "node_id                                                                \n",
       "1502001                      1              0.0                  0.0   \n",
       "15020019                     5              0.0                  0.0   \n",
       "15020023                     4              0.0                  0.0   \n",
       "15020024                     3              0.0                  0.0   \n",
       "15020043                     1              0.0                  0.0   \n",
       "...                        ...              ...                  ...   \n",
       "15020148676                  2              0.0                  0.0   \n",
       "15020148714                  4              0.0                  0.0   \n",
       "15020148863                  5              0.0                  0.0   \n",
       "15020148963                  2              0.0                  0.0   \n",
       "15020149194                  5              0.0                  0.0   \n",
       "\n",
       "            Fraudolent  \n",
       "node_id                 \n",
       "1502001              0  \n",
       "15020019             0  \n",
       "15020023             0  \n",
       "15020024             0  \n",
       "15020043             0  \n",
       "...                ...  \n",
       "15020148676          0  \n",
       "15020148714          0  \n",
       "15020148863          0  \n",
       "15020148963          0  \n",
       "15020149194          0  \n",
       "\n",
       "[10916 rows x 4 columns]"
      ]
     },
     "execution_count": 47,
     "metadata": {},
     "output_type": "execute_result"
    }
   ],
   "source": [
    "v_sets['Account']"
   ]
  },
  {
   "cell_type": "code",
   "execution_count": 3,
   "metadata": {},
   "outputs": [],
   "source": [
    "batch_size = 300\n",
    "epochs = 15\n",
    "# Use 70% of edges for training, the rest for testing:\n",
    "train_size = 0.7\n",
    "test_size = 0.3"
   ]
  },
  {
   "cell_type": "code",
   "execution_count": 4,
   "metadata": {},
   "outputs": [],
   "source": [
    "# Initialize SG graph\n",
    "G = sg.StellarDiGraph(v_sets, e_sets)"
   ]
  },
  {
   "cell_type": "code",
   "execution_count": 5,
   "metadata": {},
   "outputs": [],
   "source": [
    "nodes_with_labels = v_sets.copy()"
   ]
  },
  {
   "cell_type": "code",
   "execution_count": 6,
   "metadata": {},
   "outputs": [
    {
     "data": {
      "text/plain": [
       "2572"
      ]
     },
     "execution_count": 6,
     "metadata": {},
     "output_type": "execute_result"
    }
   ],
   "source": [
    "ext_targets.size"
   ]
  },
  {
   "cell_type": "code",
   "execution_count": 7,
   "metadata": {
    "scrolled": false
   },
   "outputs": [
    {
     "name": "stdout",
     "output_type": "stream",
     "text": [
      "StellarDiGraph: Directed multigraph\n",
      " Nodes: 18981, Edges: 10000\n",
      "\n",
      " Node types:\n",
      "  Account: [10916]\n",
      "    Features: float32 vector, length 4\n",
      "    Edge types: Account-money transfer->Account, Account-money transfer->Derived Entity\n",
      "  Customer: [3434]\n",
      "    Features: float32 vector, length 6\n",
      "    Edge types: Customer-has account->Account, Customer-has address->Address, Customer-is similar->External Entity\n",
      "  Derived Entity: [2996]\n",
      "    Features: float32 vector, length 5\n",
      "    Edge types: Derived Entity-is similar->External Entity, Derived Entity-money transfer->Account\n",
      "  External Entity: [1209]\n",
      "    Features: float32 vector, length 5\n",
      "    Edge types: none\n",
      "  Address: [426]\n",
      "    Features: float32 vector, length 3\n",
      "    Edge types: none\n",
      "\n",
      " Edge types:\n",
      "    Account-money transfer->Account: [3242]\n",
      "        Weights: range=[1, 500], mean=177.645, std=222.799\n",
      "        Features: none\n",
      "    Customer-has account->Account: [2996]\n",
      "        Weights: all 1 (default)\n",
      "        Features: none\n",
      "    Derived Entity-is similar->External Entity: [1120]\n",
      "        Weights: range=[1, 3], mean=1.98839, std=0.805948\n",
      "        Features: none\n",
      "    Derived Entity-money transfer->Account: [1059]\n",
      "        Weights: range=[1, 500], mean=177.356, std=222.891\n",
      "        Features: none\n",
      "    Account-money transfer->Derived Entity: [1046]\n",
      "        Weights: range=[1, 500], mean=186.423, std=225.749\n",
      "        Features: none\n",
      "    Customer-has address->Address: [430]\n",
      "        Weights: all 1 (default)\n",
      "        Features: none\n",
      "    Customer-is similar->External Entity: [107]\n",
      "        Weights: range=[1, 3], mean=1.96262, std=0.77612\n",
      "        Features: none\n"
     ]
    }
   ],
   "source": [
    "print(G.info())"
   ]
  },
  {
   "cell_type": "code",
   "execution_count": 8,
   "metadata": {},
   "outputs": [],
   "source": [
    "# Split edges into train and test sets\n",
    "\n",
    "train_ID, test_ID = model_selection.train_test_split(\n",
    "    ext_targets, train_size=train_size, test_size=test_size, #stratify=ext_targets\n",
    ")"
   ]
  },
  {
   "cell_type": "code",
   "execution_count": 9,
   "metadata": {},
   "outputs": [],
   "source": [
    "# Select only nodes of type \"Account\" for prediction\n",
    "\n",
    "train_ID = train_ID[train_ID.index.isin(v_sets['Account'].index)]\n",
    "test_ID = test_ID[test_ID.index.isin(v_sets['Account'].index)]"
   ]
  },
  {
   "cell_type": "code",
   "execution_count": 10,
   "metadata": {},
   "outputs": [],
   "source": [
    "# Convert targets labels in one-hot encoded features (optional, for categorical targets)\n",
    "\n",
    "target_encoding = preprocessing.LabelBinarizer()\n",
    "train_targets = target_encoding.fit_transform(train_ID)\n",
    "test_targets = target_encoding.transform(test_ID)"
   ]
  },
  {
   "cell_type": "code",
   "execution_count": 11,
   "metadata": {},
   "outputs": [
    {
     "data": {
      "text/plain": [
       "(836, 1)"
      ]
     },
     "execution_count": 11,
     "metadata": {},
     "output_type": "execute_result"
    }
   ],
   "source": [
    "train_ID.shape"
   ]
  },
  {
   "cell_type": "code",
   "execution_count": 12,
   "metadata": {},
   "outputs": [
    {
     "data": {
      "text/plain": [
       "(836, 640)"
      ]
     },
     "execution_count": 12,
     "metadata": {},
     "output_type": "execute_result"
    }
   ],
   "source": [
    "train_targets.shape"
   ]
  },
  {
   "cell_type": "code",
   "execution_count": 13,
   "metadata": {},
   "outputs": [],
   "source": [
    "# Choosing a 2 layer model with 8 nodes sampled in the first layer and 4 in the second.\n",
    "num_samples = [8, 4]\n",
    "# we can do 8*4 = 32x32 hidden layer size, since len(num_samples) defines \n",
    "# the number of hops (layers) in the HinSAGE model"
   ]
  },
  {
   "cell_type": "code",
   "execution_count": 14,
   "metadata": {},
   "outputs": [],
   "source": [
    "'''\n",
    "HinSAGENodeGenerator(G, batch_size, num_samples, head_node_type=None, schema=None, seed=None, name=None)\n",
    "\n",
    "G = graph\n",
    "batch_size = size of batch to return\n",
    "num_samples = the number of samples per layer (hop) to take\n",
    "head_node_type = the node type that will be given to the generator using the flow method. \n",
    "                  The model will expect this type.\n",
    "                  If not given, it defaults to a single node type.\n",
    "'''\n",
    "\n",
    "generator = HinSAGENodeGenerator(\n",
    "    G, \n",
    "    batch_size, \n",
    "    num_samples,\n",
    "    head_node_type=\"Account\"\n",
    ")"
   ]
  },
  {
   "cell_type": "code",
   "execution_count": null,
   "metadata": {},
   "outputs": [],
   "source": []
  },
  {
   "cell_type": "code",
   "execution_count": 15,
   "metadata": {},
   "outputs": [],
   "source": [
    "# Flow\n",
    "\n",
    "train_gen = generator.flow(train_ID.index, train_targets, shuffle=True)\n",
    "test_gen = generator.flow(test_ID.index, test_targets)"
   ]
  },
  {
   "cell_type": "code",
   "execution_count": 16,
   "metadata": {},
   "outputs": [
    {
     "data": {
      "text/plain": [
       "{'Derived Entity': [EdgeType(n1='Derived Entity', rel='is similar', n2='External Entity'),\n",
       "  EdgeType(n1='Derived Entity', rel='money transfer', n2='Account')],\n",
       " 'External Entity': [],\n",
       " 'Account': [EdgeType(n1='Account', rel='money transfer', n2='Account'),\n",
       "  EdgeType(n1='Account', rel='money transfer', n2='Derived Entity')],\n",
       " 'Customer': [EdgeType(n1='Customer', rel='has account', n2='Account'),\n",
       "  EdgeType(n1='Customer', rel='has address', n2='Address'),\n",
       "  EdgeType(n1='Customer', rel='is similar', n2='External Entity')],\n",
       " 'Address': []}"
      ]
     },
     "execution_count": 16,
     "metadata": {},
     "output_type": "execute_result"
    }
   ],
   "source": [
    "generator.schema.schema"
   ]
  },
  {
   "cell_type": "code",
   "execution_count": 17,
   "metadata": {},
   "outputs": [],
   "source": [
    "hinsage_layer_sizes = [32, 32]\n",
    "assert len(hinsage_layer_sizes) == len(num_samples)"
   ]
  },
  {
   "cell_type": "code",
   "execution_count": 18,
   "metadata": {},
   "outputs": [],
   "source": [
    "# Dropout\n",
    "# (must be tuned)\n",
    "\n",
    "dropout = 0.5"
   ]
  },
  {
   "cell_type": "code",
   "execution_count": 19,
   "metadata": {},
   "outputs": [],
   "source": [
    "hinsage = HinSAGE(\n",
    "    layer_sizes=hinsage_layer_sizes,\n",
    "    activations=['relu', 'softmax'],\n",
    "    generator=generator, \n",
    "    bias=True,\n",
    "    normalize=\"l2\",\n",
    "    dropout=dropout\n",
    ")"
   ]
  },
  {
   "cell_type": "code",
   "execution_count": 20,
   "metadata": {},
   "outputs": [],
   "source": [
    "x_inp, x_out = hinsage.in_out_tensors()"
   ]
  },
  {
   "cell_type": "code",
   "execution_count": null,
   "metadata": {},
   "outputs": [],
   "source": []
  },
  {
   "cell_type": "code",
   "execution_count": 21,
   "metadata": {},
   "outputs": [],
   "source": [
    "def run_deep_graph_infomax(base_model, generator, epochs):\n",
    "    corrupted_generator = CorruptedGenerator(generator)\n",
    "    gen = corrupted_generator.flow(G.nodes(node_type=\"Account\"))\n",
    "    infomax = DeepGraphInfomax(base_model, corrupted_generator)\n",
    "\n",
    "    x_in, x_out = infomax.in_out_tensors()\n",
    "\n",
    "    # Train DGI\n",
    "    model = Model(inputs=x_in, outputs=x_out)\n",
    "    model.compile(loss=tf.nn.sigmoid_cross_entropy_with_logits, optimizer=Adam(lr=1e-3))\n",
    "    es = EarlyStopping(monitor=\"loss\", min_delta=0, patience=15)\n",
    "    history = model.fit(gen, epochs=epochs, verbose=1, callbacks=[es])\n",
    "    sg.utils.plot_history(history)\n",
    "\n",
    "    x_emb_in, x_emb_out = base_model.in_out_tensors()\n",
    "    if generator.num_batch_dims() == 2:\n",
    "        x_emb_out = tf.squeeze(x_emb_out, axis=0)\n",
    "\n",
    "    #do TSNE here\n",
    "    return x_emb_in, x_emb_out, model\n"
   ]
  },
  {
   "cell_type": "code",
   "execution_count": 22,
   "metadata": {
    "scrolled": false
   },
   "outputs": [
    {
     "name": "stdout",
     "output_type": "stream",
     "text": [
      "Epoch 1/15\n",
      "37/37 [==============================] - 8s 214ms/step - loss: 0.6156\n",
      "Epoch 2/15\n",
      "37/37 [==============================] - 8s 211ms/step - loss: 0.5259\n",
      "Epoch 3/15\n",
      "37/37 [==============================] - 8s 215ms/step - loss: 0.4755\n",
      "Epoch 4/15\n",
      "37/37 [==============================] - 8s 211ms/step - loss: 0.4523\n",
      "Epoch 5/15\n",
      "37/37 [==============================] - 8s 211ms/step - loss: 0.4357\n",
      "Epoch 6/15\n",
      "37/37 [==============================] - 8s 208ms/step - loss: 0.4246\n",
      "Epoch 7/15\n",
      "37/37 [==============================] - 8s 211ms/step - loss: 0.4100\n",
      "Epoch 8/15\n",
      "37/37 [==============================] - 8s 212ms/step - loss: 0.3984\n",
      "Epoch 9/15\n",
      "37/37 [==============================] - 8s 213ms/step - loss: 0.3883\n",
      "Epoch 10/15\n",
      "37/37 [==============================] - 8s 212ms/step - loss: 0.3763 1s - loss: 0.3 - ETA: 1s - loss: \n",
      "Epoch 11/15\n",
      "37/37 [==============================] - 8s 211ms/step - loss: 0.3700\n",
      "Epoch 12/15\n",
      "37/37 [==============================] - 8s 213ms/step - loss: 0.3488\n",
      "Epoch 13/15\n",
      "37/37 [==============================] - 8s 214ms/step - loss: 0.3390 1s - loss\n",
      "Epoch 14/15\n",
      "37/37 [==============================] - 8s 207ms/step - loss: 0.3298 5s - ETA: 2s\n",
      "Epoch 15/15\n",
      "37/37 [==============================] - 8s 211ms/step - loss: 0.3248\n"
     ]
    },
    {
     "data": {
      "image/png": "[encoded data removed]",
      "text/plain": [
       "<Figure size 504x288 with 1 Axes>"
      ]
     },
     "metadata": {
      "needs_background": "light"
     },
     "output_type": "display_data"
    }
   ],
   "source": [
    "# Run Deep Graph Infomax\n",
    "\n",
    "x_emb_in, x_emb_out, model = run_deep_graph_infomax(hinsage, generator, epochs=epochs)"
   ]
  },
  {
   "cell_type": "code",
   "execution_count": 23,
   "metadata": {},
   "outputs": [],
   "source": [
    "emb_model = Model(inputs=x_emb_in, outputs=x_emb_out)\n",
    "all_embeddings = emb_model.predict(\n",
    "    #use a heterogeneous generator...\n",
    "    generator.flow(G.nodes(node_type=\"Account\"))\n",
    ")"
   ]
  },
  {
   "cell_type": "code",
   "execution_count": 24,
   "metadata": {},
   "outputs": [],
   "source": [
    "embeddings_2d = pd.DataFrame(TSNE(n_components=2).fit_transform(all_embeddings), index=G.nodes(node_type=\"Account\"))"
   ]
  },
  {
   "cell_type": "code",
   "execution_count": 25,
   "metadata": {
    "scrolled": true
   },
   "outputs": [
    {
     "data": {
      "text/html": [
       "<div>\n",
       "<style scoped>\n",
       "    .dataframe tbody tr th:only-of-type {\n",
       "        vertical-align: middle;\n",
       "    }\n",
       "\n",
       "    .dataframe tbody tr th {\n",
       "        vertical-align: top;\n",
       "    }\n",
       "\n",
       "    .dataframe thead th {\n",
       "        text-align: right;\n",
       "    }\n",
       "</style>\n",
       "<table border=\"1\" class=\"dataframe\">\n",
       "  <thead>\n",
       "    <tr style=\"text-align: right;\">\n",
       "      <th></th>\n",
       "      <th>0</th>\n",
       "      <th>1</th>\n",
       "    </tr>\n",
       "  </thead>\n",
       "  <tbody>\n",
       "    <tr>\n",
       "      <th>1502001</th>\n",
       "      <td>34.094898</td>\n",
       "      <td>25.234514</td>\n",
       "    </tr>\n",
       "    <tr>\n",
       "      <th>15020019</th>\n",
       "      <td>30.116957</td>\n",
       "      <td>-16.849869</td>\n",
       "    </tr>\n",
       "    <tr>\n",
       "      <th>15020023</th>\n",
       "      <td>-62.932339</td>\n",
       "      <td>37.770927</td>\n",
       "    </tr>\n",
       "    <tr>\n",
       "      <th>15020024</th>\n",
       "      <td>-16.897688</td>\n",
       "      <td>1.725561</td>\n",
       "    </tr>\n",
       "    <tr>\n",
       "      <th>15020043</th>\n",
       "      <td>41.995537</td>\n",
       "      <td>3.156867</td>\n",
       "    </tr>\n",
       "  </tbody>\n",
       "</table>\n",
       "</div>"
      ],
      "text/plain": [
       "                  0          1\n",
       "1502001   34.094898  25.234514\n",
       "15020019  30.116957 -16.849869\n",
       "15020023 -62.932339  37.770927\n",
       "15020024 -16.897688   1.725561\n",
       "15020043  41.995537   3.156867"
      ]
     },
     "execution_count": 25,
     "metadata": {},
     "output_type": "execute_result"
    }
   ],
   "source": [
    "embeddings_2d.head()"
   ]
  },
  {
   "cell_type": "code",
   "execution_count": 57,
   "metadata": {},
   "outputs": [],
   "source": [
    "# Coloring based on ExtendedCaseGraphID\n",
    "node_ids = G.nodes(node_type=\"Account\").tolist()\n",
    "ext_targets = v_sample.loc[[int(node_id) for node_id in node_ids]].ExtendedCaseGraphID \n",
    "\n",
    "label_map = {l: i*10 for i, l in enumerate(np.unique(ext_targets), start=10) if pd.notna(l)}\n",
    "node_colours = [label_map[target] if pd.notna(target) else 0 for target in ext_targets]"
   ]
  },
  {
   "cell_type": "code",
   "execution_count": 58,
   "metadata": {},
   "outputs": [
    {
     "data": {
      "image/png": "[encoded data removed]",
      "text/plain": [
       "<Figure size 1080x1080 with 1 Axes>"
      ]
     },
     "metadata": {
      "needs_background": "light"
     },
     "output_type": "display_data"
    }
   ],
   "source": [
    "alpha = 0.7\n",
    "\n",
    "\n",
    "fig, ax = plt.subplots(figsize=(15, 15))\n",
    "ax.scatter(\n",
    "    embeddings_2d[0],\n",
    "    embeddings_2d[1],\n",
    "    c=node_colours,\n",
    "    cmap=\"jet\",\n",
    "    alpha=alpha,\n",
    ")\n",
    "ax.set(aspect=\"equal\")\n",
    "plt.title(\"TSNE visualization of HinSAGE embeddings with Deep Graph Infomax\")\n",
    "plt.show()"
   ]
  },
  {
   "cell_type": "code",
   "execution_count": 96,
   "metadata": {},
   "outputs": [],
   "source": [
    "# Coloring based on 'Fraudolent' flag:\n",
    "\n",
    "ext_fraud = v_sets['Account'].loc[[int(node_id) for node_id in node_ids]].Fraudolent\n",
    "label_map_fraud = {l: i*10000 for i, l in enumerate(np.unique(ext_fraud.values), start=1) if pd.notna(l)}\n",
    "node_colours_fraud = [label_map_fraud[target] if pd.notna(target) else 0 for target in ext_fraud]\n",
    "#node_colours_fraud = ext_fraud.values"
   ]
  },
  {
   "cell_type": "code",
   "execution_count": 98,
   "metadata": {
    "scrolled": false
   },
   "outputs": [
    {
     "data": {
      "image/png": "[encoded data removed]",
      "text/plain": [
       "<Figure size 1080x1080 with 1 Axes>"
      ]
     },
     "metadata": {
      "needs_background": "light"
     },
     "output_type": "display_data"
    }
   ],
   "source": [
    "alpha = 0.7\n",
    "\n",
    "\n",
    "fig, ax = plt.subplots(figsize=(15, 15))\n",
    "ax.scatter(\n",
    "    embeddings_2d[0],\n",
    "    embeddings_2d[1],\n",
    "    c=node_colours_fraud,\n",
    "    cmap=\"jet\",\n",
    "    alpha=alpha,\n",
    ")\n",
    "ax.set(aspect=\"equal\")\n",
    "plt.title(\"TSNE visualization of HinSAGE embeddings with Deep Graph Infomax\")\n",
    "plt.show()"
   ]
  },
  {
   "cell_type": "code",
   "execution_count": 29,
   "metadata": {},
   "outputs": [
    {
     "data": {
      "text/plain": [
       "(10916, 32)"
      ]
     },
     "execution_count": 29,
     "metadata": {},
     "output_type": "execute_result"
    }
   ],
   "source": [
    "all_embeddings.shape"
   ]
  },
  {
   "cell_type": "code",
   "execution_count": 30,
   "metadata": {},
   "outputs": [],
   "source": [
    "node_ids_full = np.concatenate((\n",
    "    G.nodes(node_type='Account'), \n",
    "    G.nodes(node_type='Customer'), \n",
    "    G.nodes(node_type='Derived Entity')\n",
    ")).tolist()"
   ]
  },
  {
   "cell_type": "code",
   "execution_count": 31,
   "metadata": {},
   "outputs": [
    {
     "data": {
      "text/plain": [
       "17346"
      ]
     },
     "execution_count": 31,
     "metadata": {},
     "output_type": "execute_result"
    }
   ],
   "source": [
    "len(node_ids_full)"
   ]
  },
  {
   "cell_type": "code",
   "execution_count": 32,
   "metadata": {},
   "outputs": [
    {
     "data": {
      "text/plain": [
       "21832"
      ]
     },
     "execution_count": 32,
     "metadata": {},
     "output_type": "execute_result"
    }
   ],
   "source": [
    "len(np.concatenate((\n",
    "    all_embeddings,\n",
    "    all_embeddings\n",
    ")))\n",
    "#Perfect"
   ]
  },
  {
   "cell_type": "markdown",
   "metadata": {},
   "source": [
    "# Classification"
   ]
  },
  {
   "cell_type": "code",
   "execution_count": null,
   "metadata": {},
   "outputs": [],
   "source": [
    "# Classify 'Fraudolent' binary class based on embeddings"
   ]
  },
  {
   "cell_type": "code",
   "execution_count": 110,
   "metadata": {},
   "outputs": [],
   "source": [
    "train_subjects, test_subjects = model_selection.train_test_split(\n",
    "    ext_fraud, train_size=0.1, test_size=None\n",
    ")"
   ]
  },
  {
   "cell_type": "code",
   "execution_count": null,
   "metadata": {},
   "outputs": [],
   "source": [
    "# 1 split dataset (v_sets) in training and test set\n",
    "# 2 obtain embeddings of train and test set (using the already trained infomax results)\n",
    "# 3 use classifier on train embeddings and corresponding train set.\n",
    "# 4 evaluate on test set"
   ]
  },
  {
   "cell_type": "code",
   "execution_count": 113,
   "metadata": {},
   "outputs": [],
   "source": [
    "train_gen = generator.flow(train_subjects.index)\n",
    "test_gen = generator.flow(test_subjects.index)\n",
    "\n",
    "train_embeddings = emb_model.predict(train_gen)\n",
    "test_embeddings = emb_model.predict(test_gen)"
   ]
  },
  {
   "cell_type": "code",
   "execution_count": 116,
   "metadata": {},
   "outputs": [
    {
     "data": {
      "text/plain": [
       "LogisticRegression()"
      ]
     },
     "execution_count": 116,
     "metadata": {},
     "output_type": "execute_result"
    }
   ],
   "source": [
    "lr = LogisticRegression(multi_class=\"auto\", solver=\"lbfgs\")\n",
    "lr.fit(train_embeddings, train_subjects)"
   ]
  },
  {
   "cell_type": "code",
   "execution_count": 136,
   "metadata": {},
   "outputs": [
    {
     "name": "stdout",
     "output_type": "stream",
     "text": [
      "Test Accuracy on binary fraudolent classification: 0.99756\n"
     ]
    }
   ],
   "source": [
    "y_pred = lr.predict(test_embeddings)\n",
    "acc = (y_pred == test_subjects).mean()\n",
    "print(f\"Test Accuracy on binary fraudolent classification: {acc:.5f}\")"
   ]
  },
  {
   "cell_type": "code",
   "execution_count": null,
   "metadata": {},
   "outputs": [],
   "source": []
  },
  {
   "cell_type": "code",
   "execution_count": 210,
   "metadata": {},
   "outputs": [],
   "source": [
    "# Now I can throw away all the nodes with Fraudolent flag = 0"
   ]
  },
  {
   "cell_type": "code",
   "execution_count": 211,
   "metadata": {},
   "outputs": [],
   "source": [
    "fraudolent_accounts =pd.DataFrame({'ground_truth':test_subjects, 'predicted':y_pred})\n",
    "fraudolent_accounts = fraudolent_accounts.loc[fraudolent_accounts['predicted'] == '1']\n",
    "fraudolent_accounts = fraudolent_accounts.drop(['ground_truth'], axis=1)"
   ]
  },
  {
   "cell_type": "code",
   "execution_count": 221,
   "metadata": {},
   "outputs": [
    {
     "data": {
      "text/plain": [
       "(1561, 1)"
      ]
     },
     "execution_count": 221,
     "metadata": {},
     "output_type": "execute_result"
    }
   ],
   "source": [
    "fraudolent_accounts.shape"
   ]
  },
  {
   "cell_type": "code",
   "execution_count": 212,
   "metadata": {},
   "outputs": [],
   "source": [
    "# Second part: Classification of fraudolent node embeddings"
   ]
  },
  {
   "cell_type": "code",
   "execution_count": null,
   "metadata": {},
   "outputs": [],
   "source": []
  },
  {
   "cell_type": "code",
   "execution_count": 218,
   "metadata": {},
   "outputs": [],
   "source": [
    "# Extract IDs of nodes in fraudolent_accounts from ext_targets (since I removed the non-fraudolent nodes)\n",
    "filter_ext_targets = ext_targets[ext_targets.index.isin(fraudolent_accounts.index.tolist())]"
   ]
  },
  {
   "cell_type": "code",
   "execution_count": 220,
   "metadata": {},
   "outputs": [
    {
     "data": {
      "text/plain": [
       "(1561,)"
      ]
     },
     "execution_count": 220,
     "metadata": {},
     "output_type": "execute_result"
    }
   ],
   "source": [
    "filter_ext_targets.shape"
   ]
  },
  {
   "cell_type": "code",
   "execution_count": 229,
   "metadata": {
    "scrolled": true
   },
   "outputs": [
    {
     "data": {
      "text/plain": [
       "0.0       1388\n",
       "289.0        2\n",
       "2285.0       2\n",
       "1489.0       2\n",
       "3994.0       2\n",
       "          ... \n",
       "333.0        1\n",
       "2381.0       1\n",
       "3183.0       1\n",
       "2519.0       1\n",
       "2030.0       1\n",
       "Name: ExtendedCaseGraphID, Length: 165, dtype: int64"
      ]
     },
     "execution_count": 229,
     "metadata": {},
     "output_type": "execute_result"
    }
   ],
   "source": [
    "filter_ext_targets.value_counts()"
   ]
  },
  {
   "cell_type": "markdown",
   "metadata": {},
   "source": [
    "The class imbalance problem was not solved, it was only sized down from 11000 nodes to about 1500.\n",
    "\n",
    "Now I need to do undersampling and oversampling to train this classifier since the classes are too imbalanced.\n",
    "\n",
    "-> Attempt #1 : SMOTE (Synthethic Minority Oversampling TEchnique)"
   ]
  },
  {
   "cell_type": "code",
   "execution_count": 222,
   "metadata": {},
   "outputs": [],
   "source": [
    "train_subjects, test_subjects = model_selection.train_test_split(\n",
    "    filter_ext_targets, train_size=0.1, test_size=None\n",
    ")"
   ]
  },
  {
   "cell_type": "code",
   "execution_count": 223,
   "metadata": {},
   "outputs": [],
   "source": [
    "train_gen = generator.flow(train_subjects.index)\n",
    "test_gen = generator.flow(test_subjects.index)\n",
    "\n",
    "train_embeddings = emb_model.predict(train_gen)\n",
    "test_embeddings = emb_model.predict(test_gen)"
   ]
  },
  {
   "cell_type": "code",
   "execution_count": 224,
   "metadata": {},
   "outputs": [
    {
     "data": {
      "text/plain": [
       "LogisticRegression()"
      ]
     },
     "execution_count": 224,
     "metadata": {},
     "output_type": "execute_result"
    }
   ],
   "source": [
    "lr = LogisticRegression(multi_class=\"auto\", solver=\"lbfgs\")\n",
    "lr.fit(train_embeddings, train_subjects)"
   ]
  },
  {
   "cell_type": "code",
   "execution_count": 225,
   "metadata": {},
   "outputs": [
    {
     "name": "stdout",
     "output_type": "stream",
     "text": [
      "Test Accuracy on extended ID classification of fraudolent nodes: 0.88897\n"
     ]
    }
   ],
   "source": [
    "y_pred = lr.predict(test_embeddings)\n",
    "acc = (y_pred == test_subjects).mean()\n",
    "print(f\"Test Accuracy on extended ID classification of fraudolent nodes: {acc:.5f}\")"
   ]
  },
  {
   "cell_type": "code",
   "execution_count": 227,
   "metadata": {},
   "outputs": [
    {
     "data": {
      "text/plain": [
       "array([0.])"
      ]
     },
     "execution_count": 227,
     "metadata": {},
     "output_type": "execute_result"
    }
   ],
   "source": [
    "np.unique(y_pred)"
   ]
  },
  {
   "cell_type": "code",
   "execution_count": null,
   "metadata": {
    "scrolled": false
   },
   "outputs": [],
   "source": []
  },
  {
   "cell_type": "code",
   "execution_count": null,
   "metadata": {
    "scrolled": false
   },
   "outputs": [],
   "source": []
  },
  {
   "cell_type": "code",
   "execution_count": null,
   "metadata": {},
   "outputs": [],
   "source": []
  },
  {
   "cell_type": "code",
   "execution_count": null,
   "metadata": {},
   "outputs": [],
   "source": []
  },
  {
   "cell_type": "code",
   "execution_count": null,
   "metadata": {},
   "outputs": [],
   "source": []
  }
 ],
 "metadata": {
  "kernelspec": {
   "display_name": "Python 3",
   "language": "python",
   "name": "python3"
  },
  "language_info": {
   "codemirror_mode": {
    "name": "ipython",
    "version": 3
   },
   "file_extension": ".py",
   "mimetype": "text/x-python",
   "name": "python",
   "nbconvert_exporter": "python",
   "pygments_lexer": "ipython3",
   "version": "3.8.2"
  }
 },
 "nbformat": 4,
 "nbformat_minor": 4
}
