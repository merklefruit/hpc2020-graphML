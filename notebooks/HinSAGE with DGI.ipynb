{
 "cells": [
  {
   "cell_type": "code",
   "execution_count": 2,
   "metadata": {},
   "outputs": [],
   "source": [
    "import time\n",
    "import json\n",
    "\n",
    "import pandas as pd\n",
    "import numpy as np\n",
    "from sklearn import preprocessing, feature_extraction, model_selection\n",
    "from sklearn.metrics import mean_squared_error, accuracy_score, plot_confusion_matrix, f1_score\n",
    "from sklearn.manifold import TSNE\n",
    "from sklearn.linear_model import LogisticRegressionCV\n",
    "\n",
    "import stellargraph as sg\n",
    "from stellargraph import datasets\n",
    "from stellargraph.mapper import (\n",
    "    CorruptedGenerator,\n",
    "    FullBatchNodeGenerator,\n",
    "    GraphSAGENodeGenerator,\n",
    "    HinSAGENodeGenerator,\n",
    "    Node2VecNodeGenerator,\n",
    "    ClusterNodeGenerator,\n",
    ")\n",
    "from stellargraph.layer import GCN, DeepGraphInfomax, GraphSAGE, GAT, APPNP, HinSAGE, Dense\n",
    "\n",
    "import tensorflow as tf\n",
    "from tensorflow.keras.optimizers import Adam\n",
    "from tensorflow.keras.callbacks import EarlyStopping\n",
    "from tensorflow.keras import Model, optimizers, losses, metrics\n",
    "\n",
    "import multiprocessing\n",
    "from IPython.display import display, HTML\n",
    "import matplotlib.pyplot as plt\n",
    "%matplotlib inline"
   ]
  },
  {
   "cell_type": "code",
   "execution_count": 3,
   "metadata": {},
   "outputs": [
    {
     "name": "stdout",
     "output_type": "stream",
     "text": [
      "Dataset already downloaded. Loading it from file system\n",
      "LOADING DATA: 0.99 s\n",
      "SUBSAMPLING: 0.06 s\n",
      "PREPROCESSING: 0.05 s\n"
     ]
    }
   ],
   "source": [
    "import sys\n",
    "sys.path.append('../utils')\n",
    "from tools import load_for_jupyter\n",
    "\n",
    "n = 10000\n",
    "v_sets, e_sets, core_targets, ext_targets, v_sample, e_sample = load_for_jupyter(n)"
   ]
  },
  {
   "cell_type": "code",
   "execution_count": null,
   "metadata": {},
   "outputs": [],
   "source": []
  },
  {
   "cell_type": "code",
   "execution_count": 4,
   "metadata": {},
   "outputs": [],
   "source": [
    "batch_size = 300\n",
    "epochs = 15\n",
    "# Use 70% of edges for training, the rest for testing:\n",
    "train_size = 0.7\n",
    "test_size = 0.3"
   ]
  },
  {
   "cell_type": "code",
   "execution_count": 5,
   "metadata": {},
   "outputs": [],
   "source": [
    "# Initialize SG graph\n",
    "G = sg.StellarDiGraph(v_sets, e_sets)"
   ]
  },
  {
   "cell_type": "code",
   "execution_count": 6,
   "metadata": {},
   "outputs": [],
   "source": [
    "nodes_with_labels = v_sets.copy()"
   ]
  },
  {
   "cell_type": "code",
   "execution_count": 7,
   "metadata": {},
   "outputs": [
    {
     "data": {
      "text/plain": [
       "2725"
      ]
     },
     "execution_count": 7,
     "metadata": {},
     "output_type": "execute_result"
    }
   ],
   "source": [
    "ext_targets.size"
   ]
  },
  {
   "cell_type": "code",
   "execution_count": 8,
   "metadata": {
    "scrolled": false
   },
   "outputs": [
    {
     "name": "stdout",
     "output_type": "stream",
     "text": [
      "StellarDiGraph: Directed multigraph\n",
      " Nodes: 19005, Edges: 10000\n",
      "\n",
      " Node types:\n",
      "  Account: [10916]\n",
      "    Features: float32 vector, length 3\n",
      "    Edge types: Account-money transfer->Account, Account-money transfer->Derived Entity\n",
      "  Customer: [3429]\n",
      "    Features: float32 vector, length 5\n",
      "    Edge types: Customer-has account->Account, Customer-has address->Address, Customer-is similar->External Entity\n",
      "  Derived Entity: [3040]\n",
      "    Features: float32 vector, length 4\n",
      "    Edge types: Derived Entity-is similar->External Entity, Derived Entity-money transfer->Account\n",
      "  External Entity: [1183]\n",
      "    Features: float32 vector, length 4\n",
      "    Edge types: none\n",
      "  Address: [437]\n",
      "    Features: float32 vector, length 2\n",
      "    Edge types: none\n",
      "\n",
      " Edge types:\n",
      "    Account-money transfer->Account: [3204]\n",
      "        Weights: range=[1, 500], mean=186.106, std=225.84\n",
      "        Features: none\n",
      "    Customer-has account->Account: [2998]\n",
      "        Weights: all 1 (default)\n",
      "        Features: none\n",
      "    Derived Entity-is similar->External Entity: [1105]\n",
      "        Weights: range=[1, 3], mean=2.05249, std=0.810347\n",
      "        Features: none\n",
      "    Account-money transfer->Derived Entity: [1081]\n",
      "        Weights: range=[1, 500], mean=185.027, std=225.411\n",
      "        Features: none\n",
      "    Derived Entity-money transfer->Account: [1077]\n",
      "        Weights: range=[1, 500], mean=167.343, std=218.314\n",
      "        Features: none\n",
      "    Customer-has address->Address: [438]\n",
      "        Weights: all 1 (default)\n",
      "        Features: none\n",
      "    Customer-is similar->External Entity: [97]\n",
      "        Weights: range=[1, 3], mean=1.93814, std=0.86379\n",
      "        Features: none\n"
     ]
    }
   ],
   "source": [
    "print(G.info())"
   ]
  },
  {
   "cell_type": "code",
   "execution_count": 9,
   "metadata": {},
   "outputs": [],
   "source": [
    "# Split edges into train and test sets\n",
    "\n",
    "train_ID, test_ID = model_selection.train_test_split(\n",
    "    ext_targets, train_size=train_size, test_size=test_size, #stratify=ext_targets\n",
    ")"
   ]
  },
  {
   "cell_type": "code",
   "execution_count": 10,
   "metadata": {},
   "outputs": [],
   "source": [
    "# Select only nodes of type \"Account\" for prediction\n",
    "\n",
    "train_ID = train_ID[train_ID.index.isin(v_sets['Account'].index)]\n",
    "test_ID = test_ID[test_ID.index.isin(v_sets['Account'].index)]"
   ]
  },
  {
   "cell_type": "code",
   "execution_count": 11,
   "metadata": {},
   "outputs": [],
   "source": [
    "# Convert targets labels in one-hot encoded features (optional, for categorical targets)\n",
    "\n",
    "target_encoding = preprocessing.LabelBinarizer()\n",
    "train_targets = target_encoding.fit_transform(train_ID)\n",
    "test_targets = target_encoding.transform(test_ID)"
   ]
  },
  {
   "cell_type": "code",
   "execution_count": 12,
   "metadata": {},
   "outputs": [
    {
     "data": {
      "text/plain": [
       "(848, 1)"
      ]
     },
     "execution_count": 12,
     "metadata": {},
     "output_type": "execute_result"
    }
   ],
   "source": [
    "train_ID.shape"
   ]
  },
  {
   "cell_type": "code",
   "execution_count": 13,
   "metadata": {},
   "outputs": [
    {
     "data": {
      "text/plain": [
       "(848, 665)"
      ]
     },
     "execution_count": 13,
     "metadata": {},
     "output_type": "execute_result"
    }
   ],
   "source": [
    "train_targets.shape"
   ]
  },
  {
   "cell_type": "code",
   "execution_count": null,
   "metadata": {},
   "outputs": [],
   "source": []
  },
  {
   "cell_type": "code",
   "execution_count": null,
   "metadata": {},
   "outputs": [],
   "source": []
  },
  {
   "cell_type": "code",
   "execution_count": null,
   "metadata": {},
   "outputs": [],
   "source": []
  },
  {
   "cell_type": "code",
   "execution_count": 14,
   "metadata": {},
   "outputs": [],
   "source": [
    "# Choosing a 2 layer model with 8 nodes sampled in the first layer and 4 in the second.\n",
    "num_samples = [8, 4]\n",
    "# we can do 8*4 = 32x32 hidden layer size, since len(num_samples) defines \n",
    "# the number of hops (layers) in the HinSAGE model"
   ]
  },
  {
   "cell_type": "code",
   "execution_count": 15,
   "metadata": {},
   "outputs": [],
   "source": [
    "'''\n",
    "HinSAGENodeGenerator(G, batch_size, num_samples, head_node_type=None, schema=None, seed=None, name=None)\n",
    "\n",
    "G = graph\n",
    "batch_size = size of batch to return\n",
    "num_samples = the number of samples per layer (hop) to take\n",
    "head_node_type = the node type that will be given to the generator using the flow method. \n",
    "                  The model will expect this type.\n",
    "                  If not given, it defaults to a single node type.\n",
    "'''\n",
    "\n",
    "generator = HinSAGENodeGenerator(\n",
    "    G, \n",
    "    batch_size, \n",
    "    num_samples,\n",
    "    head_node_type=\"Account\"\n",
    ")"
   ]
  },
  {
   "cell_type": "code",
   "execution_count": null,
   "metadata": {},
   "outputs": [],
   "source": []
  },
  {
   "cell_type": "code",
   "execution_count": 16,
   "metadata": {},
   "outputs": [],
   "source": [
    "# Flow\n",
    "\n",
    "train_gen = generator.flow(train_ID.index, train_targets, shuffle=True)\n",
    "test_gen = generator.flow(test_ID.index, test_targets)"
   ]
  },
  {
   "cell_type": "code",
   "execution_count": 17,
   "metadata": {},
   "outputs": [
    {
     "data": {
      "text/plain": [
       "{'Derived Entity': [EdgeType(n1='Derived Entity', rel='is similar', n2='External Entity'),\n",
       "  EdgeType(n1='Derived Entity', rel='money transfer', n2='Account')],\n",
       " 'Address': [],\n",
       " 'Account': [EdgeType(n1='Account', rel='money transfer', n2='Account'),\n",
       "  EdgeType(n1='Account', rel='money transfer', n2='Derived Entity')],\n",
       " 'Customer': [EdgeType(n1='Customer', rel='has account', n2='Account'),\n",
       "  EdgeType(n1='Customer', rel='has address', n2='Address'),\n",
       "  EdgeType(n1='Customer', rel='is similar', n2='External Entity')],\n",
       " 'External Entity': []}"
      ]
     },
     "execution_count": 17,
     "metadata": {},
     "output_type": "execute_result"
    }
   ],
   "source": [
    "generator.schema.schema"
   ]
  },
  {
   "cell_type": "code",
   "execution_count": 18,
   "metadata": {},
   "outputs": [],
   "source": [
    "hinsage_layer_sizes = [32, 32]\n",
    "assert len(hinsage_layer_sizes) == len(num_samples)"
   ]
  },
  {
   "cell_type": "code",
   "execution_count": 19,
   "metadata": {},
   "outputs": [],
   "source": [
    "# Dropout\n",
    "# (must be tuned)\n",
    "\n",
    "dropout = 0.5"
   ]
  },
  {
   "cell_type": "code",
   "execution_count": 20,
   "metadata": {},
   "outputs": [],
   "source": [
    "hinsage = HinSAGE(\n",
    "    layer_sizes=hinsage_layer_sizes,\n",
    "    activations=['relu', 'softmax'],\n",
    "    generator=generator, \n",
    "    bias=True,\n",
    "    normalize=\"l2\",\n",
    "    dropout=dropout\n",
    ")"
   ]
  },
  {
   "cell_type": "code",
   "execution_count": 21,
   "metadata": {},
   "outputs": [],
   "source": [
    "x_inp, x_out = hinsage.in_out_tensors()"
   ]
  },
  {
   "cell_type": "code",
   "execution_count": null,
   "metadata": {},
   "outputs": [],
   "source": []
  },
  {
   "cell_type": "code",
   "execution_count": null,
   "metadata": {
    "scrolled": false
   },
   "outputs": [],
   "source": []
  },
  {
   "cell_type": "code",
   "execution_count": null,
   "metadata": {},
   "outputs": [],
   "source": []
  },
  {
   "cell_type": "code",
   "execution_count": null,
   "metadata": {},
   "outputs": [],
   "source": []
  },
  {
   "cell_type": "code",
   "execution_count": 22,
   "metadata": {},
   "outputs": [],
   "source": [
    "def run_deep_graph_infomax(base_model, generator, epochs):\n",
    "    corrupted_generator = CorruptedGenerator(generator)\n",
    "    gen = corrupted_generator.flow(G.nodes(node_type=\"Account\"))\n",
    "    infomax = DeepGraphInfomax(base_model, corrupted_generator)\n",
    "\n",
    "    x_in, x_out = infomax.in_out_tensors()\n",
    "\n",
    "    # Train\n",
    "    model = Model(inputs=x_in, outputs=x_out)\n",
    "    model.compile(loss=tf.nn.sigmoid_cross_entropy_with_logits, optimizer=Adam(lr=1e-3))\n",
    "    es = EarlyStopping(monitor=\"loss\", min_delta=0, patience=15)\n",
    "    history = model.fit(gen, epochs=epochs, verbose=1, callbacks=[es])\n",
    "    sg.utils.plot_history(history)\n",
    "\n",
    "    x_emb_in, x_emb_out = base_model.in_out_tensors()\n",
    "    # for full batch models, squeeze out the batch dim (which is 1)\n",
    "    if generator.num_batch_dims() == 2:\n",
    "        x_emb_out = tf.squeeze(x_emb_out, axis=0)\n",
    "\n",
    "    #do TSNE here\n",
    "    return x_emb_in, x_emb_out, model\n"
   ]
  },
  {
   "cell_type": "code",
   "execution_count": 23,
   "metadata": {
    "scrolled": false
   },
   "outputs": [
    {
     "name": "stdout",
     "output_type": "stream",
     "text": [
      "Epoch 1/15\n",
      "37/37 [==============================] - 8s 208ms/step - loss: 0.6487 0s - loss: 0\n",
      "Epoch 2/15\n",
      "37/37 [==============================] - 7s 193ms/step - loss: 0.5456\n",
      "Epoch 3/15\n",
      "37/37 [==============================] - 7s 196ms/step - loss: 0.4857\n",
      "Epoch 4/15\n",
      "37/37 [==============================] - 7s 193ms/step - loss: 0.4513\n",
      "Epoch 5/15\n",
      "37/37 [==============================] - 7s 195ms/step - loss: 0.4406\n",
      "Epoch 6/15\n",
      "37/37 [==============================] - 7s 194ms/step - loss: 0.4345\n",
      "Epoch 7/15\n",
      "37/37 [==============================] - 7s 197ms/step - loss: 0.4193 4s - loss: 0.421 -\n",
      "Epoch 8/15\n",
      "37/37 [==============================] - 7s 197ms/step - loss: 0.4125\n",
      "Epoch 9/15\n",
      "37/37 [==============================] - 8s 212ms/step - loss: 0.3976\n",
      "Epoch 10/15\n",
      "37/37 [==============================] - 8s 207ms/step - loss: 0.3952\n",
      "Epoch 11/15\n",
      "37/37 [==============================] - 8s 204ms/step - loss: 0.3881 4s - loss: 0 - ET\n",
      "Epoch 12/15\n",
      "37/37 [==============================] - 8s 210ms/step - loss: 0.3809\n",
      "Epoch 13/15\n",
      "37/37 [==============================] - 8s 207ms/step - loss: 0.3742 2s \n",
      "Epoch 14/15\n",
      "37/37 [==============================] - 7s 203ms/step - loss: 0.3630\n",
      "Epoch 15/15\n",
      "37/37 [==============================] - 8s 206ms/step - loss: 0.3642\n"
     ]
    },
    {
     "data": {
      "image/png": "[encoded data removed]",
      "text/plain": [
       "<Figure size 504x288 with 1 Axes>"
      ]
     },
     "metadata": {
      "needs_background": "light"
     },
     "output_type": "display_data"
    }
   ],
   "source": [
    "# Run Deep Graph Infomax\n",
    "\n",
    "x_emb_in, x_emb_out, model = run_deep_graph_infomax(hinsage, generator, epochs=epochs)"
   ]
  },
  {
   "cell_type": "code",
   "execution_count": 24,
   "metadata": {},
   "outputs": [],
   "source": [
    "emb_model = Model(inputs=x_emb_in, outputs=x_emb_out)\n",
    "all_embeddings = emb_model.predict(\n",
    "    #use a heterogeneous generator...\n",
    "    generator.flow(G.nodes(node_type=\"Account\"))\n",
    ")"
   ]
  },
  {
   "cell_type": "code",
   "execution_count": 25,
   "metadata": {},
   "outputs": [],
   "source": [
    "embeddings_2d = pd.DataFrame(TSNE(n_components=2).fit_transform(all_embeddings), index=G.nodes(node_type=\"Account\"))"
   ]
  },
  {
   "cell_type": "code",
   "execution_count": 26,
   "metadata": {
    "scrolled": true
   },
   "outputs": [
    {
     "data": {
      "text/html": [
       "<div>\n",
       "<style scoped>\n",
       "    .dataframe tbody tr th:only-of-type {\n",
       "        vertical-align: middle;\n",
       "    }\n",
       "\n",
       "    .dataframe tbody tr th {\n",
       "        vertical-align: top;\n",
       "    }\n",
       "\n",
       "    .dataframe thead th {\n",
       "        text-align: right;\n",
       "    }\n",
       "</style>\n",
       "<table border=\"1\" class=\"dataframe\">\n",
       "  <thead>\n",
       "    <tr style=\"text-align: right;\">\n",
       "      <th></th>\n",
       "      <th>0</th>\n",
       "      <th>1</th>\n",
       "    </tr>\n",
       "  </thead>\n",
       "  <tbody>\n",
       "    <tr>\n",
       "      <th>1502001</th>\n",
       "      <td>-13.370721</td>\n",
       "      <td>28.529457</td>\n",
       "    </tr>\n",
       "    <tr>\n",
       "      <th>1502004</th>\n",
       "      <td>-13.370721</td>\n",
       "      <td>28.529457</td>\n",
       "    </tr>\n",
       "    <tr>\n",
       "      <th>1502008</th>\n",
       "      <td>-14.302681</td>\n",
       "      <td>27.632036</td>\n",
       "    </tr>\n",
       "    <tr>\n",
       "      <th>15020010</th>\n",
       "      <td>-1.318046</td>\n",
       "      <td>-0.440267</td>\n",
       "    </tr>\n",
       "    <tr>\n",
       "      <th>15020015</th>\n",
       "      <td>39.023479</td>\n",
       "      <td>17.552708</td>\n",
       "    </tr>\n",
       "  </tbody>\n",
       "</table>\n",
       "</div>"
      ],
      "text/plain": [
       "                  0          1\n",
       "1502001  -13.370721  28.529457\n",
       "1502004  -13.370721  28.529457\n",
       "1502008  -14.302681  27.632036\n",
       "15020010  -1.318046  -0.440267\n",
       "15020015  39.023479  17.552708"
      ]
     },
     "execution_count": 26,
     "metadata": {},
     "output_type": "execute_result"
    }
   ],
   "source": [
    "embeddings_2d.head()"
   ]
  },
  {
   "cell_type": "code",
   "execution_count": 27,
   "metadata": {},
   "outputs": [],
   "source": [
    "# draw the points\n",
    "node_ids = G.nodes(node_type=\"Account\").tolist()\n",
    "ext_targets = v_sample.loc[[int(node_id) for node_id in node_ids]].ExtendedCaseGraphID \n",
    "\n",
    "label_map = {l: i*10 for i, l in enumerate(np.unique(ext_targets), start=10) if pd.notna(l)}\n",
    "node_colours = [label_map[target] if pd.notna(target) else 0 for target in ext_targets]"
   ]
  },
  {
   "cell_type": "code",
   "execution_count": 28,
   "metadata": {},
   "outputs": [
    {
     "data": {
      "text/plain": [
       "10916"
      ]
     },
     "execution_count": 28,
     "metadata": {},
     "output_type": "execute_result"
    }
   ],
   "source": [
    "len(node_ids)"
   ]
  },
  {
   "cell_type": "code",
   "execution_count": 29,
   "metadata": {
    "scrolled": false
   },
   "outputs": [
    {
     "data": {
      "image/png": "[encoded data removed]",
      "text/plain": [
       "<Figure size 1080x1080 with 1 Axes>"
      ]
     },
     "metadata": {
      "needs_background": "light"
     },
     "output_type": "display_data"
    }
   ],
   "source": [
    "alpha = 0.7\n",
    "\n",
    "\n",
    "fig, ax = plt.subplots(figsize=(15, 15))\n",
    "ax.scatter(\n",
    "    embeddings_2d[0],\n",
    "    embeddings_2d[1],\n",
    "    c=node_colours,\n",
    "    cmap=\"jet\",\n",
    "    alpha=alpha,\n",
    ")\n",
    "ax.set(aspect=\"equal\")\n",
    "plt.title(\"TSNE visualization of HinSAGE embeddings with Deep Graph Infomax\")\n",
    "plt.show()"
   ]
  },
  {
   "cell_type": "code",
   "execution_count": 30,
   "metadata": {},
   "outputs": [
    {
     "data": {
      "text/plain": [
       "(10916, 32)"
      ]
     },
     "execution_count": 30,
     "metadata": {},
     "output_type": "execute_result"
    }
   ],
   "source": [
    "all_embeddings.shape"
   ]
  },
  {
   "cell_type": "code",
   "execution_count": 31,
   "metadata": {},
   "outputs": [],
   "source": [
    "node_ids_full = np.concatenate((\n",
    "    G.nodes(node_type='Account'), \n",
    "    G.nodes(node_type='Customer'), \n",
    "    G.nodes(node_type='Derived Entity')\n",
    ")).tolist()"
   ]
  },
  {
   "cell_type": "code",
   "execution_count": 32,
   "metadata": {},
   "outputs": [
    {
     "data": {
      "text/plain": [
       "17385"
      ]
     },
     "execution_count": 32,
     "metadata": {},
     "output_type": "execute_result"
    }
   ],
   "source": [
    "len(node_ids_full)"
   ]
  },
  {
   "cell_type": "code",
   "execution_count": 33,
   "metadata": {},
   "outputs": [
    {
     "data": {
      "text/plain": [
       "21832"
      ]
     },
     "execution_count": 33,
     "metadata": {},
     "output_type": "execute_result"
    }
   ],
   "source": [
    "len(np.concatenate((\n",
    "    all_embeddings,\n",
    "    all_embeddings\n",
    ")))\n",
    "#Perfect"
   ]
  },
  {
   "cell_type": "code",
   "execution_count": 34,
   "metadata": {},
   "outputs": [],
   "source": [
    "# I have all the embeddings.\n",
    "# Now: classification time!"
   ]
  },
  {
   "cell_type": "code",
   "execution_count": 35,
   "metadata": {},
   "outputs": [
    {
     "name": "stdout",
     "output_type": "stream",
     "text": [
      "train/val/test:  7641 1637 1638\n"
     ]
    }
   ],
   "source": [
    "# Split in train(70%), test(15%) and validation set (15%)\n",
    "train_ID, test_ID = model_selection.train_test_split(\n",
    "ext_targets, train_size=0.7, test_size=None, #stratify=ext_targets\n",
    ")\n",
    "val_ID, test_ID = model_selection.train_test_split(\n",
    "test_ID, train_size=0.5, test_size=None, #stratify=test_ID\n",
    ")\n",
    "print(\"train/val/test: \",len(train_ID.index),len(val_ID.index),len(test_ID.index))"
   ]
  },
  {
   "cell_type": "code",
   "execution_count": 36,
   "metadata": {},
   "outputs": [],
   "source": [
    "# Convert targets labels in one-hot encoded features (optional, for categorical targets)\n",
    "target_encoding = preprocessing.LabelBinarizer()\n",
    "train_targets = target_encoding.fit_transform(train_ID)\n",
    "val_targets = target_encoding.transform(val_ID)\n",
    "test_targets = target_encoding.transform(test_ID)"
   ]
  },
  {
   "cell_type": "code",
   "execution_count": null,
   "metadata": {},
   "outputs": [],
   "source": []
  },
  {
   "cell_type": "code",
   "execution_count": null,
   "metadata": {},
   "outputs": [],
   "source": []
  },
  {
   "cell_type": "code",
   "execution_count": 37,
   "metadata": {},
   "outputs": [],
   "source": [
    "# Another approach"
   ]
  },
  {
   "cell_type": "code",
   "execution_count": 38,
   "metadata": {},
   "outputs": [],
   "source": [
    "X = all_embeddings\n",
    "y = np.array(ext_targets)"
   ]
  },
  {
   "cell_type": "code",
   "execution_count": 39,
   "metadata": {},
   "outputs": [],
   "source": [
    "X_train, X_test, y_train, y_test = model_selection.train_test_split(X, y, train_size=0.3, test_size=None)"
   ]
  },
  {
   "cell_type": "code",
   "execution_count": 40,
   "metadata": {},
   "outputs": [
    {
     "name": "stdout",
     "output_type": "stream",
     "text": [
      "Array shapes:\n",
      " X_train = (3274, 32)\n",
      " y_train = (3274,)\n",
      " X_test = (7642, 32)\n",
      " y_test = (7642,)\n"
     ]
    }
   ],
   "source": [
    "print(\n",
    "    \"Array shapes:\\n X_train = {}\\n y_train = {}\\n X_test = {}\\n y_test = {}\".format(\n",
    "        X_train.shape, y_train.shape, X_test.shape, y_test.shape\n",
    "    )\n",
    ")"
   ]
  },
  {
   "cell_type": "code",
   "execution_count": 41,
   "metadata": {},
   "outputs": [
    {
     "name": "stderr",
     "output_type": "stream",
     "text": [
      "/Users/nicolasracchi/.local/share/virtualenvs/hpc_2020-u8KpsjyS/lib/python3.8/site-packages/sklearn/model_selection/_split.py:670: UserWarning: The least populated class in y has only 1 members, which is less than n_splits=10.\n",
      "  warnings.warn((\"The least populated class in y has only %d\"\n"
     ]
    },
    {
     "data": {
      "text/plain": [
       "LogisticRegressionCV(cv=10, max_iter=300, multi_class='ovr', scoring='accuracy',\n",
       "                     verbose=False)"
      ]
     },
     "execution_count": 41,
     "metadata": {},
     "output_type": "execute_result"
    }
   ],
   "source": [
    "clf = LogisticRegressionCV(\n",
    "    Cs=10, cv=10, scoring=\"accuracy\", verbose=False, multi_class=\"ovr\", max_iter=300\n",
    ")\n",
    "clf.fit(X_train, y_train)"
   ]
  },
  {
   "cell_type": "code",
   "execution_count": 42,
   "metadata": {},
   "outputs": [],
   "source": [
    "y_pred = clf.predict(X_test)"
   ]
  },
  {
   "cell_type": "code",
   "execution_count": 43,
   "metadata": {},
   "outputs": [
    {
     "data": {
      "text/plain": [
       "0.8858937450929076"
      ]
     },
     "execution_count": 43,
     "metadata": {},
     "output_type": "execute_result"
    }
   ],
   "source": [
    "accuracy_score(y_test, y_pred)"
   ]
  },
  {
   "cell_type": "code",
   "execution_count": 52,
   "metadata": {},
   "outputs": [
    {
     "data": {
      "text/plain": [
       "0.8322926247958624"
      ]
     },
     "execution_count": 52,
     "metadata": {},
     "output_type": "execute_result"
    }
   ],
   "source": [
    "f1_score(y_test, y_pred, average='weighted')"
   ]
  },
  {
   "cell_type": "code",
   "execution_count": 81,
   "metadata": {},
   "outputs": [
    {
     "data": {
      "text/plain": [
       "7642"
      ]
     },
     "execution_count": 81,
     "metadata": {},
     "output_type": "execute_result"
    }
   ],
   "source": [
    "len(y_pred)"
   ]
  },
  {
   "cell_type": "code",
   "execution_count": 78,
   "metadata": {},
   "outputs": [],
   "source": [
    "equal = 0\n",
    "notzero_pred = 0\n",
    "notzero_test = 0\n",
    "for i in range(len(y_pred)):\n",
    "    if y_pred[i] != 0.0:\n",
    "        notzero_pred += 1\n",
    "    if y_test[i] != 0.0:\n",
    "        notzero_test += 1\n",
    "    if y_pred[i] == y_test[i]:\n",
    "        equal += 1"
   ]
  },
  {
   "cell_type": "code",
   "execution_count": 79,
   "metadata": {},
   "outputs": [
    {
     "data": {
      "text/plain": [
       "0"
      ]
     },
     "execution_count": 79,
     "metadata": {},
     "output_type": "execute_result"
    }
   ],
   "source": [
    "notzero_pred"
   ]
  },
  {
   "cell_type": "code",
   "execution_count": 80,
   "metadata": {},
   "outputs": [
    {
     "data": {
      "text/plain": [
       "872"
      ]
     },
     "execution_count": 80,
     "metadata": {},
     "output_type": "execute_result"
    }
   ],
   "source": [
    "notzero_test"
   ]
  },
  {
   "cell_type": "code",
   "execution_count": 82,
   "metadata": {},
   "outputs": [
    {
     "data": {
      "text/plain": [
       "array([0.3440975 , 0.3045484 , 0.14596634, 0.05210739, 0.02074994,\n",
       "       0.0541058 , 0.01335938, 0.09324198, 0.18507522, 0.13704002,\n",
       "       0.33342302, 0.5248797 , 0.29229513, 0.15258318, 0.02096614,\n",
       "       0.01560746, 0.09959745, 0.10159349, 0.07026795, 0.08993376,\n",
       "       0.16910568, 0.12907577, 0.1359508 , 0.1138306 , 0.08793345,\n",
       "       0.11006191, 0.14511956, 0.07740608, 0.10131039, 0.07347663,\n",
       "       0.08399951, 0.15463452], dtype=float32)"
      ]
     },
     "execution_count": 82,
     "metadata": {},
     "output_type": "execute_result"
    }
   ],
   "source": [
    "X_test[0]"
   ]
  },
  {
   "cell_type": "code",
   "execution_count": 83,
   "metadata": {},
   "outputs": [
    {
     "data": {
      "text/plain": [
       "0.0"
      ]
     },
     "execution_count": 83,
     "metadata": {},
     "output_type": "execute_result"
    }
   ],
   "source": [
    "y_test[0]"
   ]
  },
  {
   "cell_type": "code",
   "execution_count": null,
   "metadata": {},
   "outputs": [],
   "source": []
  },
  {
   "cell_type": "code",
   "execution_count": null,
   "metadata": {},
   "outputs": [],
   "source": []
  },
  {
   "cell_type": "code",
   "execution_count": null,
   "metadata": {},
   "outputs": [],
   "source": []
  },
  {
   "cell_type": "code",
   "execution_count": null,
   "metadata": {},
   "outputs": [],
   "source": []
  },
  {
   "cell_type": "code",
   "execution_count": null,
   "metadata": {},
   "outputs": [],
   "source": [
    "# TO TEST: CLASSIFICATION::\n",
    "def run_classify(x_emb_in, x_emb_out, train_ID, test_ID):\n",
    "    #train_subjects, test_subjects = model_selection.train_test_split(\n",
    "    #    subjects, train_size=0.1, test_size=None)\n",
    "    \n",
    "    train_subjects = train_ID\n",
    "    test_subjects = test_ID\n",
    "    \n",
    "    emb_model = Model(inputs=x_emb_in, outputs=x_emb_out)\n",
    "\n",
    "    test_gen = generator.flow(test_subjects.index)\n",
    "    train_gen = generator.flow(train_subjects.index)\n",
    "\n",
    "    test_embeddings = emb_model.predict(test_gen)\n",
    "    train_embeddings = emb_model.predict(train_gen)\n",
    "\n",
    "    # some generators yield predictions in a different order to the .flow argument,\n",
    "    # so we need to get everything lined up correctly\n",
    "    #ordered_test_subjects = reorder(test_gen, test_subjects)\n",
    "    #ordered_train_subjects = reorder(train_gen, train_subjects)\n",
    "\n",
    "    lr = LogisticRegression(multi_class=\"auto\", solver=\"lbfgs\")\n",
    "    lr.fit(train_embeddings, ordered_train_subjects)\n",
    "\n",
    "    y_pred = lr.predict(test_embeddings)\n",
    "    acc = (y_pred == ordered_test_subjects).mean()\n",
    "\n",
    "    return acc, x_emb_out"
   ]
  },
  {
   "cell_type": "code",
   "execution_count": null,
   "metadata": {
    "scrolled": false
   },
   "outputs": [],
   "source": []
  },
  {
   "cell_type": "code",
   "execution_count": null,
   "metadata": {
    "scrolled": false
   },
   "outputs": [],
   "source": []
  },
  {
   "cell_type": "code",
   "execution_count": null,
   "metadata": {},
   "outputs": [],
   "source": []
  },
  {
   "cell_type": "code",
   "execution_count": null,
   "metadata": {},
   "outputs": [],
   "source": []
  },
  {
   "cell_type": "code",
   "execution_count": null,
   "metadata": {},
   "outputs": [],
   "source": []
  }
 ],
 "metadata": {
  "kernelspec": {
   "display_name": "Python 3",
   "language": "python",
   "name": "python3"
  },
  "language_info": {
   "codemirror_mode": {
    "name": "ipython",
    "version": 3
   },
   "file_extension": ".py",
   "mimetype": "text/x-python",
   "name": "python",
   "nbconvert_exporter": "python",
   "pygments_lexer": "ipython3",
   "version": "3.8.2"
  }
 },
 "nbformat": 4,
 "nbformat_minor": 4
}
