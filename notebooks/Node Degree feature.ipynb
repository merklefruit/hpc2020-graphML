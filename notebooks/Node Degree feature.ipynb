{
 "cells": [
  {
   "cell_type": "code",
   "execution_count": 1,
   "metadata": {},
   "outputs": [
    {
     "name": "stdout",
     "output_type": "stream",
     "text": [
      "Dataset already downloaded. Loading it from file system\n",
      "LOADING DATA: 0.99 s\n"
     ]
    }
   ],
   "source": [
    "import sys\n",
    "sys.path.append(\"../\")\n",
    "import utils\n",
    "v_data, e_data, core_targets, ext_targets, core_testing = utils.load_for_jupyter_raw()"
   ]
  },
  {
   "cell_type": "markdown",
   "metadata": {},
   "source": [
    "# Node degree"
   ]
  },
  {
   "cell_type": "markdown",
   "metadata": {},
   "source": [
    "Node degree is simply the number of edges incident to a node.\n",
    "\n",
    "for each node ID, sift through the edges and look for that node as both source and destination.\n",
    "\n",
    "The loop for the entire graph iterates 270 billion times.\n",
    "\n",
    "Clearly there is a better way. The firs that came to my mind is to use Pandas `groupby()` function to count how many times each value appears in the from_id and to_id columns, which is much more easy computationally.\n",
    "\n",
    "Then I can create a dataframe from the data I just created. This way, I can use the `merge()` function to add the row corresponding to the node ID.\n",
    "\n",
    "This way I can easily compute the degree for both source and target edges, which might be more insightful than just the total degree (which is the sum)"
   ]
  },
  {
   "cell_type": "code",
   "execution_count": 87,
   "metadata": {},
   "outputs": [],
   "source": [
    "import pandas as pd\n",
    "import numpy as np\n",
    "import matplotlib.pyplot as plt\n",
    "import time\n",
    "import seaborn as sns"
   ]
  },
  {
   "cell_type": "code",
   "execution_count": 35,
   "metadata": {},
   "outputs": [
    {
     "data": {
      "text/html": [
       "<div>\n",
       "<style scoped>\n",
       "    .dataframe tbody tr th:only-of-type {\n",
       "        vertical-align: middle;\n",
       "    }\n",
       "\n",
       "    .dataframe tbody tr th {\n",
       "        vertical-align: top;\n",
       "    }\n",
       "\n",
       "    .dataframe thead th {\n",
       "        text-align: right;\n",
       "    }\n",
       "</style>\n",
       "<table border=\"1\" class=\"dataframe\">\n",
       "  <thead>\n",
       "    <tr style=\"text-align: right;\">\n",
       "      <th></th>\n",
       "      <th>from_id</th>\n",
       "      <th>to_id</th>\n",
       "      <th>Label</th>\n",
       "      <th>Similarity Strength</th>\n",
       "      <th>Amount Flag</th>\n",
       "    </tr>\n",
       "    <tr>\n",
       "      <th>edge_id</th>\n",
       "      <th></th>\n",
       "      <th></th>\n",
       "      <th></th>\n",
       "      <th></th>\n",
       "      <th></th>\n",
       "    </tr>\n",
       "  </thead>\n",
       "  <tbody>\n",
       "    <tr>\n",
       "      <th>400111489790</th>\n",
       "      <td>1502000</td>\n",
       "      <td>2003003713</td>\n",
       "      <td>money transfer</td>\n",
       "      <td>NaN</td>\n",
       "      <td>medium</td>\n",
       "    </tr>\n",
       "    <tr>\n",
       "      <th>400111390345</th>\n",
       "      <td>1502000</td>\n",
       "      <td>20030012850</td>\n",
       "      <td>money transfer</td>\n",
       "      <td>NaN</td>\n",
       "      <td>small</td>\n",
       "    </tr>\n",
       "    <tr>\n",
       "      <th>350111213741</th>\n",
       "      <td>1502001</td>\n",
       "      <td>15020066888</td>\n",
       "      <td>money transfer</td>\n",
       "      <td>NaN</td>\n",
       "      <td>small</td>\n",
       "    </tr>\n",
       "    <tr>\n",
       "      <th>350111280215</th>\n",
       "      <td>1502001</td>\n",
       "      <td>15020063877</td>\n",
       "      <td>money transfer</td>\n",
       "      <td>NaN</td>\n",
       "      <td>medium</td>\n",
       "    </tr>\n",
       "    <tr>\n",
       "      <th>400111415408</th>\n",
       "      <td>1502001</td>\n",
       "      <td>20030019012</td>\n",
       "      <td>money transfer</td>\n",
       "      <td>NaN</td>\n",
       "      <td>small</td>\n",
       "    </tr>\n",
       "    <tr>\n",
       "      <th>...</th>\n",
       "      <td>...</td>\n",
       "      <td>...</td>\n",
       "      <td>...</td>\n",
       "      <td>...</td>\n",
       "      <td>...</td>\n",
       "    </tr>\n",
       "    <tr>\n",
       "      <th>650111831593</th>\n",
       "      <td>20030017545</td>\n",
       "      <td>3001182900</td>\n",
       "      <td>is similar</td>\n",
       "      <td>weak</td>\n",
       "      <td>NaN</td>\n",
       "    </tr>\n",
       "    <tr>\n",
       "      <th>650111820399</th>\n",
       "      <td>20030017545</td>\n",
       "      <td>3001184369</td>\n",
       "      <td>is similar</td>\n",
       "      <td>medium</td>\n",
       "      <td>NaN</td>\n",
       "    </tr>\n",
       "    <tr>\n",
       "      <th>650111814941</th>\n",
       "      <td>20030017545</td>\n",
       "      <td>3001147740</td>\n",
       "      <td>is similar</td>\n",
       "      <td>medium</td>\n",
       "      <td>NaN</td>\n",
       "    </tr>\n",
       "    <tr>\n",
       "      <th>650111838272</th>\n",
       "      <td>20030017545</td>\n",
       "      <td>3001163228</td>\n",
       "      <td>is similar</td>\n",
       "      <td>medium</td>\n",
       "      <td>NaN</td>\n",
       "    </tr>\n",
       "    <tr>\n",
       "      <th>650111856136</th>\n",
       "      <td>20030017545</td>\n",
       "      <td>3001149373</td>\n",
       "      <td>is similar</td>\n",
       "      <td>weak</td>\n",
       "      <td>NaN</td>\n",
       "    </tr>\n",
       "  </tbody>\n",
       "</table>\n",
       "<p>921876 rows × 5 columns</p>\n",
       "</div>"
      ],
      "text/plain": [
       "                  from_id        to_id           Label Similarity Strength  \\\n",
       "edge_id                                                                      \n",
       "400111489790      1502000   2003003713  money transfer                 NaN   \n",
       "400111390345      1502000  20030012850  money transfer                 NaN   \n",
       "350111213741      1502001  15020066888  money transfer                 NaN   \n",
       "350111280215      1502001  15020063877  money transfer                 NaN   \n",
       "400111415408      1502001  20030019012  money transfer                 NaN   \n",
       "...                   ...          ...             ...                 ...   \n",
       "650111831593  20030017545   3001182900      is similar                weak   \n",
       "650111820399  20030017545   3001184369      is similar              medium   \n",
       "650111814941  20030017545   3001147740      is similar              medium   \n",
       "650111838272  20030017545   3001163228      is similar              medium   \n",
       "650111856136  20030017545   3001149373      is similar                weak   \n",
       "\n",
       "             Amount Flag  \n",
       "edge_id                   \n",
       "400111489790      medium  \n",
       "400111390345       small  \n",
       "350111213741       small  \n",
       "350111280215      medium  \n",
       "400111415408       small  \n",
       "...                  ...  \n",
       "650111831593         NaN  \n",
       "650111820399         NaN  \n",
       "650111814941         NaN  \n",
       "650111838272         NaN  \n",
       "650111856136         NaN  \n",
       "\n",
       "[921876 rows x 5 columns]"
      ]
     },
     "execution_count": 35,
     "metadata": {},
     "output_type": "execute_result"
    }
   ],
   "source": [
    "e_data"
   ]
  },
  {
   "cell_type": "code",
   "execution_count": 50,
   "metadata": {
    "scrolled": false
   },
   "outputs": [
    {
     "data": {
      "text/plain": [
       "from_id\n",
       "100100          5\n",
       "100101          5\n",
       "100102          7\n",
       "100103          6\n",
       "100104          9\n",
       "               ..\n",
       "20030025114     9\n",
       "20030025115     9\n",
       "20030025116    10\n",
       "20030025117     9\n",
       "20030025118     3\n",
       "Name: to_id, Length: 170950, dtype: int64"
      ]
     },
     "execution_count": 50,
     "metadata": {},
     "output_type": "execute_result"
    }
   ],
   "source": [
    "e_data.groupby('from_id').count().to_id\n",
    "# this means that there are 5 edges going from node id 100100 to other IDs."
   ]
  },
  {
   "cell_type": "code",
   "execution_count": 73,
   "metadata": {},
   "outputs": [],
   "source": [
    "source_data = e_data.groupby('from_id').count().to_id\n",
    "source_data = pd.DataFrame(source_data)\n",
    "source_data = source_data.rename(columns={'to_id': 'source_degree'})\n",
    "source_data = source_data.rename_axis('node_id')"
   ]
  },
  {
   "cell_type": "code",
   "execution_count": 74,
   "metadata": {},
   "outputs": [
    {
     "data": {
      "text/html": [
       "<div>\n",
       "<style scoped>\n",
       "    .dataframe tbody tr th:only-of-type {\n",
       "        vertical-align: middle;\n",
       "    }\n",
       "\n",
       "    .dataframe tbody tr th {\n",
       "        vertical-align: top;\n",
       "    }\n",
       "\n",
       "    .dataframe thead th {\n",
       "        text-align: right;\n",
       "    }\n",
       "</style>\n",
       "<table border=\"1\" class=\"dataframe\">\n",
       "  <thead>\n",
       "    <tr style=\"text-align: right;\">\n",
       "      <th></th>\n",
       "      <th>source_degree</th>\n",
       "    </tr>\n",
       "    <tr>\n",
       "      <th>node_id</th>\n",
       "      <th></th>\n",
       "    </tr>\n",
       "  </thead>\n",
       "  <tbody>\n",
       "    <tr>\n",
       "      <th>100100</th>\n",
       "      <td>5</td>\n",
       "    </tr>\n",
       "    <tr>\n",
       "      <th>100101</th>\n",
       "      <td>5</td>\n",
       "    </tr>\n",
       "    <tr>\n",
       "      <th>100102</th>\n",
       "      <td>7</td>\n",
       "    </tr>\n",
       "    <tr>\n",
       "      <th>100103</th>\n",
       "      <td>6</td>\n",
       "    </tr>\n",
       "    <tr>\n",
       "      <th>100104</th>\n",
       "      <td>9</td>\n",
       "    </tr>\n",
       "    <tr>\n",
       "      <th>...</th>\n",
       "      <td>...</td>\n",
       "    </tr>\n",
       "    <tr>\n",
       "      <th>20030025114</th>\n",
       "      <td>9</td>\n",
       "    </tr>\n",
       "    <tr>\n",
       "      <th>20030025115</th>\n",
       "      <td>9</td>\n",
       "    </tr>\n",
       "    <tr>\n",
       "      <th>20030025116</th>\n",
       "      <td>10</td>\n",
       "    </tr>\n",
       "    <tr>\n",
       "      <th>20030025117</th>\n",
       "      <td>9</td>\n",
       "    </tr>\n",
       "    <tr>\n",
       "      <th>20030025118</th>\n",
       "      <td>3</td>\n",
       "    </tr>\n",
       "  </tbody>\n",
       "</table>\n",
       "<p>170950 rows × 1 columns</p>\n",
       "</div>"
      ],
      "text/plain": [
       "             source_degree\n",
       "node_id                   \n",
       "100100                   5\n",
       "100101                   5\n",
       "100102                   7\n",
       "100103                   6\n",
       "100104                   9\n",
       "...                    ...\n",
       "20030025114              9\n",
       "20030025115              9\n",
       "20030025116             10\n",
       "20030025117              9\n",
       "20030025118              3\n",
       "\n",
       "[170950 rows x 1 columns]"
      ]
     },
     "execution_count": 74,
     "metadata": {},
     "output_type": "execute_result"
    }
   ],
   "source": [
    "source_data"
   ]
  },
  {
   "cell_type": "code",
   "execution_count": 75,
   "metadata": {},
   "outputs": [],
   "source": [
    "target_data = e_data.groupby('to_id').count().from_id\n",
    "target_data = pd.DataFrame(target_data)\n",
    "target_data = target_data.rename(columns={'from_id': 'target_degree'})\n",
    "target_data = target_data.rename_axis('node_id')"
   ]
  },
  {
   "cell_type": "code",
   "execution_count": 76,
   "metadata": {},
   "outputs": [
    {
     "data": {
      "text/html": [
       "<div>\n",
       "<style scoped>\n",
       "    .dataframe tbody tr th:only-of-type {\n",
       "        vertical-align: middle;\n",
       "    }\n",
       "\n",
       "    .dataframe tbody tr th {\n",
       "        vertical-align: top;\n",
       "    }\n",
       "\n",
       "    .dataframe thead th {\n",
       "        text-align: right;\n",
       "    }\n",
       "</style>\n",
       "<table border=\"1\" class=\"dataframe\">\n",
       "  <thead>\n",
       "    <tr style=\"text-align: right;\">\n",
       "      <th></th>\n",
       "      <th>target_degree</th>\n",
       "    </tr>\n",
       "    <tr>\n",
       "      <th>node_id</th>\n",
       "      <th></th>\n",
       "    </tr>\n",
       "  </thead>\n",
       "  <tbody>\n",
       "    <tr>\n",
       "      <th>250110</th>\n",
       "      <td>1</td>\n",
       "    </tr>\n",
       "    <tr>\n",
       "      <th>250112</th>\n",
       "      <td>2</td>\n",
       "    </tr>\n",
       "    <tr>\n",
       "      <th>250113</th>\n",
       "      <td>1</td>\n",
       "    </tr>\n",
       "    <tr>\n",
       "      <th>250114</th>\n",
       "      <td>2</td>\n",
       "    </tr>\n",
       "    <tr>\n",
       "      <th>250115</th>\n",
       "      <td>1</td>\n",
       "    </tr>\n",
       "    <tr>\n",
       "      <th>...</th>\n",
       "      <td>...</td>\n",
       "    </tr>\n",
       "    <tr>\n",
       "      <th>20030025114</th>\n",
       "      <td>2</td>\n",
       "    </tr>\n",
       "    <tr>\n",
       "      <th>20030025115</th>\n",
       "      <td>2</td>\n",
       "    </tr>\n",
       "    <tr>\n",
       "      <th>20030025116</th>\n",
       "      <td>2</td>\n",
       "    </tr>\n",
       "    <tr>\n",
       "      <th>20030025117</th>\n",
       "      <td>1</td>\n",
       "    </tr>\n",
       "    <tr>\n",
       "      <th>20030025118</th>\n",
       "      <td>3</td>\n",
       "    </tr>\n",
       "  </tbody>\n",
       "</table>\n",
       "<p>239119 rows × 1 columns</p>\n",
       "</div>"
      ],
      "text/plain": [
       "             target_degree\n",
       "node_id                   \n",
       "250110                   1\n",
       "250112                   2\n",
       "250113                   1\n",
       "250114                   2\n",
       "250115                   1\n",
       "...                    ...\n",
       "20030025114              2\n",
       "20030025115              2\n",
       "20030025116              2\n",
       "20030025117              1\n",
       "20030025118              3\n",
       "\n",
       "[239119 rows x 1 columns]"
      ]
     },
     "execution_count": 76,
     "metadata": {},
     "output_type": "execute_result"
    }
   ],
   "source": [
    "target_data"
   ]
  },
  {
   "cell_type": "code",
   "execution_count": 80,
   "metadata": {},
   "outputs": [],
   "source": [
    "w_deg = pd.merge(v_data, source_data, left_index=True, right_index=True, how='left')\n",
    "w_deg = pd.merge(w_deg, target_data, left_index=True, right_index=True, how='left')"
   ]
  },
  {
   "cell_type": "code",
   "execution_count": 82,
   "metadata": {},
   "outputs": [
    {
     "data": {
      "text/plain": [
       "5.0     27930\n",
       "4.0     27678\n",
       "6.0     23738\n",
       "3.0     22307\n",
       "7.0     17793\n",
       "2.0     13714\n",
       "8.0     12180\n",
       "9.0      8131\n",
       "1.0      5527\n",
       "10.0     5089\n",
       "11.0     3121\n",
       "12.0     1727\n",
       "13.0     1009\n",
       "14.0      514\n",
       "15.0      265\n",
       "16.0      122\n",
       "17.0       63\n",
       "18.0       24\n",
       "19.0       12\n",
       "20.0        3\n",
       "21.0        2\n",
       "22.0        1\n",
       "Name: source_degree, dtype: int64"
      ]
     },
     "execution_count": 82,
     "metadata": {},
     "output_type": "execute_result"
    }
   ],
   "source": [
    "w_deg['source_degree'].value_counts()"
   ]
  },
  {
   "cell_type": "code",
   "execution_count": 108,
   "metadata": {},
   "outputs": [
    {
     "data": {
      "text/plain": [
       "1.0     81722\n",
       "2.0     28198\n",
       "3.0     22494\n",
       "4.0     19167\n",
       "5.0     18603\n",
       "6.0     18040\n",
       "7.0     16058\n",
       "8.0     13000\n",
       "9.0      9113\n",
       "10.0     5972\n",
       "11.0     3399\n",
       "12.0     1838\n",
       "13.0      870\n",
       "14.0      375\n",
       "15.0      164\n",
       "16.0       70\n",
       "17.0       24\n",
       "18.0       11\n",
       "19.0        1\n",
       "Name: target_degree, dtype: int64"
      ]
     },
     "execution_count": 108,
     "metadata": {},
     "output_type": "execute_result"
    }
   ],
   "source": [
    "w_deg['target_degree'].value_counts()"
   ]
  },
  {
   "cell_type": "code",
   "execution_count": 84,
   "metadata": {},
   "outputs": [
    {
     "data": {
      "text/plain": [
       "148426"
      ]
     },
     "execution_count": 84,
     "metadata": {},
     "output_type": "execute_result"
    }
   ],
   "source": [
    "w_deg['source_degree'].isna().sum()"
   ]
  },
  {
   "cell_type": "code",
   "execution_count": 86,
   "metadata": {},
   "outputs": [
    {
     "data": {
      "text/plain": [
       "80257"
      ]
     },
     "execution_count": 86,
     "metadata": {},
     "output_type": "execute_result"
    }
   ],
   "source": [
    "w_deg['target_degree'].isna().sum()"
   ]
  },
  {
   "cell_type": "markdown",
   "metadata": {},
   "source": [
    "# Observations\n",
    "\n",
    "It appears that the nodes are quite balanced in terms of degree.\n",
    "\n",
    "It may be a good improvement to plot the value_counts and maybe fit a transform to normalize them."
   ]
  },
  {
   "cell_type": "code",
   "execution_count": 134,
   "metadata": {},
   "outputs": [],
   "source": [
    "sd = pd.DataFrame(w_deg['source_degree'].value_counts())\n",
    "sd = dp.rename_axis('frequency')\n",
    "td = pd.DataFrame(w_deg['target_degree'].value_counts())\n",
    "td = td.rename_axis('frequency')"
   ]
  },
  {
   "cell_type": "code",
   "execution_count": 135,
   "metadata": {},
   "outputs": [
    {
     "data": {
      "text/plain": [
       "<AxesSubplot:xlabel='frequency'>"
      ]
     },
     "execution_count": 135,
     "metadata": {},
     "output_type": "execute_result"
    },
    {
     "data": {
      "text/plain": [
       "<Figure size 576x288 with 0 Axes>"
      ]
     },
     "metadata": {},
     "output_type": "display_data"
    },
    {
     "data": {
      "image/png": "[encoded data removed]",
      "text/plain": [
       "<Figure size 576x288 with 1 Axes>"
      ]
     },
     "metadata": {},
     "output_type": "display_data"
    }
   ],
   "source": [
    "plt.figure()\n",
    "sd.plot(kind='bar')"
   ]
  },
  {
   "cell_type": "code",
   "execution_count": 136,
   "metadata": {},
   "outputs": [
    {
     "data": {
      "text/plain": [
       "<AxesSubplot:xlabel='frequency'>"
      ]
     },
     "execution_count": 136,
     "metadata": {},
     "output_type": "execute_result"
    },
    {
     "data": {
      "text/plain": [
       "<Figure size 576x288 with 0 Axes>"
      ]
     },
     "metadata": {},
     "output_type": "display_data"
    },
    {
     "data": {
      "image/png": "[encoded data removed]",
      "text/plain": [
       "<Figure size 576x288 with 1 Axes>"
      ]
     },
     "metadata": {},
     "output_type": "display_data"
    }
   ],
   "source": [
    "plt.figure()\n",
    "td.plot(kind='bar')"
   ]
  },
  {
   "cell_type": "markdown",
   "metadata": {},
   "source": [
    "Looks like the target degree is more imbalanced."
   ]
  },
  {
   "cell_type": "code",
   "execution_count": null,
   "metadata": {},
   "outputs": [],
   "source": []
  }
 ],
 "metadata": {
  "kernelspec": {
   "display_name": "Python 3",
   "language": "python",
   "name": "python3"
  },
  "language_info": {
   "codemirror_mode": {
    "name": "ipython",
    "version": 3
   },
   "file_extension": ".py",
   "mimetype": "text/x-python",
   "name": "python",
   "nbconvert_exporter": "python",
   "pygments_lexer": "ipython3",
   "version": "3.8.2"
  }
 },
 "nbformat": 4,
 "nbformat_minor": 4
}
