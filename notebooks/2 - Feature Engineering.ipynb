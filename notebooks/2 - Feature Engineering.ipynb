{
 "cells": [
  {
   "cell_type": "markdown",
   "metadata": {},
   "source": [
    "# Feature Extraction & Engineering v1\n",
    "\n",
    "This contains feature extraction and NaN values handling"
   ]
  },
  {
   "cell_type": "markdown",
   "metadata": {},
   "source": [
    "Summary of the dataset: \n",
    "\n",
    "### Nodes:\n",
    "\n",
    "- node_id\n",
    "- Label: Account, Address, Customer, Derived Entity, External Entity\n",
    "- Revenue Size Flag: low, mid_low, medium, mid_high, high\n",
    "- Account ID String\n",
    "- Address\n",
    "- Person or Organisation: Person, Organisation\n",
    "- Name\n",
    "- Income Size Flag: low, medium, high\n",
    "- CoreCaseGraphID\n",
    "- ExtendedCaseGraphID\n",
    "- testingFlag: 0, 1\n",
    "\n",
    "### Edges:\n",
    "\n",
    "- edge_id\n",
    "- from_id\n",
    "- to_id\n",
    "- Label: has account, money transfer, is similar, has address\n",
    "- Similarity Strength: weak, medium, strong\n",
    "- Amount Flag: small, medium, large"
   ]
  },
  {
   "cell_type": "code",
   "execution_count": 71,
   "metadata": {},
   "outputs": [],
   "source": [
    "import math, time, random, datetime\n",
    "import os\n",
    "import numpy as np\n",
    "import pandas as pd\n",
    "import matplotlib.pyplot as plt\n",
    "import seaborn as sns\n",
    "\n",
    "plt.style.use('seaborn-whitegrid')\n",
    "%matplotlib inline"
   ]
  },
  {
   "cell_type": "code",
   "execution_count": 72,
   "metadata": {},
   "outputs": [],
   "source": [
    "# Loading data\n",
    "\n",
    "nodes = pd.read_csv('../data/polimi.case.graphs.vertices.csv', low_memory=False)"
   ]
  },
  {
   "cell_type": "code",
   "execution_count": 73,
   "metadata": {},
   "outputs": [],
   "source": [
    "# Creating a new dataframe for convenience\n",
    "df = nodes.copy()"
   ]
  },
  {
   "cell_type": "markdown",
   "metadata": {},
   "source": [
    "### Target: Nodes ExtendedCaseGraphID"
   ]
  },
  {
   "cell_type": "code",
   "execution_count": 74,
   "metadata": {},
   "outputs": [
    {
     "data": {
      "text/plain": [
       "333.0     79\n",
       "421.0     68\n",
       "289.0     64\n",
       "787.0     61\n",
       "1140.0    56\n",
       "          ..\n",
       "3516.0     1\n",
       "125.0      1\n",
       "1395.0     1\n",
       "2771.0     1\n",
       "3075.0     1\n",
       "Name: ExtendedCaseGraphID, Length: 3013, dtype: int64"
      ]
     },
     "execution_count": 74,
     "metadata": {},
     "output_type": "execute_result"
    }
   ],
   "source": [
    "# This is the target feature\n",
    "\n",
    "df['ExtendedCaseGraphID'].value_counts()"
   ]
  },
  {
   "cell_type": "code",
   "execution_count": 75,
   "metadata": {},
   "outputs": [
    {
     "data": {
      "text/plain": [
       "32438"
      ]
     },
     "execution_count": 75,
     "metadata": {},
     "output_type": "execute_result"
    }
   ],
   "source": [
    "df['ExtendedCaseGraphID'].notnull().sum()"
   ]
  },
  {
   "cell_type": "markdown",
   "metadata": {},
   "source": [
    "For both categorical and numeric features, this database contains a lot of NaN values.\n",
    "\n",
    "This notebook walks through the steps taken to eliminate/reduce/change missing values with different techniques.\n",
    "\n",
    "For Label, Revenue Size, Person or Organisation and Income Size, I will transform NaN values to a symbolic number like '-1'. For other fields, I will explain case by case my decisions."
   ]
  },
  {
   "cell_type": "markdown",
   "metadata": {},
   "source": [
    "## Categorical imbalances"
   ]
  },
  {
   "cell_type": "markdown",
   "metadata": {},
   "source": [
    "### Node label"
   ]
  },
  {
   "cell_type": "code",
   "execution_count": 76,
   "metadata": {},
   "outputs": [
    {
     "data": {
      "text/plain": [
       "<AxesSubplot:xlabel='count', ylabel='Label'>"
      ]
     },
     "execution_count": 76,
     "metadata": {},
     "output_type": "execute_result"
    },
    {
     "data": {
      "image/png": "[encoded data removed]",
      "text/plain": [
       "<Figure size 1080x504 with 1 Axes>"
      ]
     },
     "metadata": {
      "needs_background": "light"
     },
     "output_type": "display_data"
    }
   ],
   "source": [
    "plt.figure(figsize=(15,7))\n",
    "sns.countplot(y=\"Label\", data=df)"
   ]
  },
  {
   "cell_type": "markdown",
   "metadata": {},
   "source": [
    "Label kinds are balanced enough for an initial case. \n",
    "\n",
    "Maybe I will treat 'Account' labeled nodes separately in a future iteration."
   ]
  },
  {
   "cell_type": "markdown",
   "metadata": {},
   "source": [
    "### Revenue size flag"
   ]
  },
  {
   "cell_type": "code",
   "execution_count": 77,
   "metadata": {
    "scrolled": false
   },
   "outputs": [
    {
     "data": {
      "text/plain": [
       "<AxesSubplot:xlabel='count', ylabel='Revenue Size Flag'>"
      ]
     },
     "execution_count": 77,
     "metadata": {},
     "output_type": "execute_result"
    },
    {
     "data": {
      "image/png": "[encoded data removed]",
      "text/plain": [
       "<Figure size 1080x504 with 1 Axes>"
      ]
     },
     "metadata": {
      "needs_background": "light"
     },
     "output_type": "display_data"
    }
   ],
   "source": [
    "plt.figure(figsize=(15,7))\n",
    "sns.countplot(y=\"Revenue Size Flag\", data=df)"
   ]
  },
  {
   "cell_type": "code",
   "execution_count": 78,
   "metadata": {},
   "outputs": [
    {
     "data": {
      "text/plain": [
       "177500"
      ]
     },
     "execution_count": 78,
     "metadata": {},
     "output_type": "execute_result"
    }
   ],
   "source": [
    "df['Revenue Size Flag'].isna().sum()"
   ]
  },
  {
   "cell_type": "markdown",
   "metadata": {},
   "source": [
    "Revenue flags are balanced. There are a lot of NaN values."
   ]
  },
  {
   "cell_type": "markdown",
   "metadata": {},
   "source": [
    "### Person or Organisation"
   ]
  },
  {
   "cell_type": "code",
   "execution_count": 79,
   "metadata": {},
   "outputs": [
    {
     "data": {
      "text/plain": [
       "<AxesSubplot:xlabel='count', ylabel='Person or Organisation'>"
      ]
     },
     "execution_count": 79,
     "metadata": {},
     "output_type": "execute_result"
    },
    {
     "data": {
      "image/png": "[encoded data removed]",
      "text/plain": [
       "<Figure size 1080x216 with 1 Axes>"
      ]
     },
     "metadata": {
      "needs_background": "light"
     },
     "output_type": "display_data"
    }
   ],
   "source": [
    "plt.figure(figsize=(15,3))\n",
    "sns.countplot(y=\"Person or Organisation\", data=df)"
   ]
  },
  {
   "cell_type": "code",
   "execution_count": 80,
   "metadata": {},
   "outputs": [
    {
     "data": {
      "text/plain": [
       "171876"
      ]
     },
     "execution_count": 80,
     "metadata": {},
     "output_type": "execute_result"
    }
   ],
   "source": [
    "df['Person or Organisation'].isna().sum()"
   ]
  },
  {
   "cell_type": "markdown",
   "metadata": {},
   "source": [
    "### Income Size Flag"
   ]
  },
  {
   "cell_type": "code",
   "execution_count": 81,
   "metadata": {},
   "outputs": [
    {
     "data": {
      "text/plain": [
       "<AxesSubplot:xlabel='count', ylabel='Income Size Flag'>"
      ]
     },
     "execution_count": 81,
     "metadata": {},
     "output_type": "execute_result"
    },
    {
     "data": {
      "image/png": "[encoded data removed]",
      "text/plain": [
       "<Figure size 1080x288 with 1 Axes>"
      ]
     },
     "metadata": {
      "needs_background": "light"
     },
     "output_type": "display_data"
    }
   ],
   "source": [
    "plt.figure(figsize=(15,4))\n",
    "sns.countplot(y=\"Income Size Flag\", data=df)"
   ]
  },
  {
   "cell_type": "code",
   "execution_count": 82,
   "metadata": {},
   "outputs": [
    {
     "data": {
      "text/plain": [
       "263150"
      ]
     },
     "execution_count": 82,
     "metadata": {},
     "output_type": "execute_result"
    }
   ],
   "source": [
    "df['Income Size Flag'].isna().sum()"
   ]
  },
  {
   "cell_type": "markdown",
   "metadata": {},
   "source": [
    "# Categorical features: Mapping and Handling NaN values"
   ]
  },
  {
   "cell_type": "code",
   "execution_count": 83,
   "metadata": {},
   "outputs": [],
   "source": [
    "cat_df = df.copy()"
   ]
  },
  {
   "cell_type": "code",
   "execution_count": 84,
   "metadata": {},
   "outputs": [],
   "source": [
    "# Automatically map categorical features to numbers\n",
    "# Good for Label, Revenue size, Person or Org, Income size\n",
    "\n",
    "def automap_cats(flags, df):\n",
    "    for flag in flags:\n",
    "        cat_list = df[flag].astype('category').cat.categories.tolist()\n",
    "        replace_cats = {flag : {k: v for k,v in zip(cat_list,list(range(1,len(cat_list)+1)))}}\n",
    "        df.replace(replace_cats, inplace=True)"
   ]
  },
  {
   "cell_type": "code",
   "execution_count": 85,
   "metadata": {},
   "outputs": [],
   "source": [
    "automap_cats(['Label', 'Revenue Size Flag', 'Person or Organisation', 'Income Size Flag'], cat_df)"
   ]
  },
  {
   "cell_type": "code",
   "execution_count": 86,
   "metadata": {
    "scrolled": false
   },
   "outputs": [
    {
     "data": {
      "text/html": [
       "<div>\n",
       "<style scoped>\n",
       "    .dataframe tbody tr th:only-of-type {\n",
       "        vertical-align: middle;\n",
       "    }\n",
       "\n",
       "    .dataframe tbody tr th {\n",
       "        vertical-align: top;\n",
       "    }\n",
       "\n",
       "    .dataframe thead th {\n",
       "        text-align: right;\n",
       "    }\n",
       "</style>\n",
       "<table border=\"1\" class=\"dataframe\">\n",
       "  <thead>\n",
       "    <tr style=\"text-align: right;\">\n",
       "      <th></th>\n",
       "      <th>node_id</th>\n",
       "      <th>Label</th>\n",
       "      <th>Revenue Size Flag</th>\n",
       "      <th>Account ID String</th>\n",
       "      <th>Address</th>\n",
       "      <th>Person or Organisation</th>\n",
       "      <th>Name</th>\n",
       "      <th>Income Size Flag</th>\n",
       "      <th>CoreCaseGraphID</th>\n",
       "      <th>ExtendedCaseGraphID</th>\n",
       "      <th>testingFlag</th>\n",
       "    </tr>\n",
       "  </thead>\n",
       "  <tbody>\n",
       "    <tr>\n",
       "      <th>0</th>\n",
       "      <td>1502000</td>\n",
       "      <td>1</td>\n",
       "      <td>4.0</td>\n",
       "      <td>RvIOFQqK0E</td>\n",
       "      <td>NaN</td>\n",
       "      <td>NaN</td>\n",
       "      <td>NaN</td>\n",
       "      <td>NaN</td>\n",
       "      <td>NaN</td>\n",
       "      <td>NaN</td>\n",
       "      <td>NaN</td>\n",
       "    </tr>\n",
       "    <tr>\n",
       "      <th>1</th>\n",
       "      <td>1502001</td>\n",
       "      <td>1</td>\n",
       "      <td>2.0</td>\n",
       "      <td>cSnM0hVDsm</td>\n",
       "      <td>NaN</td>\n",
       "      <td>NaN</td>\n",
       "      <td>NaN</td>\n",
       "      <td>NaN</td>\n",
       "      <td>NaN</td>\n",
       "      <td>NaN</td>\n",
       "      <td>NaN</td>\n",
       "    </tr>\n",
       "    <tr>\n",
       "      <th>2</th>\n",
       "      <td>1502002</td>\n",
       "      <td>1</td>\n",
       "      <td>2.0</td>\n",
       "      <td>WAQWpZi4AD</td>\n",
       "      <td>NaN</td>\n",
       "      <td>NaN</td>\n",
       "      <td>NaN</td>\n",
       "      <td>NaN</td>\n",
       "      <td>2492.0</td>\n",
       "      <td>NaN</td>\n",
       "      <td>0.0</td>\n",
       "    </tr>\n",
       "    <tr>\n",
       "      <th>3</th>\n",
       "      <td>1502003</td>\n",
       "      <td>1</td>\n",
       "      <td>4.0</td>\n",
       "      <td>n5J9mBTeZc</td>\n",
       "      <td>NaN</td>\n",
       "      <td>NaN</td>\n",
       "      <td>NaN</td>\n",
       "      <td>NaN</td>\n",
       "      <td>NaN</td>\n",
       "      <td>NaN</td>\n",
       "      <td>NaN</td>\n",
       "    </tr>\n",
       "    <tr>\n",
       "      <th>4</th>\n",
       "      <td>1502004</td>\n",
       "      <td>1</td>\n",
       "      <td>2.0</td>\n",
       "      <td>qxlAEuUm7P</td>\n",
       "      <td>NaN</td>\n",
       "      <td>NaN</td>\n",
       "      <td>NaN</td>\n",
       "      <td>NaN</td>\n",
       "      <td>NaN</td>\n",
       "      <td>NaN</td>\n",
       "      <td>NaN</td>\n",
       "    </tr>\n",
       "    <tr>\n",
       "      <th>...</th>\n",
       "      <td>...</td>\n",
       "      <td>...</td>\n",
       "      <td>...</td>\n",
       "      <td>...</td>\n",
       "      <td>...</td>\n",
       "      <td>...</td>\n",
       "      <td>...</td>\n",
       "      <td>...</td>\n",
       "      <td>...</td>\n",
       "      <td>...</td>\n",
       "      <td>...</td>\n",
       "    </tr>\n",
       "    <tr>\n",
       "      <th>319371</th>\n",
       "      <td>3001177742</td>\n",
       "      <td>5</td>\n",
       "      <td>NaN</td>\n",
       "      <td>NaN</td>\n",
       "      <td>NaN</td>\n",
       "      <td>2.0</td>\n",
       "      <td>gqDyJLC8DS</td>\n",
       "      <td>NaN</td>\n",
       "      <td>NaN</td>\n",
       "      <td>NaN</td>\n",
       "      <td>NaN</td>\n",
       "    </tr>\n",
       "    <tr>\n",
       "      <th>319372</th>\n",
       "      <td>3001177743</td>\n",
       "      <td>5</td>\n",
       "      <td>NaN</td>\n",
       "      <td>NaN</td>\n",
       "      <td>NaN</td>\n",
       "      <td>1.0</td>\n",
       "      <td>B5TdCmIf69</td>\n",
       "      <td>NaN</td>\n",
       "      <td>NaN</td>\n",
       "      <td>NaN</td>\n",
       "      <td>NaN</td>\n",
       "    </tr>\n",
       "    <tr>\n",
       "      <th>319373</th>\n",
       "      <td>3001177744</td>\n",
       "      <td>5</td>\n",
       "      <td>NaN</td>\n",
       "      <td>NaN</td>\n",
       "      <td>NaN</td>\n",
       "      <td>2.0</td>\n",
       "      <td>izrJE4sDpr</td>\n",
       "      <td>NaN</td>\n",
       "      <td>NaN</td>\n",
       "      <td>NaN</td>\n",
       "      <td>NaN</td>\n",
       "    </tr>\n",
       "    <tr>\n",
       "      <th>319374</th>\n",
       "      <td>3001177745</td>\n",
       "      <td>5</td>\n",
       "      <td>NaN</td>\n",
       "      <td>NaN</td>\n",
       "      <td>NaN</td>\n",
       "      <td>1.0</td>\n",
       "      <td>TKQfFZ3fkk</td>\n",
       "      <td>NaN</td>\n",
       "      <td>NaN</td>\n",
       "      <td>2030.0</td>\n",
       "      <td>0.0</td>\n",
       "    </tr>\n",
       "    <tr>\n",
       "      <th>319375</th>\n",
       "      <td>3001177746</td>\n",
       "      <td>5</td>\n",
       "      <td>NaN</td>\n",
       "      <td>NaN</td>\n",
       "      <td>NaN</td>\n",
       "      <td>1.0</td>\n",
       "      <td>Tl8KrwulsB</td>\n",
       "      <td>NaN</td>\n",
       "      <td>NaN</td>\n",
       "      <td>NaN</td>\n",
       "      <td>NaN</td>\n",
       "    </tr>\n",
       "  </tbody>\n",
       "</table>\n",
       "<p>319376 rows × 11 columns</p>\n",
       "</div>"
      ],
      "text/plain": [
       "           node_id  Label  Revenue Size Flag Account ID String Address  \\\n",
       "0          1502000      1                4.0        RvIOFQqK0E     NaN   \n",
       "1          1502001      1                2.0        cSnM0hVDsm     NaN   \n",
       "2          1502002      1                2.0        WAQWpZi4AD     NaN   \n",
       "3          1502003      1                4.0        n5J9mBTeZc     NaN   \n",
       "4          1502004      1                2.0        qxlAEuUm7P     NaN   \n",
       "...            ...    ...                ...               ...     ...   \n",
       "319371  3001177742      5                NaN               NaN     NaN   \n",
       "319372  3001177743      5                NaN               NaN     NaN   \n",
       "319373  3001177744      5                NaN               NaN     NaN   \n",
       "319374  3001177745      5                NaN               NaN     NaN   \n",
       "319375  3001177746      5                NaN               NaN     NaN   \n",
       "\n",
       "        Person or Organisation        Name  Income Size Flag  CoreCaseGraphID  \\\n",
       "0                          NaN         NaN               NaN              NaN   \n",
       "1                          NaN         NaN               NaN              NaN   \n",
       "2                          NaN         NaN               NaN           2492.0   \n",
       "3                          NaN         NaN               NaN              NaN   \n",
       "4                          NaN         NaN               NaN              NaN   \n",
       "...                        ...         ...               ...              ...   \n",
       "319371                     2.0  gqDyJLC8DS               NaN              NaN   \n",
       "319372                     1.0  B5TdCmIf69               NaN              NaN   \n",
       "319373                     2.0  izrJE4sDpr               NaN              NaN   \n",
       "319374                     1.0  TKQfFZ3fkk               NaN              NaN   \n",
       "319375                     1.0  Tl8KrwulsB               NaN              NaN   \n",
       "\n",
       "        ExtendedCaseGraphID  testingFlag  \n",
       "0                       NaN          NaN  \n",
       "1                       NaN          NaN  \n",
       "2                       NaN          0.0  \n",
       "3                       NaN          NaN  \n",
       "4                       NaN          NaN  \n",
       "...                     ...          ...  \n",
       "319371                  NaN          NaN  \n",
       "319372                  NaN          NaN  \n",
       "319373                  NaN          NaN  \n",
       "319374               2030.0          0.0  \n",
       "319375                  NaN          NaN  \n",
       "\n",
       "[319376 rows x 11 columns]"
      ]
     },
     "execution_count": 86,
     "metadata": {},
     "output_type": "execute_result"
    }
   ],
   "source": [
    "cat_df"
   ]
  },
  {
   "cell_type": "markdown",
   "metadata": {},
   "source": [
    "## Removing NaN values from Revenue Size, Person or Org, Income Size:"
   ]
  },
  {
   "cell_type": "code",
   "execution_count": 87,
   "metadata": {},
   "outputs": [],
   "source": [
    "cat_df['Revenue Size Flag'] = cat_df['Revenue Size Flag'].fillna(-1)\n",
    "cat_df['Person or Organisation'] = cat_df['Person or Organisation'].fillna(-1)\n",
    "cat_df['Income Size Flag'] = cat_df['Income Size Flag'].fillna(-1)"
   ]
  },
  {
   "cell_type": "markdown",
   "metadata": {},
   "source": [
    "Some considerations:\n",
    "\n",
    "For 'Person or Organisation' I could use one-hot encoding with LabelBinarizer since there are only 3 possibilities for the category: Person, Organisation, Missing. This could solve a problem where unequal weights are given to categories within a single feature.\n",
    "\n",
    "While one-hot encoding solves the problem of unequal weights given to categories within a feature, it is not very useful when there are many categories, as that will result in formation of as many new columns, which can result in the curse of dimensionality."
   ]
  },
  {
   "cell_type": "code",
   "execution_count": 88,
   "metadata": {
    "scrolled": false
   },
   "outputs": [
    {
     "data": {
      "text/html": [
       "<div>\n",
       "<style scoped>\n",
       "    .dataframe tbody tr th:only-of-type {\n",
       "        vertical-align: middle;\n",
       "    }\n",
       "\n",
       "    .dataframe tbody tr th {\n",
       "        vertical-align: top;\n",
       "    }\n",
       "\n",
       "    .dataframe thead th {\n",
       "        text-align: right;\n",
       "    }\n",
       "</style>\n",
       "<table border=\"1\" class=\"dataframe\">\n",
       "  <thead>\n",
       "    <tr style=\"text-align: right;\">\n",
       "      <th></th>\n",
       "      <th>node_id</th>\n",
       "      <th>Label</th>\n",
       "      <th>Revenue Size Flag</th>\n",
       "      <th>Account ID String</th>\n",
       "      <th>Address</th>\n",
       "      <th>Person or Organisation</th>\n",
       "      <th>Name</th>\n",
       "      <th>Income Size Flag</th>\n",
       "      <th>CoreCaseGraphID</th>\n",
       "      <th>ExtendedCaseGraphID</th>\n",
       "      <th>testingFlag</th>\n",
       "    </tr>\n",
       "  </thead>\n",
       "  <tbody>\n",
       "    <tr>\n",
       "      <th>0</th>\n",
       "      <td>1502000</td>\n",
       "      <td>1</td>\n",
       "      <td>4.0</td>\n",
       "      <td>RvIOFQqK0E</td>\n",
       "      <td>NaN</td>\n",
       "      <td>-1.0</td>\n",
       "      <td>NaN</td>\n",
       "      <td>-1.0</td>\n",
       "      <td>NaN</td>\n",
       "      <td>NaN</td>\n",
       "      <td>NaN</td>\n",
       "    </tr>\n",
       "    <tr>\n",
       "      <th>1</th>\n",
       "      <td>1502001</td>\n",
       "      <td>1</td>\n",
       "      <td>2.0</td>\n",
       "      <td>cSnM0hVDsm</td>\n",
       "      <td>NaN</td>\n",
       "      <td>-1.0</td>\n",
       "      <td>NaN</td>\n",
       "      <td>-1.0</td>\n",
       "      <td>NaN</td>\n",
       "      <td>NaN</td>\n",
       "      <td>NaN</td>\n",
       "    </tr>\n",
       "    <tr>\n",
       "      <th>2</th>\n",
       "      <td>1502002</td>\n",
       "      <td>1</td>\n",
       "      <td>2.0</td>\n",
       "      <td>WAQWpZi4AD</td>\n",
       "      <td>NaN</td>\n",
       "      <td>-1.0</td>\n",
       "      <td>NaN</td>\n",
       "      <td>-1.0</td>\n",
       "      <td>2492.0</td>\n",
       "      <td>NaN</td>\n",
       "      <td>0.0</td>\n",
       "    </tr>\n",
       "    <tr>\n",
       "      <th>3</th>\n",
       "      <td>1502003</td>\n",
       "      <td>1</td>\n",
       "      <td>4.0</td>\n",
       "      <td>n5J9mBTeZc</td>\n",
       "      <td>NaN</td>\n",
       "      <td>-1.0</td>\n",
       "      <td>NaN</td>\n",
       "      <td>-1.0</td>\n",
       "      <td>NaN</td>\n",
       "      <td>NaN</td>\n",
       "      <td>NaN</td>\n",
       "    </tr>\n",
       "    <tr>\n",
       "      <th>4</th>\n",
       "      <td>1502004</td>\n",
       "      <td>1</td>\n",
       "      <td>2.0</td>\n",
       "      <td>qxlAEuUm7P</td>\n",
       "      <td>NaN</td>\n",
       "      <td>-1.0</td>\n",
       "      <td>NaN</td>\n",
       "      <td>-1.0</td>\n",
       "      <td>NaN</td>\n",
       "      <td>NaN</td>\n",
       "      <td>NaN</td>\n",
       "    </tr>\n",
       "    <tr>\n",
       "      <th>...</th>\n",
       "      <td>...</td>\n",
       "      <td>...</td>\n",
       "      <td>...</td>\n",
       "      <td>...</td>\n",
       "      <td>...</td>\n",
       "      <td>...</td>\n",
       "      <td>...</td>\n",
       "      <td>...</td>\n",
       "      <td>...</td>\n",
       "      <td>...</td>\n",
       "      <td>...</td>\n",
       "    </tr>\n",
       "    <tr>\n",
       "      <th>319371</th>\n",
       "      <td>3001177742</td>\n",
       "      <td>5</td>\n",
       "      <td>-1.0</td>\n",
       "      <td>NaN</td>\n",
       "      <td>NaN</td>\n",
       "      <td>2.0</td>\n",
       "      <td>gqDyJLC8DS</td>\n",
       "      <td>-1.0</td>\n",
       "      <td>NaN</td>\n",
       "      <td>NaN</td>\n",
       "      <td>NaN</td>\n",
       "    </tr>\n",
       "    <tr>\n",
       "      <th>319372</th>\n",
       "      <td>3001177743</td>\n",
       "      <td>5</td>\n",
       "      <td>-1.0</td>\n",
       "      <td>NaN</td>\n",
       "      <td>NaN</td>\n",
       "      <td>1.0</td>\n",
       "      <td>B5TdCmIf69</td>\n",
       "      <td>-1.0</td>\n",
       "      <td>NaN</td>\n",
       "      <td>NaN</td>\n",
       "      <td>NaN</td>\n",
       "    </tr>\n",
       "    <tr>\n",
       "      <th>319373</th>\n",
       "      <td>3001177744</td>\n",
       "      <td>5</td>\n",
       "      <td>-1.0</td>\n",
       "      <td>NaN</td>\n",
       "      <td>NaN</td>\n",
       "      <td>2.0</td>\n",
       "      <td>izrJE4sDpr</td>\n",
       "      <td>-1.0</td>\n",
       "      <td>NaN</td>\n",
       "      <td>NaN</td>\n",
       "      <td>NaN</td>\n",
       "    </tr>\n",
       "    <tr>\n",
       "      <th>319374</th>\n",
       "      <td>3001177745</td>\n",
       "      <td>5</td>\n",
       "      <td>-1.0</td>\n",
       "      <td>NaN</td>\n",
       "      <td>NaN</td>\n",
       "      <td>1.0</td>\n",
       "      <td>TKQfFZ3fkk</td>\n",
       "      <td>-1.0</td>\n",
       "      <td>NaN</td>\n",
       "      <td>2030.0</td>\n",
       "      <td>0.0</td>\n",
       "    </tr>\n",
       "    <tr>\n",
       "      <th>319375</th>\n",
       "      <td>3001177746</td>\n",
       "      <td>5</td>\n",
       "      <td>-1.0</td>\n",
       "      <td>NaN</td>\n",
       "      <td>NaN</td>\n",
       "      <td>1.0</td>\n",
       "      <td>Tl8KrwulsB</td>\n",
       "      <td>-1.0</td>\n",
       "      <td>NaN</td>\n",
       "      <td>NaN</td>\n",
       "      <td>NaN</td>\n",
       "    </tr>\n",
       "  </tbody>\n",
       "</table>\n",
       "<p>319376 rows × 11 columns</p>\n",
       "</div>"
      ],
      "text/plain": [
       "           node_id  Label  Revenue Size Flag Account ID String Address  \\\n",
       "0          1502000      1                4.0        RvIOFQqK0E     NaN   \n",
       "1          1502001      1                2.0        cSnM0hVDsm     NaN   \n",
       "2          1502002      1                2.0        WAQWpZi4AD     NaN   \n",
       "3          1502003      1                4.0        n5J9mBTeZc     NaN   \n",
       "4          1502004      1                2.0        qxlAEuUm7P     NaN   \n",
       "...            ...    ...                ...               ...     ...   \n",
       "319371  3001177742      5               -1.0               NaN     NaN   \n",
       "319372  3001177743      5               -1.0               NaN     NaN   \n",
       "319373  3001177744      5               -1.0               NaN     NaN   \n",
       "319374  3001177745      5               -1.0               NaN     NaN   \n",
       "319375  3001177746      5               -1.0               NaN     NaN   \n",
       "\n",
       "        Person or Organisation        Name  Income Size Flag  CoreCaseGraphID  \\\n",
       "0                         -1.0         NaN              -1.0              NaN   \n",
       "1                         -1.0         NaN              -1.0              NaN   \n",
       "2                         -1.0         NaN              -1.0           2492.0   \n",
       "3                         -1.0         NaN              -1.0              NaN   \n",
       "4                         -1.0         NaN              -1.0              NaN   \n",
       "...                        ...         ...               ...              ...   \n",
       "319371                     2.0  gqDyJLC8DS              -1.0              NaN   \n",
       "319372                     1.0  B5TdCmIf69              -1.0              NaN   \n",
       "319373                     2.0  izrJE4sDpr              -1.0              NaN   \n",
       "319374                     1.0  TKQfFZ3fkk              -1.0              NaN   \n",
       "319375                     1.0  Tl8KrwulsB              -1.0              NaN   \n",
       "\n",
       "        ExtendedCaseGraphID  testingFlag  \n",
       "0                       NaN          NaN  \n",
       "1                       NaN          NaN  \n",
       "2                       NaN          0.0  \n",
       "3                       NaN          NaN  \n",
       "4                       NaN          NaN  \n",
       "...                     ...          ...  \n",
       "319371                  NaN          NaN  \n",
       "319372                  NaN          NaN  \n",
       "319373                  NaN          NaN  \n",
       "319374               2030.0          0.0  \n",
       "319375                  NaN          NaN  \n",
       "\n",
       "[319376 rows x 11 columns]"
      ]
     },
     "execution_count": 88,
     "metadata": {},
     "output_type": "execute_result"
    }
   ],
   "source": [
    "cat_df"
   ]
  },
  {
   "cell_type": "markdown",
   "metadata": {},
   "source": [
    "## The last features left: Account ID, Address and Name"
   ]
  },
  {
   "cell_type": "markdown",
   "metadata": {},
   "source": [
    "### Account ID String"
   ]
  },
  {
   "cell_type": "code",
   "execution_count": 89,
   "metadata": {},
   "outputs": [
    {
     "data": {
      "text/plain": [
       "177500"
      ]
     },
     "execution_count": 89,
     "metadata": {},
     "output_type": "execute_result"
    }
   ],
   "source": [
    "cat_df['Account ID String'].isna().sum()"
   ]
  },
  {
   "cell_type": "markdown",
   "metadata": {},
   "source": [
    "It looks like there are a lot of NaN values for Account ID String.\n",
    "\n",
    "From data exploration, I know that a missing account ID is related to being in a case.\n",
    "This is why I cannot simply eliminate or interpolate new values for NaN for this column.\n",
    "\n",
    "This kind of data is called MNAR: Missing not at random.\n",
    "\n",
    "There isn't a perfect way to solve this problem. My first approach is to create a new \"missing\" category and replace NaN values this way. This does create a new problem which is class imbalance, but I'll deal with it later."
   ]
  },
  {
   "cell_type": "code",
   "execution_count": 90,
   "metadata": {},
   "outputs": [],
   "source": [
    "no_nan = cat_df.copy()"
   ]
  },
  {
   "cell_type": "code",
   "execution_count": 91,
   "metadata": {},
   "outputs": [],
   "source": [
    "no_nan['Account ID String'] = no_nan['Account ID String'].fillna('missing')"
   ]
  },
  {
   "cell_type": "code",
   "execution_count": 92,
   "metadata": {},
   "outputs": [
    {
     "data": {
      "text/plain": [
       "missing       177500\n",
       "rGpN4wBi8r         1\n",
       "lq7a76eQXI         1\n",
       "peRdqoLxDY         1\n",
       "G9dTdIjP2w         1\n",
       "               ...  \n",
       "VL7Lp4d5JQ         1\n",
       "H0NnmifZdk         1\n",
       "PIKHf6QspI         1\n",
       "uU6yOI9ShR         1\n",
       "MQap7NyGEU         1\n",
       "Name: Account ID String, Length: 141877, dtype: int64"
      ]
     },
     "execution_count": 92,
     "metadata": {},
     "output_type": "execute_result"
    }
   ],
   "source": [
    "no_nan['Account ID String'].value_counts()"
   ]
  },
  {
   "cell_type": "markdown",
   "metadata": {},
   "source": [
    "### Address"
   ]
  },
  {
   "cell_type": "code",
   "execution_count": 93,
   "metadata": {
    "scrolled": true
   },
   "outputs": [
    {
     "data": {
      "text/plain": [
       "289376"
      ]
     },
     "execution_count": 93,
     "metadata": {},
     "output_type": "execute_result"
    }
   ],
   "source": [
    "cat_df['Address'].isna().sum()"
   ]
  },
  {
   "cell_type": "code",
   "execution_count": 94,
   "metadata": {},
   "outputs": [
    {
     "data": {
      "text/plain": [
       "missing       289376\n",
       "ac2AOsg5AW         1\n",
       "3WCbAp14cr         1\n",
       "zC9AZbKm8E         1\n",
       "6dqQWrzJSA         1\n",
       "               ...  \n",
       "VEQWFP58Ju         1\n",
       "BI6OE53T7P         1\n",
       "EwVk5tu43C         1\n",
       "KSs4NklHt6         1\n",
       "J452rn52K0         1\n",
       "Name: Address, Length: 30001, dtype: int64"
      ]
     },
     "execution_count": 94,
     "metadata": {},
     "output_type": "execute_result"
    }
   ],
   "source": [
    "# same thing as Account ID... with even more NaN values\n",
    "\n",
    "no_nan['Address'] = no_nan['Address'].fillna('missing')\n",
    "no_nan['Address'].value_counts()"
   ]
  },
  {
   "cell_type": "markdown",
   "metadata": {},
   "source": [
    "### Name"
   ]
  },
  {
   "cell_type": "code",
   "execution_count": 95,
   "metadata": {},
   "outputs": [
    {
     "name": "stdout",
     "output_type": "stream",
     "text": [
      "Nodes with no name: 171876 -> 53.81619157356846%\n"
     ]
    }
   ],
   "source": [
    "print(f\"Nodes with no name: {cat_df['Name'].isna().sum()} -> {cat_df['Name'].isna().sum()/cat_df.shape[0]*100}%\")"
   ]
  },
  {
   "cell_type": "markdown",
   "metadata": {},
   "source": [
    "Name is perhaps the most interesting feature of this dataset. \n",
    "From EDA, it looks like a lot of names are missing, and a lot of names are unreadable strings.\n",
    "As it turns out, most of the names with a CoreCaseGraphID have an unreadable name.\n",
    "\n",
    "This is why I can't ignore the Name column. It has implicit useful information about the cases.\n",
    "\n",
    "There are a lot of strategies to handle this. As a first attempt, I will just keep all names and add a 'missing' column as I did for Account ID and Address.\n",
    "\n",
    "A good strategy might be to use a model to evaluate if 'Name' is 'readable' vs if it's just a random string. Then I could add a column like 'Is readable' True or False"
   ]
  },
  {
   "cell_type": "code",
   "execution_count": 96,
   "metadata": {
    "scrolled": false
   },
   "outputs": [
    {
     "data": {
      "text/plain": [
       "missing           171876\n",
       "THE BEARER          1377\n",
       "BEARER                33\n",
       "FORMIA LIMITED        30\n",
       "The Bearer            29\n",
       "                   ...  \n",
       "QeajVKZWhR             1\n",
       "jBYOAxtHtq             1\n",
       "WEg7ke7fS9             1\n",
       "Zhu Shuang Yan         1\n",
       "BKENDZNSTT             1\n",
       "Name: Name, Length: 143487, dtype: int64"
      ]
     },
     "execution_count": 96,
     "metadata": {},
     "output_type": "execute_result"
    }
   ],
   "source": [
    "# First attempt: create 'missing' name:\n",
    "\n",
    "no_nan['Name'] = no_nan['Name'].fillna('missing')\n",
    "no_nan['Name'].value_counts()"
   ]
  },
  {
   "cell_type": "markdown",
   "metadata": {},
   "source": [
    "## Removing NaN values from CoreCaseGraphID & ExtendedCaseGraphID"
   ]
  },
  {
   "cell_type": "markdown",
   "metadata": {},
   "source": [
    "This is a little more delicate.\n",
    "\n",
    "First attempt: just fillna(0)\n",
    "\n",
    "Note: the field testingFlag can contain NaNs because I will drop the column while creating train/test split."
   ]
  },
  {
   "cell_type": "code",
   "execution_count": 104,
   "metadata": {},
   "outputs": [],
   "source": [
    "no_nan['CoreCaseGraphID'] = no_nan['CoreCaseGraphID'].fillna(0)\n",
    "no_nan['ExtendedCaseGraphID'] = no_nan['ExtendedCaseGraphID'].fillna(0)"
   ]
  },
  {
   "cell_type": "code",
   "execution_count": 105,
   "metadata": {
    "scrolled": false
   },
   "outputs": [
    {
     "data": {
      "text/html": [
       "<div>\n",
       "<style scoped>\n",
       "    .dataframe tbody tr th:only-of-type {\n",
       "        vertical-align: middle;\n",
       "    }\n",
       "\n",
       "    .dataframe tbody tr th {\n",
       "        vertical-align: top;\n",
       "    }\n",
       "\n",
       "    .dataframe thead th {\n",
       "        text-align: right;\n",
       "    }\n",
       "</style>\n",
       "<table border=\"1\" class=\"dataframe\">\n",
       "  <thead>\n",
       "    <tr style=\"text-align: right;\">\n",
       "      <th></th>\n",
       "      <th>node_id</th>\n",
       "      <th>Label</th>\n",
       "      <th>Revenue Size Flag</th>\n",
       "      <th>Account ID String</th>\n",
       "      <th>Address</th>\n",
       "      <th>Person or Organisation</th>\n",
       "      <th>Name</th>\n",
       "      <th>Income Size Flag</th>\n",
       "      <th>CoreCaseGraphID</th>\n",
       "      <th>ExtendedCaseGraphID</th>\n",
       "      <th>testingFlag</th>\n",
       "    </tr>\n",
       "  </thead>\n",
       "  <tbody>\n",
       "    <tr>\n",
       "      <th>0</th>\n",
       "      <td>1502000</td>\n",
       "      <td>1</td>\n",
       "      <td>4</td>\n",
       "      <td>RvIOFQqK0E</td>\n",
       "      <td>missing</td>\n",
       "      <td>-1</td>\n",
       "      <td>missing</td>\n",
       "      <td>-1</td>\n",
       "      <td>0.0</td>\n",
       "      <td>0.0</td>\n",
       "      <td>NaN</td>\n",
       "    </tr>\n",
       "    <tr>\n",
       "      <th>1</th>\n",
       "      <td>1502001</td>\n",
       "      <td>1</td>\n",
       "      <td>2</td>\n",
       "      <td>cSnM0hVDsm</td>\n",
       "      <td>missing</td>\n",
       "      <td>-1</td>\n",
       "      <td>missing</td>\n",
       "      <td>-1</td>\n",
       "      <td>0.0</td>\n",
       "      <td>0.0</td>\n",
       "      <td>NaN</td>\n",
       "    </tr>\n",
       "    <tr>\n",
       "      <th>2</th>\n",
       "      <td>1502002</td>\n",
       "      <td>1</td>\n",
       "      <td>2</td>\n",
       "      <td>WAQWpZi4AD</td>\n",
       "      <td>missing</td>\n",
       "      <td>-1</td>\n",
       "      <td>missing</td>\n",
       "      <td>-1</td>\n",
       "      <td>2492.0</td>\n",
       "      <td>0.0</td>\n",
       "      <td>0.0</td>\n",
       "    </tr>\n",
       "    <tr>\n",
       "      <th>3</th>\n",
       "      <td>1502003</td>\n",
       "      <td>1</td>\n",
       "      <td>4</td>\n",
       "      <td>n5J9mBTeZc</td>\n",
       "      <td>missing</td>\n",
       "      <td>-1</td>\n",
       "      <td>missing</td>\n",
       "      <td>-1</td>\n",
       "      <td>0.0</td>\n",
       "      <td>0.0</td>\n",
       "      <td>NaN</td>\n",
       "    </tr>\n",
       "    <tr>\n",
       "      <th>4</th>\n",
       "      <td>1502004</td>\n",
       "      <td>1</td>\n",
       "      <td>2</td>\n",
       "      <td>qxlAEuUm7P</td>\n",
       "      <td>missing</td>\n",
       "      <td>-1</td>\n",
       "      <td>missing</td>\n",
       "      <td>-1</td>\n",
       "      <td>0.0</td>\n",
       "      <td>0.0</td>\n",
       "      <td>NaN</td>\n",
       "    </tr>\n",
       "    <tr>\n",
       "      <th>...</th>\n",
       "      <td>...</td>\n",
       "      <td>...</td>\n",
       "      <td>...</td>\n",
       "      <td>...</td>\n",
       "      <td>...</td>\n",
       "      <td>...</td>\n",
       "      <td>...</td>\n",
       "      <td>...</td>\n",
       "      <td>...</td>\n",
       "      <td>...</td>\n",
       "      <td>...</td>\n",
       "    </tr>\n",
       "    <tr>\n",
       "      <th>319371</th>\n",
       "      <td>3001177742</td>\n",
       "      <td>5</td>\n",
       "      <td>-1</td>\n",
       "      <td>missing</td>\n",
       "      <td>missing</td>\n",
       "      <td>2</td>\n",
       "      <td>gqDyJLC8DS</td>\n",
       "      <td>-1</td>\n",
       "      <td>0.0</td>\n",
       "      <td>0.0</td>\n",
       "      <td>NaN</td>\n",
       "    </tr>\n",
       "    <tr>\n",
       "      <th>319372</th>\n",
       "      <td>3001177743</td>\n",
       "      <td>5</td>\n",
       "      <td>-1</td>\n",
       "      <td>missing</td>\n",
       "      <td>missing</td>\n",
       "      <td>1</td>\n",
       "      <td>B5TdCmIf69</td>\n",
       "      <td>-1</td>\n",
       "      <td>0.0</td>\n",
       "      <td>0.0</td>\n",
       "      <td>NaN</td>\n",
       "    </tr>\n",
       "    <tr>\n",
       "      <th>319373</th>\n",
       "      <td>3001177744</td>\n",
       "      <td>5</td>\n",
       "      <td>-1</td>\n",
       "      <td>missing</td>\n",
       "      <td>missing</td>\n",
       "      <td>2</td>\n",
       "      <td>izrJE4sDpr</td>\n",
       "      <td>-1</td>\n",
       "      <td>0.0</td>\n",
       "      <td>0.0</td>\n",
       "      <td>NaN</td>\n",
       "    </tr>\n",
       "    <tr>\n",
       "      <th>319374</th>\n",
       "      <td>3001177745</td>\n",
       "      <td>5</td>\n",
       "      <td>-1</td>\n",
       "      <td>missing</td>\n",
       "      <td>missing</td>\n",
       "      <td>1</td>\n",
       "      <td>TKQfFZ3fkk</td>\n",
       "      <td>-1</td>\n",
       "      <td>0.0</td>\n",
       "      <td>2030.0</td>\n",
       "      <td>0.0</td>\n",
       "    </tr>\n",
       "    <tr>\n",
       "      <th>319375</th>\n",
       "      <td>3001177746</td>\n",
       "      <td>5</td>\n",
       "      <td>-1</td>\n",
       "      <td>missing</td>\n",
       "      <td>missing</td>\n",
       "      <td>1</td>\n",
       "      <td>Tl8KrwulsB</td>\n",
       "      <td>-1</td>\n",
       "      <td>0.0</td>\n",
       "      <td>0.0</td>\n",
       "      <td>NaN</td>\n",
       "    </tr>\n",
       "  </tbody>\n",
       "</table>\n",
       "<p>319376 rows × 11 columns</p>\n",
       "</div>"
      ],
      "text/plain": [
       "           node_id  Label  Revenue Size Flag Account ID String  Address  \\\n",
       "0          1502000      1                  4        RvIOFQqK0E  missing   \n",
       "1          1502001      1                  2        cSnM0hVDsm  missing   \n",
       "2          1502002      1                  2        WAQWpZi4AD  missing   \n",
       "3          1502003      1                  4        n5J9mBTeZc  missing   \n",
       "4          1502004      1                  2        qxlAEuUm7P  missing   \n",
       "...            ...    ...                ...               ...      ...   \n",
       "319371  3001177742      5                 -1           missing  missing   \n",
       "319372  3001177743      5                 -1           missing  missing   \n",
       "319373  3001177744      5                 -1           missing  missing   \n",
       "319374  3001177745      5                 -1           missing  missing   \n",
       "319375  3001177746      5                 -1           missing  missing   \n",
       "\n",
       "        Person or Organisation        Name  Income Size Flag  CoreCaseGraphID  \\\n",
       "0                           -1     missing                -1              0.0   \n",
       "1                           -1     missing                -1              0.0   \n",
       "2                           -1     missing                -1           2492.0   \n",
       "3                           -1     missing                -1              0.0   \n",
       "4                           -1     missing                -1              0.0   \n",
       "...                        ...         ...               ...              ...   \n",
       "319371                       2  gqDyJLC8DS                -1              0.0   \n",
       "319372                       1  B5TdCmIf69                -1              0.0   \n",
       "319373                       2  izrJE4sDpr                -1              0.0   \n",
       "319374                       1  TKQfFZ3fkk                -1              0.0   \n",
       "319375                       1  Tl8KrwulsB                -1              0.0   \n",
       "\n",
       "        ExtendedCaseGraphID  testingFlag  \n",
       "0                       0.0          NaN  \n",
       "1                       0.0          NaN  \n",
       "2                       0.0          0.0  \n",
       "3                       0.0          NaN  \n",
       "4                       0.0          NaN  \n",
       "...                     ...          ...  \n",
       "319371                  0.0          NaN  \n",
       "319372                  0.0          NaN  \n",
       "319373                  0.0          NaN  \n",
       "319374               2030.0          0.0  \n",
       "319375                  0.0          NaN  \n",
       "\n",
       "[319376 rows x 11 columns]"
      ]
     },
     "execution_count": 105,
     "metadata": {},
     "output_type": "execute_result"
    }
   ],
   "source": [
    "no_nan"
   ]
  },
  {
   "cell_type": "code",
   "execution_count": 106,
   "metadata": {
    "scrolled": true
   },
   "outputs": [
    {
     "data": {
      "text/plain": [
       "node_id                        0\n",
       "Label                          0\n",
       "Revenue Size Flag              0\n",
       "Account ID String              0\n",
       "Address                        0\n",
       "Person or Organisation         0\n",
       "Name                           0\n",
       "Income Size Flag               0\n",
       "CoreCaseGraphID                0\n",
       "ExtendedCaseGraphID            0\n",
       "testingFlag               279915\n",
       "dtype: int64"
      ]
     },
     "execution_count": 106,
     "metadata": {},
     "output_type": "execute_result"
    }
   ],
   "source": [
    "no_nan.isna().sum()"
   ]
  },
  {
   "cell_type": "markdown",
   "metadata": {},
   "source": [
    "## Change data types"
   ]
  },
  {
   "cell_type": "code",
   "execution_count": 107,
   "metadata": {},
   "outputs": [
    {
     "data": {
      "text/plain": [
       "node_id                     int64\n",
       "Label                       int64\n",
       "Revenue Size Flag           int64\n",
       "Account ID String          object\n",
       "Address                    object\n",
       "Person or Organisation      int64\n",
       "Name                       object\n",
       "Income Size Flag            int64\n",
       "CoreCaseGraphID           float64\n",
       "ExtendedCaseGraphID       float64\n",
       "testingFlag               float64\n",
       "dtype: object"
      ]
     },
     "execution_count": 107,
     "metadata": {},
     "output_type": "execute_result"
    }
   ],
   "source": [
    "no_nan.dtypes"
   ]
  },
  {
   "cell_type": "code",
   "execution_count": 110,
   "metadata": {},
   "outputs": [],
   "source": [
    "no_nan['Revenue Size Flag'] = no_nan['Revenue Size Flag'].astype('int64')\n",
    "no_nan['Person or Organisation'] = no_nan['Person or Organisation'].astype('int64')\n",
    "no_nan['Income Size Flag'] = no_nan['Income Size Flag'].astype('int64')\n",
    "\n",
    "no_nan['CoreCaseGraphID'] = no_nan['CoreCaseGraphID'].astype('int64')\n",
    "no_nan['ExtendedCaseGraphID'] = no_nan['ExtendedCaseGraphID'].astype('int64')"
   ]
  },
  {
   "cell_type": "code",
   "execution_count": 111,
   "metadata": {
    "scrolled": true
   },
   "outputs": [
    {
     "data": {
      "text/plain": [
       "node_id                     int64\n",
       "Label                       int64\n",
       "Revenue Size Flag           int64\n",
       "Account ID String          object\n",
       "Address                    object\n",
       "Person or Organisation      int64\n",
       "Name                       object\n",
       "Income Size Flag            int64\n",
       "CoreCaseGraphID             int64\n",
       "ExtendedCaseGraphID         int64\n",
       "testingFlag               float64\n",
       "dtype: object"
      ]
     },
     "execution_count": 111,
     "metadata": {},
     "output_type": "execute_result"
    }
   ],
   "source": [
    "no_nan.dtypes"
   ]
  },
  {
   "cell_type": "markdown",
   "metadata": {},
   "source": [
    "## Export new data"
   ]
  },
  {
   "cell_type": "code",
   "execution_count": 112,
   "metadata": {},
   "outputs": [],
   "source": [
    "def write_csv_df(path, filename, df):\n",
    "    pathfile = os.path.normpath(os.path.join(path,filename))\n",
    "    files_present = os.path.isfile(pathfile) \n",
    "    if not files_present:\n",
    "        df.to_csv(pathfile, encoding='utf-8', index=False)\n",
    "    else:\n",
    "        overwrite = input(\"WARNING: \" + pathfile + \" already exists! Do you want to overwrite <y/n>? \\n \")\n",
    "        if overwrite == 'y':\n",
    "            df.to_csv(pathfile, encoding='utf-8', index=False)\n",
    "        elif overwrite == 'n':\n",
    "            new_filename = input(\"Type new filename: \\n \")\n",
    "            write_csv_df(path,new_filename,df)\n",
    "        else:\n",
    "            print (\"Not a valid input. Data is NOT saved!\\n\")"
   ]
  },
  {
   "cell_type": "code",
   "execution_count": 113,
   "metadata": {},
   "outputs": [
    {
     "name": "stdout",
     "output_type": "stream",
     "text": [
      "WARNING: ../data/raw/no_nan_data.csv already exists! Do you want to overwrite <y/n>? \n",
      " y\n"
     ]
    }
   ],
   "source": [
    "write_csv_df(\"../data/raw\", \"no_nan_data.csv\", no_nan)"
   ]
  },
  {
   "cell_type": "code",
   "execution_count": null,
   "metadata": {},
   "outputs": [],
   "source": []
  }
 ],
 "metadata": {
  "kernelspec": {
   "display_name": "Python 3",
   "language": "python",
   "name": "python3"
  },
  "language_info": {
   "codemirror_mode": {
    "name": "ipython",
    "version": 3
   },
   "file_extension": ".py",
   "mimetype": "text/x-python",
   "name": "python",
   "nbconvert_exporter": "python",
   "pygments_lexer": "ipython3",
   "version": "3.8.2"
  }
 },
 "nbformat": 4,
 "nbformat_minor": 4
}
