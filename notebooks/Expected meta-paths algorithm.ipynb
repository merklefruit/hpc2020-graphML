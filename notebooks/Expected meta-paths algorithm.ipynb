{
 "cells": [
  {
   "cell_type": "markdown",
   "metadata": {},
   "source": [
    "# Expected Meta-paths"
   ]
  },
  {
   "cell_type": "code",
   "execution_count": 1,
   "metadata": {},
   "outputs": [],
   "source": [
    "# If the meta-paths method will work, try to find the meta-paths for this graph.\n",
    "\n",
    "# Simple algorithm to extract expected metapaths:\n",
    "\n",
    "# 1. take a sample from the nodes\n",
    "# 2. select nodes with a single label (ex. 'Account')\n",
    "# 3. filter edges that have the 'from_id' field set to a node in step 2\n",
    "# 4. read all the 'to_id' field of those edges\n",
    "# 5. get the 'Label' of the nodes with node_id = to_id of step 4\n",
    "# 6. rank the Labels found, to see what are the most common connections\n",
    "# 7. do this for every node 'Label' possible (=5 times)\n",
    "# 8. try to build 2, 3 or 4 steps walks using these metapaths \"by hand\"\n",
    "\n",
    "# extra:\n",
    "# 9. maybe find an algorithm to perform walks based on metapaths (metapath2vec?)\n",
    "# 10. use other methods to extract meta paths from label frequencies of step 7"
   ]
  },
  {
   "cell_type": "code",
   "execution_count": null,
   "metadata": {},
   "outputs": [],
   "source": []
  }
 ],
 "metadata": {
  "kernelspec": {
   "display_name": "Python 3",
   "language": "python",
   "name": "python3"
  },
  "language_info": {
   "codemirror_mode": {
    "name": "ipython",
    "version": 3
   },
   "file_extension": ".py",
   "mimetype": "text/x-python",
   "name": "python",
   "nbconvert_exporter": "python",
   "pygments_lexer": "ipython3",
   "version": "3.8.2"
  }
 },
 "nbformat": 4,
 "nbformat_minor": 4
}
