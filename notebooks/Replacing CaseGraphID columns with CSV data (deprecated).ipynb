{
 "cells": [
  {
   "cell_type": "code",
   "execution_count": 1,
   "metadata": {},
   "outputs": [],
   "source": [
    "import pandas as pd\n",
    "import numpy as np\n",
    "import time\n",
    "import sys\n",
    "from collections import defaultdict\n",
    "\n",
    "import stellargraph as sg"
   ]
  },
  {
   "cell_type": "code",
   "execution_count": 2,
   "metadata": {},
   "outputs": [],
   "source": [
    "sys.path.append('../')\n",
    "import utils"
   ]
  },
  {
   "cell_type": "code",
   "execution_count": 3,
   "metadata": {},
   "outputs": [
    {
     "name": "stdout",
     "output_type": "stream",
     "text": [
      "Dataset already downloaded. Loading it from file system\n",
      "LOADING DATA: 0.93 s\n"
     ]
    }
   ],
   "source": [
    "v, e, core_ID, ext_ID, core_test_ID = utils.load_for_jupyter_raw()"
   ]
  },
  {
   "cell_type": "code",
   "execution_count": 4,
   "metadata": {},
   "outputs": [
    {
     "data": {
      "text/plain": [
       "(8054, 1)"
      ]
     },
     "execution_count": 4,
     "metadata": {},
     "output_type": "execute_result"
    }
   ],
   "source": [
    "core_ID.shape"
   ]
  },
  {
   "cell_type": "code",
   "execution_count": 5,
   "metadata": {},
   "outputs": [
    {
     "data": {
      "text/plain": [
       "(32438, 1)"
      ]
     },
     "execution_count": 5,
     "metadata": {},
     "output_type": "execute_result"
    }
   ],
   "source": [
    "ext_ID.shape"
   ]
  },
  {
   "cell_type": "code",
   "execution_count": 6,
   "metadata": {},
   "outputs": [
    {
     "data": {
      "text/plain": [
       "(32438, 1)"
      ]
     },
     "execution_count": 6,
     "metadata": {},
     "output_type": "execute_result"
    }
   ],
   "source": [
    "core_test_ID.shape"
   ]
  },
  {
   "cell_type": "code",
   "execution_count": 32,
   "metadata": {},
   "outputs": [
    {
     "data": {
      "text/plain": [
       "0.0    37669\n",
       "1.0     1792\n",
       "Name: testingFlag, dtype: int64"
      ]
     },
     "execution_count": 32,
     "metadata": {},
     "output_type": "execute_result"
    }
   ],
   "source": [
    "v.testingFlag.value_counts()"
   ]
  },
  {
   "cell_type": "code",
   "execution_count": 50,
   "metadata": {},
   "outputs": [],
   "source": [
    "new = v.drop(['CoreCaseGraphID', 'ExtendedCaseGraphID', 'testingFlag'], axis=1)\n",
    "\n",
    "core = core_ID.rename(columns={'CaseID': 'CoreCaseGraphID'}, index={'NodeID': 'node_id'})\n",
    "ext = ext_ID.rename(columns={'CaseID': 'ExtendedCaseGraphID'}, index={'NodeID': 'node_id'})\n",
    "core_test = core_test_ID.rename(columns={'CaseID': 'CoreCaseGraphID'}, index={'NodeID': 'node_id'})\n",
    "\n",
    "# testingFlag\n",
    "#TODO\n",
    "\n",
    "\n",
    "\n",
    "#test_flag = pd.merge(test_flag_0, test_flag_1, left_index=True, right_index=True, how='outer', on='testingFlag')\n",
    "final = pd.merge(new, core, left_index=True, right_index=True, how='left')\n",
    "final = pd.merge(final, ext, left_index=True, right_index=True, how='left')\n",
    "final = pd.merge(final, test_flag, left_index=True, right_index=True, how='left')\n",
    "final.index.name = 'node_id'\n",
    "\n",
    "idx = np.unique(final.index.values, return_index=True)[1]\n",
    "final = final.iloc[idx]"
   ]
  },
  {
   "cell_type": "code",
   "execution_count": null,
   "metadata": {},
   "outputs": [],
   "source": []
  },
  {
   "cell_type": "code",
   "execution_count": 24,
   "metadata": {},
   "outputs": [
    {
     "data": {
      "text/plain": [
       "(0, 10)"
      ]
     },
     "execution_count": 24,
     "metadata": {},
     "output_type": "execute_result"
    }
   ],
   "source": [
    "final[final.index.get_level_values('node_id').duplicated()].shape"
   ]
  },
  {
   "cell_type": "code",
   "execution_count": 21,
   "metadata": {},
   "outputs": [
    {
     "data": {
      "text/plain": [
       "(319376, 10)"
      ]
     },
     "execution_count": 21,
     "metadata": {},
     "output_type": "execute_result"
    }
   ],
   "source": [
    "v.shape"
   ]
  },
  {
   "cell_type": "code",
   "execution_count": 25,
   "metadata": {},
   "outputs": [
    {
     "data": {
      "text/html": [
       "<div>\n",
       "<style scoped>\n",
       "    .dataframe tbody tr th:only-of-type {\n",
       "        vertical-align: middle;\n",
       "    }\n",
       "\n",
       "    .dataframe tbody tr th {\n",
       "        vertical-align: top;\n",
       "    }\n",
       "\n",
       "    .dataframe thead th {\n",
       "        text-align: right;\n",
       "    }\n",
       "</style>\n",
       "<table border=\"1\" class=\"dataframe\">\n",
       "  <thead>\n",
       "    <tr style=\"text-align: right;\">\n",
       "      <th></th>\n",
       "      <th>Label</th>\n",
       "      <th>Revenue Size Flag</th>\n",
       "      <th>Account ID String</th>\n",
       "      <th>Address</th>\n",
       "      <th>Person or Organisation</th>\n",
       "      <th>Name</th>\n",
       "      <th>Income Size Flag</th>\n",
       "      <th>CoreCaseGraphID</th>\n",
       "      <th>ExtendedCaseGraphID</th>\n",
       "      <th>testingFlag</th>\n",
       "    </tr>\n",
       "    <tr>\n",
       "      <th>node_id</th>\n",
       "      <th></th>\n",
       "      <th></th>\n",
       "      <th></th>\n",
       "      <th></th>\n",
       "      <th></th>\n",
       "      <th></th>\n",
       "      <th></th>\n",
       "      <th></th>\n",
       "      <th></th>\n",
       "      <th></th>\n",
       "    </tr>\n",
       "  </thead>\n",
       "  <tbody>\n",
       "    <tr>\n",
       "      <th>100100</th>\n",
       "      <td>Customer</td>\n",
       "      <td>NaN</td>\n",
       "      <td>NaN</td>\n",
       "      <td>NaN</td>\n",
       "      <td>Person</td>\n",
       "      <td>CHURCH STREET TRUSTEES LIMITED as Trustees for...</td>\n",
       "      <td>medium</td>\n",
       "      <td>NaN</td>\n",
       "      <td>NaN</td>\n",
       "      <td>NaN</td>\n",
       "    </tr>\n",
       "    <tr>\n",
       "      <th>100101</th>\n",
       "      <td>Customer</td>\n",
       "      <td>NaN</td>\n",
       "      <td>NaN</td>\n",
       "      <td>NaN</td>\n",
       "      <td>Person</td>\n",
       "      <td>CN BETA LIMITED</td>\n",
       "      <td>high</td>\n",
       "      <td>NaN</td>\n",
       "      <td>NaN</td>\n",
       "      <td>NaN</td>\n",
       "    </tr>\n",
       "    <tr>\n",
       "      <th>100102</th>\n",
       "      <td>Customer</td>\n",
       "      <td>NaN</td>\n",
       "      <td>NaN</td>\n",
       "      <td>NaN</td>\n",
       "      <td>Organisation</td>\n",
       "      <td>CHURCH STREET TRUSTEES LIMITED AS TRUSTEES OF ...</td>\n",
       "      <td>high</td>\n",
       "      <td>NaN</td>\n",
       "      <td>NaN</td>\n",
       "      <td>NaN</td>\n",
       "    </tr>\n",
       "    <tr>\n",
       "      <th>100103</th>\n",
       "      <td>Customer</td>\n",
       "      <td>NaN</td>\n",
       "      <td>NaN</td>\n",
       "      <td>NaN</td>\n",
       "      <td>Organisation</td>\n",
       "      <td>BOS SECRETARIES ((JERSEY) LIMITED (formerly IN...</td>\n",
       "      <td>medium</td>\n",
       "      <td>NaN</td>\n",
       "      <td>NaN</td>\n",
       "      <td>NaN</td>\n",
       "    </tr>\n",
       "    <tr>\n",
       "      <th>100104</th>\n",
       "      <td>Customer</td>\n",
       "      <td>NaN</td>\n",
       "      <td>NaN</td>\n",
       "      <td>NaN</td>\n",
       "      <td>Person</td>\n",
       "      <td>CHURCH STREET TRUSTEES LIMITED</td>\n",
       "      <td>high</td>\n",
       "      <td>NaN</td>\n",
       "      <td>NaN</td>\n",
       "      <td>NaN</td>\n",
       "    </tr>\n",
       "    <tr>\n",
       "      <th>...</th>\n",
       "      <td>...</td>\n",
       "      <td>...</td>\n",
       "      <td>...</td>\n",
       "      <td>...</td>\n",
       "      <td>...</td>\n",
       "      <td>...</td>\n",
       "      <td>...</td>\n",
       "      <td>...</td>\n",
       "      <td>...</td>\n",
       "      <td>...</td>\n",
       "    </tr>\n",
       "    <tr>\n",
       "      <th>20030025114</th>\n",
       "      <td>Derived Entity</td>\n",
       "      <td>NaN</td>\n",
       "      <td>NaN</td>\n",
       "      <td>NaN</td>\n",
       "      <td>Person</td>\n",
       "      <td>gMsblvnPVn</td>\n",
       "      <td>NaN</td>\n",
       "      <td>NaN</td>\n",
       "      <td>NaN</td>\n",
       "      <td>NaN</td>\n",
       "    </tr>\n",
       "    <tr>\n",
       "      <th>20030025115</th>\n",
       "      <td>Derived Entity</td>\n",
       "      <td>NaN</td>\n",
       "      <td>NaN</td>\n",
       "      <td>NaN</td>\n",
       "      <td>Person</td>\n",
       "      <td>aWHuteBUnk</td>\n",
       "      <td>NaN</td>\n",
       "      <td>NaN</td>\n",
       "      <td>NaN</td>\n",
       "      <td>NaN</td>\n",
       "    </tr>\n",
       "    <tr>\n",
       "      <th>20030025116</th>\n",
       "      <td>Derived Entity</td>\n",
       "      <td>NaN</td>\n",
       "      <td>NaN</td>\n",
       "      <td>NaN</td>\n",
       "      <td>Person</td>\n",
       "      <td>E9VrY0MBsT</td>\n",
       "      <td>NaN</td>\n",
       "      <td>NaN</td>\n",
       "      <td>2031.0</td>\n",
       "      <td>0.0</td>\n",
       "    </tr>\n",
       "    <tr>\n",
       "      <th>20030025117</th>\n",
       "      <td>Derived Entity</td>\n",
       "      <td>NaN</td>\n",
       "      <td>NaN</td>\n",
       "      <td>NaN</td>\n",
       "      <td>Organisation</td>\n",
       "      <td>UjrIkskkUr</td>\n",
       "      <td>NaN</td>\n",
       "      <td>NaN</td>\n",
       "      <td>NaN</td>\n",
       "      <td>NaN</td>\n",
       "    </tr>\n",
       "    <tr>\n",
       "      <th>20030025118</th>\n",
       "      <td>Derived Entity</td>\n",
       "      <td>NaN</td>\n",
       "      <td>NaN</td>\n",
       "      <td>NaN</td>\n",
       "      <td>Organisation</td>\n",
       "      <td>9flY8l972P</td>\n",
       "      <td>NaN</td>\n",
       "      <td>NaN</td>\n",
       "      <td>NaN</td>\n",
       "      <td>NaN</td>\n",
       "    </tr>\n",
       "  </tbody>\n",
       "</table>\n",
       "<p>319376 rows × 10 columns</p>\n",
       "</div>"
      ],
      "text/plain": [
       "                      Label Revenue Size Flag Account ID String Address  \\\n",
       "node_id                                                                   \n",
       "100100             Customer               NaN               NaN     NaN   \n",
       "100101             Customer               NaN               NaN     NaN   \n",
       "100102             Customer               NaN               NaN     NaN   \n",
       "100103             Customer               NaN               NaN     NaN   \n",
       "100104             Customer               NaN               NaN     NaN   \n",
       "...                     ...               ...               ...     ...   \n",
       "20030025114  Derived Entity               NaN               NaN     NaN   \n",
       "20030025115  Derived Entity               NaN               NaN     NaN   \n",
       "20030025116  Derived Entity               NaN               NaN     NaN   \n",
       "20030025117  Derived Entity               NaN               NaN     NaN   \n",
       "20030025118  Derived Entity               NaN               NaN     NaN   \n",
       "\n",
       "            Person or Organisation  \\\n",
       "node_id                              \n",
       "100100                      Person   \n",
       "100101                      Person   \n",
       "100102                Organisation   \n",
       "100103                Organisation   \n",
       "100104                      Person   \n",
       "...                            ...   \n",
       "20030025114                 Person   \n",
       "20030025115                 Person   \n",
       "20030025116                 Person   \n",
       "20030025117           Organisation   \n",
       "20030025118           Organisation   \n",
       "\n",
       "                                                          Name  \\\n",
       "node_id                                                          \n",
       "100100       CHURCH STREET TRUSTEES LIMITED as Trustees for...   \n",
       "100101                                         CN BETA LIMITED   \n",
       "100102       CHURCH STREET TRUSTEES LIMITED AS TRUSTEES OF ...   \n",
       "100103       BOS SECRETARIES ((JERSEY) LIMITED (formerly IN...   \n",
       "100104                          CHURCH STREET TRUSTEES LIMITED   \n",
       "...                                                        ...   \n",
       "20030025114                                         gMsblvnPVn   \n",
       "20030025115                                         aWHuteBUnk   \n",
       "20030025116                                         E9VrY0MBsT   \n",
       "20030025117                                         UjrIkskkUr   \n",
       "20030025118                                         9flY8l972P   \n",
       "\n",
       "            Income Size Flag  CoreCaseGraphID  ExtendedCaseGraphID  \\\n",
       "node_id                                                              \n",
       "100100                medium              NaN                  NaN   \n",
       "100101                  high              NaN                  NaN   \n",
       "100102                  high              NaN                  NaN   \n",
       "100103                medium              NaN                  NaN   \n",
       "100104                  high              NaN                  NaN   \n",
       "...                      ...              ...                  ...   \n",
       "20030025114              NaN              NaN                  NaN   \n",
       "20030025115              NaN              NaN                  NaN   \n",
       "20030025116              NaN              NaN               2031.0   \n",
       "20030025117              NaN              NaN                  NaN   \n",
       "20030025118              NaN              NaN                  NaN   \n",
       "\n",
       "             testingFlag  \n",
       "node_id                   \n",
       "100100               NaN  \n",
       "100101               NaN  \n",
       "100102               NaN  \n",
       "100103               NaN  \n",
       "100104               NaN  \n",
       "...                  ...  \n",
       "20030025114          NaN  \n",
       "20030025115          NaN  \n",
       "20030025116          0.0  \n",
       "20030025117          NaN  \n",
       "20030025118          NaN  \n",
       "\n",
       "[319376 rows x 10 columns]"
      ]
     },
     "execution_count": 25,
     "metadata": {},
     "output_type": "execute_result"
    }
   ],
   "source": [
    "final"
   ]
  },
  {
   "cell_type": "code",
   "execution_count": 26,
   "metadata": {},
   "outputs": [
    {
     "data": {
      "text/plain": [
       "0.0    37775\n",
       "Name: testingFlag, dtype: int64"
      ]
     },
     "execution_count": 26,
     "metadata": {},
     "output_type": "execute_result"
    }
   ],
   "source": [
    "final.testingFlag.value_counts()"
   ]
  },
  {
   "cell_type": "code",
   "execution_count": null,
   "metadata": {},
   "outputs": [],
   "source": []
  },
  {
   "cell_type": "code",
   "execution_count": 30,
   "metadata": {},
   "outputs": [
    {
     "data": {
      "text/html": [
       "<div>\n",
       "<style scoped>\n",
       "    .dataframe tbody tr th:only-of-type {\n",
       "        vertical-align: middle;\n",
       "    }\n",
       "\n",
       "    .dataframe tbody tr th {\n",
       "        vertical-align: top;\n",
       "    }\n",
       "\n",
       "    .dataframe thead th {\n",
       "        text-align: right;\n",
       "    }\n",
       "</style>\n",
       "<table border=\"1\" class=\"dataframe\">\n",
       "  <thead>\n",
       "    <tr style=\"text-align: right;\">\n",
       "      <th></th>\n",
       "      <th>testingFlag</th>\n",
       "    </tr>\n",
       "    <tr>\n",
       "      <th>NodeID</th>\n",
       "      <th></th>\n",
       "    </tr>\n",
       "  </thead>\n",
       "  <tbody>\n",
       "    <tr>\n",
       "      <th>100107</th>\n",
       "      <td>0</td>\n",
       "    </tr>\n",
       "    <tr>\n",
       "      <th>100108</th>\n",
       "      <td>0</td>\n",
       "    </tr>\n",
       "    <tr>\n",
       "      <th>250119</th>\n",
       "      <td>0</td>\n",
       "    </tr>\n",
       "    <tr>\n",
       "      <th>1001010</th>\n",
       "      <td>0</td>\n",
       "    </tr>\n",
       "    <tr>\n",
       "      <th>1001013</th>\n",
       "      <td>0</td>\n",
       "    </tr>\n",
       "    <tr>\n",
       "      <th>...</th>\n",
       "      <td>...</td>\n",
       "    </tr>\n",
       "    <tr>\n",
       "      <th>20030025096</th>\n",
       "      <td>0</td>\n",
       "    </tr>\n",
       "    <tr>\n",
       "      <th>20030025099</th>\n",
       "      <td>0</td>\n",
       "    </tr>\n",
       "    <tr>\n",
       "      <th>20030025108</th>\n",
       "      <td>0</td>\n",
       "    </tr>\n",
       "    <tr>\n",
       "      <th>20030025109</th>\n",
       "      <td>0</td>\n",
       "    </tr>\n",
       "    <tr>\n",
       "      <th>20030025116</th>\n",
       "      <td>0</td>\n",
       "    </tr>\n",
       "  </tbody>\n",
       "</table>\n",
       "<p>37807 rows × 1 columns</p>\n",
       "</div>"
      ],
      "text/plain": [
       "             testingFlag\n",
       "NodeID                  \n",
       "100107                 0\n",
       "100108                 0\n",
       "250119                 0\n",
       "1001010                0\n",
       "1001013                0\n",
       "...                  ...\n",
       "20030025096            0\n",
       "20030025099            0\n",
       "20030025108            0\n",
       "20030025109            0\n",
       "20030025116            0\n",
       "\n",
       "[37807 rows x 1 columns]"
      ]
     },
     "execution_count": 30,
     "metadata": {},
     "output_type": "execute_result"
    }
   ],
   "source": [
    "test_flag_0"
   ]
  },
  {
   "cell_type": "code",
   "execution_count": 45,
   "metadata": {},
   "outputs": [
    {
     "data": {
      "text/html": [
       "<div>\n",
       "<style scoped>\n",
       "    .dataframe tbody tr th:only-of-type {\n",
       "        vertical-align: middle;\n",
       "    }\n",
       "\n",
       "    .dataframe tbody tr th {\n",
       "        vertical-align: top;\n",
       "    }\n",
       "\n",
       "    .dataframe thead th {\n",
       "        text-align: right;\n",
       "    }\n",
       "</style>\n",
       "<table border=\"1\" class=\"dataframe\">\n",
       "  <thead>\n",
       "    <tr style=\"text-align: right;\">\n",
       "      <th></th>\n",
       "      <th>testingFlag</th>\n",
       "    </tr>\n",
       "    <tr>\n",
       "      <th>NodeID</th>\n",
       "      <th></th>\n",
       "    </tr>\n",
       "  </thead>\n",
       "  <tbody>\n",
       "    <tr>\n",
       "      <th>250113064</th>\n",
       "      <td>1</td>\n",
       "    </tr>\n",
       "    <tr>\n",
       "      <th>1001012232</th>\n",
       "      <td>1</td>\n",
       "    </tr>\n",
       "    <tr>\n",
       "      <th>1001016719</th>\n",
       "      <td>1</td>\n",
       "    </tr>\n",
       "    <tr>\n",
       "      <th>1001015484</th>\n",
       "      <td>1</td>\n",
       "    </tr>\n",
       "    <tr>\n",
       "      <th>15020041159</th>\n",
       "      <td>1</td>\n",
       "    </tr>\n",
       "    <tr>\n",
       "      <th>...</th>\n",
       "      <td>...</td>\n",
       "    </tr>\n",
       "    <tr>\n",
       "      <th>1001045628</th>\n",
       "      <td>1</td>\n",
       "    </tr>\n",
       "    <tr>\n",
       "      <th>15020071663</th>\n",
       "      <td>1</td>\n",
       "    </tr>\n",
       "    <tr>\n",
       "      <th>2501128382</th>\n",
       "      <td>1</td>\n",
       "    </tr>\n",
       "    <tr>\n",
       "      <th>1001047057</th>\n",
       "      <td>1</td>\n",
       "    </tr>\n",
       "    <tr>\n",
       "      <th>15020044204</th>\n",
       "      <td>1</td>\n",
       "    </tr>\n",
       "  </tbody>\n",
       "</table>\n",
       "<p>32438 rows × 1 columns</p>\n",
       "</div>"
      ],
      "text/plain": [
       "             testingFlag\n",
       "NodeID                  \n",
       "250113064              1\n",
       "1001012232             1\n",
       "1001016719             1\n",
       "1001015484             1\n",
       "15020041159            1\n",
       "...                  ...\n",
       "1001045628             1\n",
       "15020071663            1\n",
       "2501128382             1\n",
       "1001047057             1\n",
       "15020044204            1\n",
       "\n",
       "[32438 rows x 1 columns]"
      ]
     },
     "execution_count": 45,
     "metadata": {},
     "output_type": "execute_result"
    }
   ],
   "source": [
    "test_flag_1"
   ]
  },
  {
   "cell_type": "code",
   "execution_count": null,
   "metadata": {},
   "outputs": [],
   "source": []
  }
 ],
 "metadata": {
  "kernelspec": {
   "display_name": "Python 3",
   "language": "python",
   "name": "python3"
  },
  "language_info": {
   "codemirror_mode": {
    "name": "ipython",
    "version": 3
   },
   "file_extension": ".py",
   "mimetype": "text/x-python",
   "name": "python",
   "nbconvert_exporter": "python",
   "pygments_lexer": "ipython3",
   "version": "3.8.2"
  }
 },
 "nbformat": 4,
 "nbformat_minor": 4
}
