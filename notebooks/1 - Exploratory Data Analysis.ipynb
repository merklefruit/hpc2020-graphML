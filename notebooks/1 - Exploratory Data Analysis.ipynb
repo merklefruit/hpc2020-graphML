{
 "cells": [
  {
   "cell_type": "markdown",
   "metadata": {},
   "source": [
    "# Exploratory Data Analysis"
   ]
  },
  {
   "cell_type": "code",
   "execution_count": 2,
   "metadata": {},
   "outputs": [],
   "source": [
    "import math, time, random, datetime\n",
    "import numpy as np\n",
    "import pandas as pd\n",
    "import matplotlib.pyplot as plt\n",
    "import missingno\n",
    "import seaborn as sns\n",
    "\n",
    "plt.style.use('seaborn-whitegrid')\n",
    "%matplotlib inline"
   ]
  },
  {
   "cell_type": "code",
   "execution_count": 3,
   "metadata": {},
   "outputs": [],
   "source": [
    "# Loading data\n",
    "\n",
    "edges = pd.read_csv(\"https://raw.githubusercontent.com/AlbertoParravicini/high-performance-graph-analytics-2020/main/track-ml/data/polimi.case.graphs.edges.csv\", low_memory=False)\n",
    "nodes = pd.read_csv(\"https://raw.githubusercontent.com/AlbertoParravicini/high-performance-graph-analytics-2020/main/track-ml/data/polimi.case.graphs.vertices.csv\", low_memory=False)"
   ]
  },
  {
   "cell_type": "markdown",
   "metadata": {},
   "source": [
    "## Nodes"
   ]
  },
  {
   "cell_type": "code",
   "execution_count": 4,
   "metadata": {},
   "outputs": [
    {
     "name": "stdout",
     "output_type": "stream",
     "text": [
      "<class 'pandas.core.frame.DataFrame'>\n",
      "RangeIndex: 319376 entries, 0 to 319375\n",
      "Data columns (total 11 columns):\n",
      " #   Column                  Non-Null Count   Dtype  \n",
      "---  ------                  --------------   -----  \n",
      " 0   node_id                 319376 non-null  int64  \n",
      " 1   Label                   319376 non-null  object \n",
      " 2   Revenue Size Flag       141876 non-null  object \n",
      " 3   Account ID String       141876 non-null  object \n",
      " 4   Address                 30000 non-null   object \n",
      " 5   Person or Organisation  147500 non-null  object \n",
      " 6   Name                    147500 non-null  object \n",
      " 7   Income Size Flag        56226 non-null   object \n",
      " 8   CoreCaseGraphID         10665 non-null   float64\n",
      " 9   ExtendedCaseGraphID     32438 non-null   float64\n",
      " 10  testingFlag             39461 non-null   float64\n",
      "dtypes: float64(3), int64(1), object(7)\n",
      "memory usage: 26.8+ MB\n"
     ]
    }
   ],
   "source": [
    "nodes.info()"
   ]
  },
  {
   "cell_type": "code",
   "execution_count": 5,
   "metadata": {},
   "outputs": [
    {
     "data": {
      "text/html": [
       "<div>\n",
       "<style scoped>\n",
       "    .dataframe tbody tr th:only-of-type {\n",
       "        vertical-align: middle;\n",
       "    }\n",
       "\n",
       "    .dataframe tbody tr th {\n",
       "        vertical-align: top;\n",
       "    }\n",
       "\n",
       "    .dataframe thead th {\n",
       "        text-align: right;\n",
       "    }\n",
       "</style>\n",
       "<table border=\"1\" class=\"dataframe\">\n",
       "  <thead>\n",
       "    <tr style=\"text-align: right;\">\n",
       "      <th></th>\n",
       "      <th>node_id</th>\n",
       "      <th>CoreCaseGraphID</th>\n",
       "      <th>ExtendedCaseGraphID</th>\n",
       "      <th>testingFlag</th>\n",
       "    </tr>\n",
       "  </thead>\n",
       "  <tbody>\n",
       "    <tr>\n",
       "      <th>count</th>\n",
       "      <td>3.193760e+05</td>\n",
       "      <td>10665.000000</td>\n",
       "      <td>32438.000000</td>\n",
       "      <td>39461.000000</td>\n",
       "    </tr>\n",
       "    <tr>\n",
       "      <th>mean</th>\n",
       "      <td>7.730689e+09</td>\n",
       "      <td>1971.711767</td>\n",
       "      <td>1877.953296</td>\n",
       "      <td>0.045412</td>\n",
       "    </tr>\n",
       "    <tr>\n",
       "      <th>std</th>\n",
       "      <td>6.917869e+09</td>\n",
       "      <td>1152.091974</td>\n",
       "      <td>1133.632233</td>\n",
       "      <td>0.208209</td>\n",
       "    </tr>\n",
       "    <tr>\n",
       "      <th>min</th>\n",
       "      <td>1.001000e+05</td>\n",
       "      <td>1.000000</td>\n",
       "      <td>1.000000</td>\n",
       "      <td>0.000000</td>\n",
       "    </tr>\n",
       "    <tr>\n",
       "      <th>25%</th>\n",
       "      <td>1.502012e+09</td>\n",
       "      <td>973.000000</td>\n",
       "      <td>897.000000</td>\n",
       "      <td>0.000000</td>\n",
       "    </tr>\n",
       "    <tr>\n",
       "      <th>50%</th>\n",
       "      <td>3.001167e+09</td>\n",
       "      <td>1956.000000</td>\n",
       "      <td>1847.000000</td>\n",
       "      <td>0.000000</td>\n",
       "    </tr>\n",
       "    <tr>\n",
       "      <th>75%</th>\n",
       "      <td>1.502007e+10</td>\n",
       "      <td>2961.000000</td>\n",
       "      <td>2805.000000</td>\n",
       "      <td>0.000000</td>\n",
       "    </tr>\n",
       "    <tr>\n",
       "      <th>max</th>\n",
       "      <td>2.003003e+10</td>\n",
       "      <td>4000.000000</td>\n",
       "      <td>4000.000000</td>\n",
       "      <td>1.000000</td>\n",
       "    </tr>\n",
       "  </tbody>\n",
       "</table>\n",
       "</div>"
      ],
      "text/plain": [
       "            node_id  CoreCaseGraphID  ExtendedCaseGraphID   testingFlag\n",
       "count  3.193760e+05     10665.000000         32438.000000  39461.000000\n",
       "mean   7.730689e+09      1971.711767          1877.953296      0.045412\n",
       "std    6.917869e+09      1152.091974          1133.632233      0.208209\n",
       "min    1.001000e+05         1.000000             1.000000      0.000000\n",
       "25%    1.502012e+09       973.000000           897.000000      0.000000\n",
       "50%    3.001167e+09      1956.000000          1847.000000      0.000000\n",
       "75%    1.502007e+10      2961.000000          2805.000000      0.000000\n",
       "max    2.003003e+10      4000.000000          4000.000000      1.000000"
      ]
     },
     "execution_count": 5,
     "metadata": {},
     "output_type": "execute_result"
    }
   ],
   "source": [
    "nodes.describe()"
   ]
  },
  {
   "cell_type": "code",
   "execution_count": 6,
   "metadata": {},
   "outputs": [
    {
     "data": {
      "text/html": [
       "<div>\n",
       "<style scoped>\n",
       "    .dataframe tbody tr th:only-of-type {\n",
       "        vertical-align: middle;\n",
       "    }\n",
       "\n",
       "    .dataframe tbody tr th {\n",
       "        vertical-align: top;\n",
       "    }\n",
       "\n",
       "    .dataframe thead th {\n",
       "        text-align: right;\n",
       "    }\n",
       "</style>\n",
       "<table border=\"1\" class=\"dataframe\">\n",
       "  <thead>\n",
       "    <tr style=\"text-align: right;\">\n",
       "      <th></th>\n",
       "      <th>node_id</th>\n",
       "      <th>Label</th>\n",
       "      <th>Revenue Size Flag</th>\n",
       "      <th>Account ID String</th>\n",
       "      <th>Address</th>\n",
       "      <th>Person or Organisation</th>\n",
       "      <th>Name</th>\n",
       "      <th>Income Size Flag</th>\n",
       "      <th>CoreCaseGraphID</th>\n",
       "      <th>ExtendedCaseGraphID</th>\n",
       "      <th>testingFlag</th>\n",
       "    </tr>\n",
       "  </thead>\n",
       "  <tbody>\n",
       "    <tr>\n",
       "      <th>0</th>\n",
       "      <td>1502000</td>\n",
       "      <td>Account</td>\n",
       "      <td>mid_high</td>\n",
       "      <td>RvIOFQqK0E</td>\n",
       "      <td>NaN</td>\n",
       "      <td>NaN</td>\n",
       "      <td>NaN</td>\n",
       "      <td>NaN</td>\n",
       "      <td>NaN</td>\n",
       "      <td>NaN</td>\n",
       "      <td>NaN</td>\n",
       "    </tr>\n",
       "    <tr>\n",
       "      <th>1</th>\n",
       "      <td>1502001</td>\n",
       "      <td>Account</td>\n",
       "      <td>low</td>\n",
       "      <td>cSnM0hVDsm</td>\n",
       "      <td>NaN</td>\n",
       "      <td>NaN</td>\n",
       "      <td>NaN</td>\n",
       "      <td>NaN</td>\n",
       "      <td>NaN</td>\n",
       "      <td>NaN</td>\n",
       "      <td>NaN</td>\n",
       "    </tr>\n",
       "    <tr>\n",
       "      <th>2</th>\n",
       "      <td>1502002</td>\n",
       "      <td>Account</td>\n",
       "      <td>low</td>\n",
       "      <td>WAQWpZi4AD</td>\n",
       "      <td>NaN</td>\n",
       "      <td>NaN</td>\n",
       "      <td>NaN</td>\n",
       "      <td>NaN</td>\n",
       "      <td>2492.0</td>\n",
       "      <td>NaN</td>\n",
       "      <td>0.0</td>\n",
       "    </tr>\n",
       "    <tr>\n",
       "      <th>3</th>\n",
       "      <td>1502003</td>\n",
       "      <td>Account</td>\n",
       "      <td>mid_high</td>\n",
       "      <td>n5J9mBTeZc</td>\n",
       "      <td>NaN</td>\n",
       "      <td>NaN</td>\n",
       "      <td>NaN</td>\n",
       "      <td>NaN</td>\n",
       "      <td>NaN</td>\n",
       "      <td>NaN</td>\n",
       "      <td>NaN</td>\n",
       "    </tr>\n",
       "    <tr>\n",
       "      <th>4</th>\n",
       "      <td>1502004</td>\n",
       "      <td>Account</td>\n",
       "      <td>low</td>\n",
       "      <td>qxlAEuUm7P</td>\n",
       "      <td>NaN</td>\n",
       "      <td>NaN</td>\n",
       "      <td>NaN</td>\n",
       "      <td>NaN</td>\n",
       "      <td>NaN</td>\n",
       "      <td>NaN</td>\n",
       "      <td>NaN</td>\n",
       "    </tr>\n",
       "  </tbody>\n",
       "</table>\n",
       "</div>"
      ],
      "text/plain": [
       "   node_id    Label Revenue Size Flag Account ID String Address  \\\n",
       "0  1502000  Account          mid_high        RvIOFQqK0E     NaN   \n",
       "1  1502001  Account               low        cSnM0hVDsm     NaN   \n",
       "2  1502002  Account               low        WAQWpZi4AD     NaN   \n",
       "3  1502003  Account          mid_high        n5J9mBTeZc     NaN   \n",
       "4  1502004  Account               low        qxlAEuUm7P     NaN   \n",
       "\n",
       "  Person or Organisation Name Income Size Flag  CoreCaseGraphID  \\\n",
       "0                    NaN  NaN              NaN              NaN   \n",
       "1                    NaN  NaN              NaN              NaN   \n",
       "2                    NaN  NaN              NaN           2492.0   \n",
       "3                    NaN  NaN              NaN              NaN   \n",
       "4                    NaN  NaN              NaN              NaN   \n",
       "\n",
       "   ExtendedCaseGraphID  testingFlag  \n",
       "0                  NaN          NaN  \n",
       "1                  NaN          NaN  \n",
       "2                  NaN          0.0  \n",
       "3                  NaN          NaN  \n",
       "4                  NaN          NaN  "
      ]
     },
     "execution_count": 6,
     "metadata": {},
     "output_type": "execute_result"
    }
   ],
   "source": [
    "nodes.head(5)"
   ]
  },
  {
   "cell_type": "code",
   "execution_count": 7,
   "metadata": {},
   "outputs": [
    {
     "data": {
      "text/plain": [
       "<AxesSubplot:>"
      ]
     },
     "execution_count": 7,
     "metadata": {},
     "output_type": "execute_result"
    },
    {
     "data": {
      "image/png": "[encoded data removed]",
      "text/plain": [
       "<Figure size 1008x720 with 2 Axes>"
      ]
     },
     "metadata": {
      "needs_background": "light"
     },
     "output_type": "display_data"
    }
   ],
   "source": [
    "missingno.matrix(nodes, figsize = (14, 10))"
   ]
  },
  {
   "cell_type": "code",
   "execution_count": 8,
   "metadata": {},
   "outputs": [
    {
     "data": {
      "text/plain": [
       "node_id                        0\n",
       "Label                          0\n",
       "Revenue Size Flag         177500\n",
       "Account ID String         177500\n",
       "Address                   289376\n",
       "Person or Organisation    171876\n",
       "Name                      171876\n",
       "Income Size Flag          263150\n",
       "CoreCaseGraphID           308711\n",
       "ExtendedCaseGraphID       286938\n",
       "testingFlag               279915\n",
       "dtype: int64"
      ]
     },
     "execution_count": 8,
     "metadata": {},
     "output_type": "execute_result"
    }
   ],
   "source": [
    "nodes.isnull().sum()"
   ]
  },
  {
   "cell_type": "code",
   "execution_count": 9,
   "metadata": {},
   "outputs": [
    {
     "data": {
      "text/plain": [
       "(319376, 11)"
      ]
     },
     "execution_count": 9,
     "metadata": {},
     "output_type": "execute_result"
    }
   ],
   "source": [
    "nodes.shape"
   ]
  },
  {
   "cell_type": "code",
   "execution_count": 10,
   "metadata": {},
   "outputs": [
    {
     "data": {
      "text/plain": [
       "node_id                     int64\n",
       "Label                      object\n",
       "Revenue Size Flag          object\n",
       "Account ID String          object\n",
       "Address                    object\n",
       "Person or Organisation     object\n",
       "Name                       object\n",
       "Income Size Flag           object\n",
       "CoreCaseGraphID           float64\n",
       "ExtendedCaseGraphID       float64\n",
       "testingFlag               float64\n",
       "dtype: object"
      ]
     },
     "execution_count": 10,
     "metadata": {},
     "output_type": "execute_result"
    }
   ],
   "source": [
    "nodes.dtypes"
   ]
  },
  {
   "cell_type": "markdown",
   "metadata": {},
   "source": [
    "## Edges"
   ]
  },
  {
   "cell_type": "code",
   "execution_count": 11,
   "metadata": {},
   "outputs": [
    {
     "name": "stdout",
     "output_type": "stream",
     "text": [
      "<class 'pandas.core.frame.DataFrame'>\n",
      "RangeIndex: 921876 entries, 0 to 921875\n",
      "Data columns (total 6 columns):\n",
      " #   Column               Non-Null Count   Dtype \n",
      "---  ------               --------------   ----- \n",
      " 0   edge_id              921876 non-null  int64 \n",
      " 1   from_id              921876 non-null  int64 \n",
      " 2   to_id                921876 non-null  int64 \n",
      " 3   Label                921876 non-null  object\n",
      " 4   Similarity Strength  110000 non-null  object\n",
      " 5   Amount Flag          500000 non-null  object\n",
      "dtypes: int64(3), object(3)\n",
      "memory usage: 42.2+ MB\n"
     ]
    }
   ],
   "source": [
    "edges.info()"
   ]
  },
  {
   "cell_type": "code",
   "execution_count": 12,
   "metadata": {},
   "outputs": [
    {
     "data": {
      "text/html": [
       "<div>\n",
       "<style scoped>\n",
       "    .dataframe tbody tr th:only-of-type {\n",
       "        vertical-align: middle;\n",
       "    }\n",
       "\n",
       "    .dataframe tbody tr th {\n",
       "        vertical-align: top;\n",
       "    }\n",
       "\n",
       "    .dataframe thead th {\n",
       "        text-align: right;\n",
       "    }\n",
       "</style>\n",
       "<table border=\"1\" class=\"dataframe\">\n",
       "  <thead>\n",
       "    <tr style=\"text-align: right;\">\n",
       "      <th></th>\n",
       "      <th>edge_id</th>\n",
       "      <th>from_id</th>\n",
       "      <th>to_id</th>\n",
       "    </tr>\n",
       "  </thead>\n",
       "  <tbody>\n",
       "    <tr>\n",
       "      <th>count</th>\n",
       "      <td>9.218760e+05</td>\n",
       "      <td>9.218760e+05</td>\n",
       "      <td>9.218760e+05</td>\n",
       "    </tr>\n",
       "    <tr>\n",
       "      <th>mean</th>\n",
       "      <td>4.018105e+11</td>\n",
       "      <td>8.922334e+09</td>\n",
       "      <td>1.160610e+10</td>\n",
       "    </tr>\n",
       "    <tr>\n",
       "      <th>std</th>\n",
       "      <td>1.619205e+11</td>\n",
       "      <td>7.791846e+09</td>\n",
       "      <td>6.191025e+09</td>\n",
       "    </tr>\n",
       "    <tr>\n",
       "      <th>min</th>\n",
       "      <td>5.000010e+06</td>\n",
       "      <td>1.001000e+05</td>\n",
       "      <td>2.501100e+05</td>\n",
       "    </tr>\n",
       "    <tr>\n",
       "      <th>25%</th>\n",
       "      <td>3.501112e+11</td>\n",
       "      <td>1.001037e+09</td>\n",
       "      <td>3.001169e+09</td>\n",
       "    </tr>\n",
       "    <tr>\n",
       "      <th>50%</th>\n",
       "      <td>4.001115e+11</td>\n",
       "      <td>1.502001e+10</td>\n",
       "      <td>1.502004e+10</td>\n",
       "    </tr>\n",
       "    <tr>\n",
       "      <th>75%</th>\n",
       "      <td>5.001116e+11</td>\n",
       "      <td>1.502007e+10</td>\n",
       "      <td>1.502007e+10</td>\n",
       "    </tr>\n",
       "    <tr>\n",
       "      <th>max</th>\n",
       "      <td>6.501119e+11</td>\n",
       "      <td>2.003003e+10</td>\n",
       "      <td>2.003003e+10</td>\n",
       "    </tr>\n",
       "  </tbody>\n",
       "</table>\n",
       "</div>"
      ],
      "text/plain": [
       "            edge_id       from_id         to_id\n",
       "count  9.218760e+05  9.218760e+05  9.218760e+05\n",
       "mean   4.018105e+11  8.922334e+09  1.160610e+10\n",
       "std    1.619205e+11  7.791846e+09  6.191025e+09\n",
       "min    5.000010e+06  1.001000e+05  2.501100e+05\n",
       "25%    3.501112e+11  1.001037e+09  3.001169e+09\n",
       "50%    4.001115e+11  1.502001e+10  1.502004e+10\n",
       "75%    5.001116e+11  1.502007e+10  1.502007e+10\n",
       "max    6.501119e+11  2.003003e+10  2.003003e+10"
      ]
     },
     "execution_count": 12,
     "metadata": {},
     "output_type": "execute_result"
    }
   ],
   "source": [
    "edges.describe()"
   ]
  },
  {
   "cell_type": "code",
   "execution_count": 13,
   "metadata": {},
   "outputs": [
    {
     "data": {
      "text/html": [
       "<div>\n",
       "<style scoped>\n",
       "    .dataframe tbody tr th:only-of-type {\n",
       "        vertical-align: middle;\n",
       "    }\n",
       "\n",
       "    .dataframe tbody tr th {\n",
       "        vertical-align: top;\n",
       "    }\n",
       "\n",
       "    .dataframe thead th {\n",
       "        text-align: right;\n",
       "    }\n",
       "</style>\n",
       "<table border=\"1\" class=\"dataframe\">\n",
       "  <thead>\n",
       "    <tr style=\"text-align: right;\">\n",
       "      <th></th>\n",
       "      <th>edge_id</th>\n",
       "      <th>from_id</th>\n",
       "      <th>to_id</th>\n",
       "      <th>Label</th>\n",
       "      <th>Similarity Strength</th>\n",
       "      <th>Amount Flag</th>\n",
       "    </tr>\n",
       "  </thead>\n",
       "  <tbody>\n",
       "    <tr>\n",
       "      <th>0</th>\n",
       "      <td>400111489790</td>\n",
       "      <td>1502000</td>\n",
       "      <td>2003003713</td>\n",
       "      <td>money transfer</td>\n",
       "      <td>NaN</td>\n",
       "      <td>medium</td>\n",
       "    </tr>\n",
       "    <tr>\n",
       "      <th>1</th>\n",
       "      <td>400111390345</td>\n",
       "      <td>1502000</td>\n",
       "      <td>20030012850</td>\n",
       "      <td>money transfer</td>\n",
       "      <td>NaN</td>\n",
       "      <td>small</td>\n",
       "    </tr>\n",
       "    <tr>\n",
       "      <th>2</th>\n",
       "      <td>350111213741</td>\n",
       "      <td>1502001</td>\n",
       "      <td>15020066888</td>\n",
       "      <td>money transfer</td>\n",
       "      <td>NaN</td>\n",
       "      <td>small</td>\n",
       "    </tr>\n",
       "    <tr>\n",
       "      <th>3</th>\n",
       "      <td>350111280215</td>\n",
       "      <td>1502001</td>\n",
       "      <td>15020063877</td>\n",
       "      <td>money transfer</td>\n",
       "      <td>NaN</td>\n",
       "      <td>medium</td>\n",
       "    </tr>\n",
       "    <tr>\n",
       "      <th>4</th>\n",
       "      <td>400111415408</td>\n",
       "      <td>1502001</td>\n",
       "      <td>20030019012</td>\n",
       "      <td>money transfer</td>\n",
       "      <td>NaN</td>\n",
       "      <td>small</td>\n",
       "    </tr>\n",
       "  </tbody>\n",
       "</table>\n",
       "</div>"
      ],
      "text/plain": [
       "        edge_id  from_id        to_id           Label Similarity Strength  \\\n",
       "0  400111489790  1502000   2003003713  money transfer                 NaN   \n",
       "1  400111390345  1502000  20030012850  money transfer                 NaN   \n",
       "2  350111213741  1502001  15020066888  money transfer                 NaN   \n",
       "3  350111280215  1502001  15020063877  money transfer                 NaN   \n",
       "4  400111415408  1502001  20030019012  money transfer                 NaN   \n",
       "\n",
       "  Amount Flag  \n",
       "0      medium  \n",
       "1       small  \n",
       "2       small  \n",
       "3      medium  \n",
       "4       small  "
      ]
     },
     "execution_count": 13,
     "metadata": {},
     "output_type": "execute_result"
    }
   ],
   "source": [
    "edges.head(5)"
   ]
  },
  {
   "cell_type": "code",
   "execution_count": 14,
   "metadata": {},
   "outputs": [
    {
     "data": {
      "text/plain": [
       "<AxesSubplot:>"
      ]
     },
     "execution_count": 14,
     "metadata": {},
     "output_type": "execute_result"
    },
    {
     "data": {
      "image/png": "[encoded data removed]",
      "text/plain": [
       "<Figure size 1008x720 with 2 Axes>"
      ]
     },
     "metadata": {
      "needs_background": "light"
     },
     "output_type": "display_data"
    }
   ],
   "source": [
    "missingno.matrix(edges, figsize = (14, 10))"
   ]
  },
  {
   "cell_type": "code",
   "execution_count": 15,
   "metadata": {},
   "outputs": [
    {
     "data": {
      "text/plain": [
       "edge_id                     0\n",
       "from_id                     0\n",
       "to_id                       0\n",
       "Label                       0\n",
       "Similarity Strength    811876\n",
       "Amount Flag            421876\n",
       "dtype: int64"
      ]
     },
     "execution_count": 15,
     "metadata": {},
     "output_type": "execute_result"
    }
   ],
   "source": [
    "edges.isnull().sum()"
   ]
  },
  {
   "cell_type": "code",
   "execution_count": 16,
   "metadata": {},
   "outputs": [
    {
     "data": {
      "text/plain": [
       "(921876, 6)"
      ]
     },
     "execution_count": 16,
     "metadata": {},
     "output_type": "execute_result"
    }
   ],
   "source": [
    "edges.shape"
   ]
  },
  {
   "cell_type": "code",
   "execution_count": 17,
   "metadata": {},
   "outputs": [
    {
     "data": {
      "text/plain": [
       "edge_id                 int64\n",
       "from_id                 int64\n",
       "to_id                   int64\n",
       "Label                  object\n",
       "Similarity Strength    object\n",
       "Amount Flag            object\n",
       "dtype: object"
      ]
     },
     "execution_count": 17,
     "metadata": {},
     "output_type": "execute_result"
    }
   ],
   "source": [
    "edges.dtypes"
   ]
  },
  {
   "cell_type": "markdown",
   "metadata": {},
   "source": [
    "## More in-depth Analysis"
   ]
  },
  {
   "cell_type": "code",
   "execution_count": 18,
   "metadata": {},
   "outputs": [
    {
     "name": "stdout",
     "output_type": "stream",
     "text": [
      "Core Cases:  4000\n"
     ]
    }
   ],
   "source": [
    "print(\"Core Cases: \",len(nodes.CoreCaseGraphID.value_counts()))"
   ]
  },
  {
   "cell_type": "code",
   "execution_count": 19,
   "metadata": {},
   "outputs": [
    {
     "name": "stdout",
     "output_type": "stream",
     "text": [
      "Testing nodes:  39461\n"
     ]
    }
   ],
   "source": [
    "print(\"Testing nodes: \",nodes.testingFlag.notnull().sum())"
   ]
  },
  {
   "cell_type": "code",
   "execution_count": 20,
   "metadata": {},
   "outputs": [
    {
     "data": {
      "text/plain": [
       "2.66625"
      ]
     },
     "execution_count": 20,
     "metadata": {},
     "output_type": "execute_result"
    }
   ],
   "source": [
    "# Average number of nodes with the same Core case ID:\n",
    "\n",
    "nodes.groupby(['CoreCaseGraphID']).size().mean()"
   ]
  },
  {
   "cell_type": "code",
   "execution_count": 21,
   "metadata": {},
   "outputs": [
    {
     "data": {
      "text/plain": [
       "10.766013939595087"
      ]
     },
     "execution_count": 21,
     "metadata": {},
     "output_type": "execute_result"
    }
   ],
   "source": [
    "nodes.groupby(['ExtendedCaseGraphID']).size().mean()"
   ]
  },
  {
   "cell_type": "code",
   "execution_count": 22,
   "metadata": {},
   "outputs": [
    {
     "data": {
      "text/plain": [
       "1.0"
      ]
     },
     "execution_count": 22,
     "metadata": {},
     "output_type": "execute_result"
    }
   ],
   "source": [
    "# Average number of nodes with the same address\n",
    "\n",
    "nodes.groupby(['Address']).size().mean()"
   ]
  },
  {
   "cell_type": "code",
   "execution_count": 23,
   "metadata": {
    "scrolled": false
   },
   "outputs": [
    {
     "data": {
      "text/plain": [
       "Name\n",
       "(CYP)MENWIN BUSINESS CONSULTANT LTD.             2\n",
       "(E.R.I.) Holding SAL                             1\n",
       "(GENEVA CLIENT)  CUART ABOGADOS                  1\n",
       "(GENEVA CLIENT)  EUROPA TRUST COMPANY LIMITED    1\n",
       "(GENEVA CLIENT)  FARIA, DAVID                    1\n",
       "                                                ..\n",
       "zzyCkSOFEi                                       1\n",
       "zzziJKWaFd                                       1\n",
       "ÁNGELA MARÍA SÁNCHEZ ARISTIZABAL                 1\n",
       "ÂNGELO CRICA                                     1\n",
       "ÉQUITAS ESTUDIO JURIDICO                         1\n",
       "Length: 143486, dtype: int64"
      ]
     },
     "execution_count": 23,
     "metadata": {},
     "output_type": "execute_result"
    }
   ],
   "source": [
    "nodes.groupby(['Name']).size()"
   ]
  },
  {
   "cell_type": "code",
   "execution_count": 24,
   "metadata": {},
   "outputs": [
    {
     "data": {
      "text/plain": [
       "0"
      ]
     },
     "execution_count": 24,
     "metadata": {},
     "output_type": "execute_result"
    }
   ],
   "source": [
    "# Nodes that only have an ID and a label and nothing else\n",
    "# (without looking at core cases)\n",
    "\n",
    "nodes[nodes['Revenue Size Flag'].isna() & \n",
    "      nodes['Account ID String'].isna() & \n",
    "      nodes['Address'].isna() &\n",
    "      nodes['Person or Organisation'].isna() &\n",
    "      nodes['Name'].isna() &\n",
    "      nodes['Income Size Flag'].isna()\n",
    "     ].shape[0]"
   ]
  },
  {
   "cell_type": "code",
   "execution_count": 25,
   "metadata": {
    "scrolled": true
   },
   "outputs": [
    {
     "data": {
      "text/plain": [
       "Address     CoreCaseGraphID\n",
       "0TvH4PSFzP  1265.0             1\n",
       "0h2d0khB13  21.0               1\n",
       "0ilIw8k1iP  1781.0             1\n",
       "18Ys0kjDxb  490.0              1\n",
       "1WQFkNjmmP  3030.0             1\n",
       "                              ..\n",
       "ymNKgGe8SG  2795.0             1\n",
       "zNN7T5yJZ7  2545.0             1\n",
       "zPjsLO0Dpe  3824.0             1\n",
       "zRqhR6Mni2  347.0              1\n",
       "zY185mtj2f  1285.0             1\n",
       "Length: 327, dtype: int64"
      ]
     },
     "execution_count": 25,
     "metadata": {},
     "output_type": "execute_result"
    }
   ],
   "source": [
    "# Address of nodes that are part of a core case\n",
    "\n",
    "nodes.groupby(['Address', 'CoreCaseGraphID']).size()"
   ]
  },
  {
   "cell_type": "code",
   "execution_count": 26,
   "metadata": {},
   "outputs": [
    {
     "data": {
      "text/plain": [
       "Account ID String  CoreCaseGraphID\n",
       "009Hse6y9M         1523.0             1\n",
       "0329KxdruB         53.0               1\n",
       "039F6mA1X6         1244.0             1\n",
       "03b1rPoLh3         260.0              1\n",
       "05XCyDvbbS         1566.0             1\n",
       "                                     ..\n",
       "zxdXmHdrZ6         694.0              1\n",
       "zyLVjwaB00         400.0              1\n",
       "zyT6gv6ExG         119.0              1\n",
       "zyYNQwOShV         3700.0             1\n",
       "zzzMI7t7lo         3817.0             1\n",
       "Length: 5988, dtype: int64"
      ]
     },
     "execution_count": 26,
     "metadata": {},
     "output_type": "execute_result"
    }
   ],
   "source": [
    "# Account ID String of nodes that are part of a core case\n",
    "\n",
    "nodes.groupby(['Account ID String', 'CoreCaseGraphID']).size()"
   ]
  },
  {
   "cell_type": "code",
   "execution_count": 27,
   "metadata": {
    "scrolled": false
   },
   "outputs": [
    {
     "data": {
      "text/html": [
       "<div>\n",
       "<style scoped>\n",
       "    .dataframe tbody tr th:only-of-type {\n",
       "        vertical-align: middle;\n",
       "    }\n",
       "\n",
       "    .dataframe tbody tr th {\n",
       "        vertical-align: top;\n",
       "    }\n",
       "\n",
       "    .dataframe thead th {\n",
       "        text-align: right;\n",
       "    }\n",
       "</style>\n",
       "<table border=\"1\" class=\"dataframe\">\n",
       "  <thead>\n",
       "    <tr style=\"text-align: right;\">\n",
       "      <th></th>\n",
       "      <th>Name</th>\n",
       "      <th>CoreCaseGraphID</th>\n",
       "    </tr>\n",
       "  </thead>\n",
       "  <tbody>\n",
       "    <tr>\n",
       "      <th>317351</th>\n",
       "      <td>ar1w4WV0si</td>\n",
       "      <td>2912.0</td>\n",
       "    </tr>\n",
       "    <tr>\n",
       "      <th>317361</th>\n",
       "      <td>mzqljMuCNS</td>\n",
       "      <td>2801.0</td>\n",
       "    </tr>\n",
       "    <tr>\n",
       "      <th>317377</th>\n",
       "      <td>GHJMd1J17E</td>\n",
       "      <td>949.0</td>\n",
       "    </tr>\n",
       "    <tr>\n",
       "      <th>317396</th>\n",
       "      <td>SEdWtAj37P</td>\n",
       "      <td>3492.0</td>\n",
       "    </tr>\n",
       "    <tr>\n",
       "      <th>317400</th>\n",
       "      <td>uLsdLIQ0ls</td>\n",
       "      <td>2585.0</td>\n",
       "    </tr>\n",
       "    <tr>\n",
       "      <th>317506</th>\n",
       "      <td>T1ELwFJmAa</td>\n",
       "      <td>3477.0</td>\n",
       "    </tr>\n",
       "    <tr>\n",
       "      <th>317743</th>\n",
       "      <td>KjHwozK9Dq</td>\n",
       "      <td>3540.0</td>\n",
       "    </tr>\n",
       "    <tr>\n",
       "      <th>318002</th>\n",
       "      <td>NQ3fpgbKQH</td>\n",
       "      <td>2915.0</td>\n",
       "    </tr>\n",
       "    <tr>\n",
       "      <th>318348</th>\n",
       "      <td>zXkG6OK762</td>\n",
       "      <td>645.0</td>\n",
       "    </tr>\n",
       "    <tr>\n",
       "      <th>318552</th>\n",
       "      <td>OLEgM6B71k</td>\n",
       "      <td>1217.0</td>\n",
       "    </tr>\n",
       "    <tr>\n",
       "      <th>318694</th>\n",
       "      <td>Kz1AZgzJOB</td>\n",
       "      <td>3512.0</td>\n",
       "    </tr>\n",
       "    <tr>\n",
       "      <th>318700</th>\n",
       "      <td>OZ5iHYueTh</td>\n",
       "      <td>2615.0</td>\n",
       "    </tr>\n",
       "    <tr>\n",
       "      <th>318794</th>\n",
       "      <td>aOMo3L2Zkj</td>\n",
       "      <td>2239.0</td>\n",
       "    </tr>\n",
       "    <tr>\n",
       "      <th>318903</th>\n",
       "      <td>8FdzUeFYKA</td>\n",
       "      <td>2946.0</td>\n",
       "    </tr>\n",
       "    <tr>\n",
       "      <th>318920</th>\n",
       "      <td>d93X2qEz32</td>\n",
       "      <td>1329.0</td>\n",
       "    </tr>\n",
       "    <tr>\n",
       "      <th>319007</th>\n",
       "      <td>ktpn92pYba</td>\n",
       "      <td>2944.0</td>\n",
       "    </tr>\n",
       "    <tr>\n",
       "      <th>319045</th>\n",
       "      <td>oTb9otaFzj</td>\n",
       "      <td>185.0</td>\n",
       "    </tr>\n",
       "    <tr>\n",
       "      <th>319155</th>\n",
       "      <td>fijFNprNNz</td>\n",
       "      <td>167.0</td>\n",
       "    </tr>\n",
       "    <tr>\n",
       "      <th>319161</th>\n",
       "      <td>ya2hhIr29k</td>\n",
       "      <td>1928.0</td>\n",
       "    </tr>\n",
       "    <tr>\n",
       "      <th>319276</th>\n",
       "      <td>clTOIyIWFJ</td>\n",
       "      <td>1969.0</td>\n",
       "    </tr>\n",
       "  </tbody>\n",
       "</table>\n",
       "</div>"
      ],
      "text/plain": [
       "              Name  CoreCaseGraphID\n",
       "317351  ar1w4WV0si           2912.0\n",
       "317361  mzqljMuCNS           2801.0\n",
       "317377  GHJMd1J17E            949.0\n",
       "317396  SEdWtAj37P           3492.0\n",
       "317400  uLsdLIQ0ls           2585.0\n",
       "317506  T1ELwFJmAa           3477.0\n",
       "317743  KjHwozK9Dq           3540.0\n",
       "318002  NQ3fpgbKQH           2915.0\n",
       "318348  zXkG6OK762            645.0\n",
       "318552  OLEgM6B71k           1217.0\n",
       "318694  Kz1AZgzJOB           3512.0\n",
       "318700  OZ5iHYueTh           2615.0\n",
       "318794  aOMo3L2Zkj           2239.0\n",
       "318903  8FdzUeFYKA           2946.0\n",
       "318920  d93X2qEz32           1329.0\n",
       "319007  ktpn92pYba           2944.0\n",
       "319045  oTb9otaFzj            185.0\n",
       "319155  fijFNprNNz            167.0\n",
       "319161  ya2hhIr29k           1928.0\n",
       "319276  clTOIyIWFJ           1969.0"
      ]
     },
     "execution_count": 27,
     "metadata": {},
     "output_type": "execute_result"
    }
   ],
   "source": [
    "# Name of nodes that are part of a core case\n",
    "\n",
    "mask = nodes.loc[nodes['CoreCaseGraphID'].notnull()]\n",
    "no_name = mask['Name'].isna().sum()\n",
    "mask = mask.loc[mask['Name'].notnull()]\n",
    "mask = mask[['Name','CoreCaseGraphID']]\n",
    "\n",
    "mask.tail(20)"
   ]
  },
  {
   "cell_type": "code",
   "execution_count": 28,
   "metadata": {},
   "outputs": [
    {
     "data": {
      "text/plain": [
       "6315"
      ]
     },
     "execution_count": 28,
     "metadata": {},
     "output_type": "execute_result"
    }
   ],
   "source": [
    "# Nodes that are part of a core case and don't have a Name\n",
    "\n",
    "no_name"
   ]
  },
  {
   "cell_type": "code",
   "execution_count": 29,
   "metadata": {},
   "outputs": [
    {
     "data": {
      "text/plain": [
       "10042"
      ]
     },
     "execution_count": 29,
     "metadata": {},
     "output_type": "execute_result"
    }
   ],
   "source": [
    "# Number of extended cases for each node type\n",
    "\n",
    "accounts = nodes.loc[nodes['Label'] == 'Account']\n",
    "accounts['ExtendedCaseGraphID'].notnull().sum()"
   ]
  },
  {
   "cell_type": "code",
   "execution_count": 30,
   "metadata": {},
   "outputs": [
    {
     "data": {
      "text/plain": [
       "12357"
      ]
     },
     "execution_count": 30,
     "metadata": {},
     "output_type": "execute_result"
    }
   ],
   "source": [
    "accounts = nodes.loc[nodes['Label'] == 'Customer']\n",
    "accounts['ExtendedCaseGraphID'].notnull().sum()"
   ]
  },
  {
   "cell_type": "code",
   "execution_count": 31,
   "metadata": {},
   "outputs": [
    {
     "data": {
      "text/plain": [
       "1568"
      ]
     },
     "execution_count": 31,
     "metadata": {},
     "output_type": "execute_result"
    }
   ],
   "source": [
    "accounts = nodes.loc[nodes['Label'] == 'Address']\n",
    "accounts['ExtendedCaseGraphID'].notnull().sum()"
   ]
  },
  {
   "cell_type": "code",
   "execution_count": 32,
   "metadata": {},
   "outputs": [
    {
     "data": {
      "text/plain": [
       "3825"
      ]
     },
     "execution_count": 32,
     "metadata": {},
     "output_type": "execute_result"
    }
   ],
   "source": [
    "accounts = nodes.loc[nodes['Label'] == 'Derived Entity']\n",
    "accounts['ExtendedCaseGraphID'].notnull().sum()"
   ]
  },
  {
   "cell_type": "code",
   "execution_count": 33,
   "metadata": {},
   "outputs": [
    {
     "data": {
      "text/plain": [
       "4646"
      ]
     },
     "execution_count": 33,
     "metadata": {},
     "output_type": "execute_result"
    }
   ],
   "source": [
    "accounts = nodes.loc[nodes['Label'] == 'External Entity']\n",
    "accounts['ExtendedCaseGraphID'].notnull().sum()"
   ]
  },
  {
   "cell_type": "code",
   "execution_count": 34,
   "metadata": {},
   "outputs": [],
   "source": [
    "# So most fraudolent nodes are the \"Account\" and \"Customer\" nodes by far!\n",
    "# Ranked:\n",
    "\n",
    "# 1: Customer\n",
    "# 2: Account\n",
    "# 3: External Entity\n",
    "# 4: Derived Entity\n",
    "# 5: Address\n",
    "\n",
    "# With just Customer, Account and Derived Entity I have 80% of all the cases."
   ]
  }
 ],
 "metadata": {
  "kernelspec": {
   "display_name": "Python 3",
   "language": "python",
   "name": "python3"
  },
  "language_info": {
   "codemirror_mode": {
    "name": "ipython",
    "version": 3
   },
   "file_extension": ".py",
   "mimetype": "text/x-python",
   "name": "python",
   "nbconvert_exporter": "python",
   "pygments_lexer": "ipython3",
   "version": "3.8.2"
  }
 },
 "nbformat": 4,
 "nbformat_minor": 4
}
